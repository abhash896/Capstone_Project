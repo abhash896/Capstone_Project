{
 "cells": [
  {
   "cell_type": "code",
   "execution_count": 1,
   "id": "47e63596",
   "metadata": {
    "_execution_state": "idle",
    "_uuid": "051d70d956493feee0c6d64651c6a088724dca2a",
    "execution": {
     "iopub.execute_input": "2021-07-07T10:17:20.631297Z",
     "iopub.status.busy": "2021-07-07T10:17:20.628268Z",
     "iopub.status.idle": "2021-07-07T10:17:21.971159Z",
     "shell.execute_reply": "2021-07-07T10:17:21.969397Z"
    },
    "papermill": {
     "duration": 1.380719,
     "end_time": "2021-07-07T10:17:21.971324",
     "exception": false,
     "start_time": "2021-07-07T10:17:20.590605",
     "status": "completed"
    },
    "tags": []
   },
   "outputs": [
    {
     "name": "stderr",
     "output_type": "stream",
     "text": [
      "── \u001b[1mAttaching packages\u001b[22m ─────────────────────────────────────── tidyverse 1.3.1 ──\n",
      "\n",
      "\u001b[32m✔\u001b[39m \u001b[34mggplot2\u001b[39m 3.3.4     \u001b[32m✔\u001b[39m \u001b[34mpurrr  \u001b[39m 0.3.4\n",
      "\u001b[32m✔\u001b[39m \u001b[34mtibble \u001b[39m 3.1.2     \u001b[32m✔\u001b[39m \u001b[34mdplyr  \u001b[39m 1.0.7\n",
      "\u001b[32m✔\u001b[39m \u001b[34mtidyr  \u001b[39m 1.1.3     \u001b[32m✔\u001b[39m \u001b[34mstringr\u001b[39m 1.4.0\n",
      "\u001b[32m✔\u001b[39m \u001b[34mreadr  \u001b[39m 1.4.0     \u001b[32m✔\u001b[39m \u001b[34mforcats\u001b[39m 0.5.1\n",
      "\n",
      "── \u001b[1mConflicts\u001b[22m ────────────────────────────────────────── tidyverse_conflicts() ──\n",
      "\u001b[31m✖\u001b[39m \u001b[34mdplyr\u001b[39m::\u001b[32mfilter()\u001b[39m masks \u001b[34mstats\u001b[39m::filter()\n",
      "\u001b[31m✖\u001b[39m \u001b[34mdplyr\u001b[39m::\u001b[32mlag()\u001b[39m    masks \u001b[34mstats\u001b[39m::lag()\n",
      "\n"
     ]
    },
    {
     "data": {
      "text/html": [
       "'cyclistic-bikeshare'"
      ],
      "text/latex": [
       "'cyclistic-bikeshare'"
      ],
      "text/markdown": [
       "'cyclistic-bikeshare'"
      ],
      "text/plain": [
       "[1] \"cyclistic-bikeshare\""
      ]
     },
     "metadata": {},
     "output_type": "display_data"
    }
   ],
   "source": [
    "# This R environment comes with many helpful analytics packages installed\n",
    "# It is defined by the kaggle/rstats Docker image: https://github.com/kaggle/docker-rstats\n",
    "# For example, here's a helpful package to load\n",
    "\n",
    "library(tidyverse) # metapackage of all tidyverse packages\n",
    "\n",
    "# Input data files are available in the read-only \"../input/\" directory\n",
    "# For example, running this (by clicking run or pressing Shift+Enter) will list all files under the input directory\n",
    "\n",
    "list.files(path = \"../input\")\n",
    "\n",
    "# You can write up to 20GB to the current directory (/kaggle/working/) that gets preserved as output when you create a version using \"Save & Run All\" \n",
    "# You can also write temporary files to /kaggle/temp/, but they won't be saved outside of the current session"
   ]
  },
  {
   "cell_type": "markdown",
   "id": "6d67203f",
   "metadata": {
    "papermill": {
     "duration": 0.034015,
     "end_time": "2021-07-07T10:17:22.039534",
     "exception": false,
     "start_time": "2021-07-07T10:17:22.005519",
     "status": "completed"
    },
    "tags": []
   },
   "source": [
    "# Introduction\n",
    "\n",
    "This work is a case study on the analysis of a fictional company named \"Cyclistic bike-share\". This case study is about understanding the usage behavior of casual riders and annual members for cyclistic bikes and how they differ from each other.\n",
    "The insights from this analysis can be utilized to design a new marketing strategy to convert casual riders into annual members as the company’s future success depends on maximizing the number of annual memberships.\n",
    "\n",
    "The dataset used in this case study has a different name because Cyclistic is a fictional company. For the purposes of this case study, the dataset is appropriate. The data has been made available by Motivate International Inc. under this [license](https://www.divvybikes.com/data-license-agreement).\n",
    "\n",
    "The dataset can be downloaded from [here](https://divvy-tripdata.s3.amazonaws.com/index.html)."
   ]
  },
  {
   "cell_type": "markdown",
   "id": "ef726a5c",
   "metadata": {
    "papermill": {
     "duration": 0.033404,
     "end_time": "2021-07-07T10:17:22.105959",
     "exception": false,
     "start_time": "2021-07-07T10:17:22.072555",
     "status": "completed"
    },
    "tags": []
   },
   "source": [
    "# Loading the cyclistic dataset\n",
    "\n",
    "First step of data analysis Process"
   ]
  },
  {
   "cell_type": "code",
   "execution_count": 2,
   "id": "88ed8af4",
   "metadata": {
    "execution": {
     "iopub.execute_input": "2021-07-07T10:17:22.206815Z",
     "iopub.status.busy": "2021-07-07T10:17:22.176511Z",
     "iopub.status.idle": "2021-07-07T10:17:25.342889Z",
     "shell.execute_reply": "2021-07-07T10:17:25.341468Z"
    },
    "papermill": {
     "duration": 3.203763,
     "end_time": "2021-07-07T10:17:25.343088",
     "exception": false,
     "start_time": "2021-07-07T10:17:22.139325",
     "status": "completed"
    },
    "tags": []
   },
   "outputs": [
    {
     "name": "stderr",
     "output_type": "stream",
     "text": [
      "\n",
      "\u001b[36m──\u001b[39m \u001b[1m\u001b[1mColumn specification\u001b[1m\u001b[22m \u001b[36m────────────────────────────────────────────────────────\u001b[39m\n",
      "cols(\n",
      "  ride_id = \u001b[31mcol_character()\u001b[39m,\n",
      "  rideable_type = \u001b[31mcol_character()\u001b[39m,\n",
      "  started_at = \u001b[31mcol_character()\u001b[39m,\n",
      "  ended_at = \u001b[31mcol_character()\u001b[39m,\n",
      "  start_station_name = \u001b[31mcol_character()\u001b[39m,\n",
      "  start_station_id = \u001b[32mcol_double()\u001b[39m,\n",
      "  end_station_name = \u001b[31mcol_character()\u001b[39m,\n",
      "  end_station_id = \u001b[32mcol_double()\u001b[39m,\n",
      "  start_lat = \u001b[32mcol_double()\u001b[39m,\n",
      "  start_lng = \u001b[32mcol_double()\u001b[39m,\n",
      "  end_lat = \u001b[32mcol_double()\u001b[39m,\n",
      "  end_lng = \u001b[32mcol_double()\u001b[39m,\n",
      "  member_casual = \u001b[31mcol_character()\u001b[39m\n",
      ")\n",
      "\n",
      "\n"
     ]
    }
   ],
   "source": [
    "library(dplyr)\n",
    "dataset <- read_csv(\"../input/cyclistic-bikeshare/Divvy_Trips_2020_Q1.csv\")"
   ]
  },
  {
   "cell_type": "markdown",
   "id": "6964d1f3",
   "metadata": {
    "papermill": {
     "duration": 0.032158,
     "end_time": "2021-07-07T10:17:25.407922",
     "exception": false,
     "start_time": "2021-07-07T10:17:25.375764",
     "status": "completed"
    },
    "tags": []
   },
   "source": [
    "#### Viewing the structure of the dataset\n",
    "\n",
    "This dataset contains 426,887 rows and 13 columns."
   ]
  },
  {
   "cell_type": "code",
   "execution_count": 3,
   "id": "c921c528",
   "metadata": {
    "execution": {
     "iopub.execute_input": "2021-07-07T10:17:25.476820Z",
     "iopub.status.busy": "2021-07-07T10:17:25.475236Z",
     "iopub.status.idle": "2021-07-07T10:17:25.515099Z",
     "shell.execute_reply": "2021-07-07T10:17:25.513741Z"
    },
    "papermill": {
     "duration": 0.075365,
     "end_time": "2021-07-07T10:17:25.515243",
     "exception": false,
     "start_time": "2021-07-07T10:17:25.439878",
     "status": "completed"
    },
    "tags": []
   },
   "outputs": [
    {
     "name": "stdout",
     "output_type": "stream",
     "text": [
      "spec_tbl_df [426,887 × 13] (S3: spec_tbl_df/tbl_df/tbl/data.frame)\n",
      " $ ride_id           : chr [1:426887] \"EACB19130B0CDA4A\" \"8FED874C809DC021\" \"789F3C21E472CA96\" \"C9A388DAC6ABF313\" ...\n",
      " $ rideable_type     : chr [1:426887] \"docked_bike\" \"docked_bike\" \"docked_bike\" \"docked_bike\" ...\n",
      " $ started_at        : chr [1:426887] \"21-01-2020 20:06\" \"30-01-2020 14:22\" \"09-01-2020 19:29\" \"06-01-2020 16:17\" ...\n",
      " $ ended_at          : chr [1:426887] \"21-01-2020 20:14\" \"30-01-2020 14:26\" \"09-01-2020 19:32\" \"06-01-2020 16:25\" ...\n",
      " $ start_station_name: chr [1:426887] \"Western Ave & Leland Ave\" \"Clark St & Montrose Ave\" \"Broadway & Belmont Ave\" \"Clark St & Randolph St\" ...\n",
      " $ start_station_id  : num [1:426887] 239 234 296 51 66 212 96 96 212 38 ...\n",
      " $ end_station_name  : chr [1:426887] \"Clark St & Leland Ave\" \"Southport Ave & Irving Park Rd\" \"Wilton Ave & Belmont Ave\" \"Fairbanks Ct & Grand Ave\" ...\n",
      " $ end_station_id    : num [1:426887] 326 318 117 24 212 96 212 212 96 100 ...\n",
      " $ start_lat         : num [1:426887] 42 42 41.9 41.9 41.9 ...\n",
      " $ start_lng         : num [1:426887] -87.7 -87.7 -87.6 -87.6 -87.6 ...\n",
      " $ end_lat           : num [1:426887] 42 42 41.9 41.9 41.9 ...\n",
      " $ end_lng           : num [1:426887] -87.7 -87.7 -87.7 -87.6 -87.6 ...\n",
      " $ member_casual     : chr [1:426887] \"member\" \"member\" \"member\" \"member\" ...\n",
      " - attr(*, \"spec\")=\n",
      "  .. cols(\n",
      "  ..   ride_id = \u001b[31mcol_character()\u001b[39m,\n",
      "  ..   rideable_type = \u001b[31mcol_character()\u001b[39m,\n",
      "  ..   started_at = \u001b[31mcol_character()\u001b[39m,\n",
      "  ..   ended_at = \u001b[31mcol_character()\u001b[39m,\n",
      "  ..   start_station_name = \u001b[31mcol_character()\u001b[39m,\n",
      "  ..   start_station_id = \u001b[32mcol_double()\u001b[39m,\n",
      "  ..   end_station_name = \u001b[31mcol_character()\u001b[39m,\n",
      "  ..   end_station_id = \u001b[32mcol_double()\u001b[39m,\n",
      "  ..   start_lat = \u001b[32mcol_double()\u001b[39m,\n",
      "  ..   start_lng = \u001b[32mcol_double()\u001b[39m,\n",
      "  ..   end_lat = \u001b[32mcol_double()\u001b[39m,\n",
      "  ..   end_lng = \u001b[32mcol_double()\u001b[39m,\n",
      "  ..   member_casual = \u001b[31mcol_character()\u001b[39m\n",
      "  .. )\n"
     ]
    }
   ],
   "source": [
    "str(dataset)"
   ]
  },
  {
   "cell_type": "code",
   "execution_count": 4,
   "id": "3c875208",
   "metadata": {
    "execution": {
     "iopub.execute_input": "2021-07-07T10:17:25.586843Z",
     "iopub.status.busy": "2021-07-07T10:17:25.585378Z",
     "iopub.status.idle": "2021-07-07T10:17:26.019410Z",
     "shell.execute_reply": "2021-07-07T10:17:26.018346Z"
    },
    "papermill": {
     "duration": 0.470848,
     "end_time": "2021-07-07T10:17:26.019575",
     "exception": false,
     "start_time": "2021-07-07T10:17:25.548727",
     "status": "completed"
    },
    "tags": []
   },
   "outputs": [
    {
     "data": {
      "text/html": [
       "<table class=\"dataframe\">\n",
       "<caption>A spec_tbl_df: 426887 × 13</caption>\n",
       "<thead>\n",
       "\t<tr><th scope=col>ride_id</th><th scope=col>rideable_type</th><th scope=col>started_at</th><th scope=col>ended_at</th><th scope=col>start_station_name</th><th scope=col>start_station_id</th><th scope=col>end_station_name</th><th scope=col>end_station_id</th><th scope=col>start_lat</th><th scope=col>start_lng</th><th scope=col>end_lat</th><th scope=col>end_lng</th><th scope=col>member_casual</th></tr>\n",
       "\t<tr><th scope=col>&lt;chr&gt;</th><th scope=col>&lt;chr&gt;</th><th scope=col>&lt;chr&gt;</th><th scope=col>&lt;chr&gt;</th><th scope=col>&lt;chr&gt;</th><th scope=col>&lt;dbl&gt;</th><th scope=col>&lt;chr&gt;</th><th scope=col>&lt;dbl&gt;</th><th scope=col>&lt;dbl&gt;</th><th scope=col>&lt;dbl&gt;</th><th scope=col>&lt;dbl&gt;</th><th scope=col>&lt;dbl&gt;</th><th scope=col>&lt;chr&gt;</th></tr>\n",
       "</thead>\n",
       "<tbody>\n",
       "\t<tr><td>EACB19130B0CDA4A</td><td>docked_bike</td><td>21-01-2020 20:06</td><td>21-01-2020 20:14</td><td><span style=white-space:pre-wrap>Western Ave &amp; Leland Ave      </span></td><td>239</td><td><span style=white-space:pre-wrap>Clark St &amp; Leland Ave              </span></td><td>326</td><td>41.9665</td><td>-87.6884</td><td>41.9671</td><td>-87.6674</td><td>member</td></tr>\n",
       "\t<tr><td>8FED874C809DC021</td><td>docked_bike</td><td>30-01-2020 14:22</td><td>30-01-2020 14:26</td><td><span style=white-space:pre-wrap>Clark St &amp; Montrose Ave       </span></td><td>234</td><td><span style=white-space:pre-wrap>Southport Ave &amp; Irving Park Rd     </span></td><td>318</td><td>41.9616</td><td>-87.6660</td><td>41.9542</td><td>-87.6644</td><td>member</td></tr>\n",
       "\t<tr><td>789F3C21E472CA96</td><td>docked_bike</td><td>09-01-2020 19:29</td><td>09-01-2020 19:32</td><td><span style=white-space:pre-wrap>Broadway &amp; Belmont Ave        </span></td><td>296</td><td><span style=white-space:pre-wrap>Wilton Ave &amp; Belmont Ave           </span></td><td>117</td><td>41.9401</td><td>-87.6455</td><td>41.9402</td><td>-87.6530</td><td>member</td></tr>\n",
       "\t<tr><td>C9A388DAC6ABF313</td><td>docked_bike</td><td>06-01-2020 16:17</td><td>06-01-2020 16:25</td><td><span style=white-space:pre-wrap>Clark St &amp; Randolph St        </span></td><td> 51</td><td><span style=white-space:pre-wrap>Fairbanks Ct &amp; Grand Ave           </span></td><td> 24</td><td>41.8846</td><td>-87.6319</td><td>41.8918</td><td>-87.6206</td><td>member</td></tr>\n",
       "\t<tr><td>943BC3CBECCFD662</td><td>docked_bike</td><td>30-01-2020 08:37</td><td>30-01-2020 08:42</td><td><span style=white-space:pre-wrap>Clinton St &amp; Lake St          </span></td><td> 66</td><td><span style=white-space:pre-wrap>Wells St &amp; Hubbard St              </span></td><td>212</td><td>41.8856</td><td>-87.6418</td><td>41.8899</td><td>-87.6343</td><td>member</td></tr>\n",
       "\t<tr><td>6D9C8A6938165C11</td><td>docked_bike</td><td>10-01-2020 12:33</td><td>10-01-2020 12:37</td><td><span style=white-space:pre-wrap>Wells St &amp; Hubbard St         </span></td><td>212</td><td><span style=white-space:pre-wrap>Desplaines St &amp; Randolph St        </span></td><td> 96</td><td>41.8899</td><td>-87.6343</td><td>41.8846</td><td>-87.6446</td><td>member</td></tr>\n",
       "\t<tr><td>31EB9B8F406D4C82</td><td>docked_bike</td><td>10-01-2020 13:07</td><td>10-01-2020 13:12</td><td><span style=white-space:pre-wrap>Desplaines St &amp; Randolph St   </span></td><td> 96</td><td><span style=white-space:pre-wrap>Wells St &amp; Hubbard St              </span></td><td>212</td><td>41.8846</td><td>-87.6446</td><td>41.8899</td><td>-87.6343</td><td>member</td></tr>\n",
       "\t<tr><td>A2B24E3F9C9720E3</td><td>docked_bike</td><td>10-01-2020 07:24</td><td>10-01-2020 07:29</td><td><span style=white-space:pre-wrap>Desplaines St &amp; Randolph St   </span></td><td> 96</td><td><span style=white-space:pre-wrap>Wells St &amp; Hubbard St              </span></td><td>212</td><td>41.8846</td><td>-87.6446</td><td>41.8899</td><td>-87.6343</td><td>member</td></tr>\n",
       "\t<tr><td>5E3F01E1441730B7</td><td>docked_bike</td><td>31-01-2020 16:37</td><td>31-01-2020 16:42</td><td><span style=white-space:pre-wrap>Wells St &amp; Hubbard St         </span></td><td>212</td><td><span style=white-space:pre-wrap>Desplaines St &amp; Randolph St        </span></td><td> 96</td><td>41.8899</td><td>-87.6343</td><td>41.8846</td><td>-87.6446</td><td>member</td></tr>\n",
       "\t<tr><td>19DC57F7E3140131</td><td>docked_bike</td><td>31-01-2020 09:39</td><td>31-01-2020 09:42</td><td><span style=white-space:pre-wrap>Clark St &amp; Lake St            </span></td><td> 38</td><td>Orleans St &amp; Merchandise Mart Plaza</td><td>100</td><td>41.8860</td><td>-87.6309</td><td>41.8882</td><td>-87.6364</td><td>member</td></tr>\n",
       "\t<tr><td>8639202DD9FD9A41</td><td>docked_bike</td><td>07-01-2020 22:46</td><td>07-01-2020 22:50</td><td><span style=white-space:pre-wrap>Wilton Ave &amp; Belmont Ave      </span></td><td>117</td><td><span style=white-space:pre-wrap>Clark St &amp; Newport St              </span></td><td>632</td><td>41.9402</td><td>-87.6530</td><td>41.9445</td><td>-87.6547</td><td>member</td></tr>\n",
       "\t<tr><td>9E74E3BB4FFAB93A</td><td>docked_bike</td><td>08-01-2020 16:02</td><td>08-01-2020 16:09</td><td><span style=white-space:pre-wrap>LaSalle St &amp; Illinois St      </span></td><td>181</td><td><span style=white-space:pre-wrap>Clinton St &amp; Washington Blvd       </span></td><td> 91</td><td>41.8908</td><td>-87.6317</td><td>41.8834</td><td>-87.6412</td><td>member</td></tr>\n",
       "\t<tr><td>3B8B2E2F29B63597</td><td>docked_bike</td><td>08-01-2020 09:33</td><td>08-01-2020 09:42</td><td><span style=white-space:pre-wrap>Clinton St &amp; Washington Blvd  </span></td><td> 91</td><td><span style=white-space:pre-wrap>LaSalle St &amp; Illinois St           </span></td><td>181</td><td>41.8834</td><td>-87.6412</td><td>41.8908</td><td>-87.6317</td><td>member</td></tr>\n",
       "\t<tr><td>0F8517F8D21287D2</td><td>docked_bike</td><td>23-01-2020 09:38</td><td>23-01-2020 09:45</td><td><span style=white-space:pre-wrap>Clinton St &amp; Washington Blvd  </span></td><td> 91</td><td><span style=white-space:pre-wrap>LaSalle St &amp; Illinois St           </span></td><td>181</td><td>41.8834</td><td>-87.6412</td><td>41.8908</td><td>-87.6317</td><td>member</td></tr>\n",
       "\t<tr><td>15A91638FAEC2641</td><td>docked_bike</td><td>28-01-2020 20:52</td><td>28-01-2020 21:09</td><td>California Ave &amp; Milwaukee Ave</td><td>123</td><td><span style=white-space:pre-wrap>Marshfield Ave &amp; Cortland St       </span></td><td> 58</td><td>41.9227</td><td>-87.6972</td><td>41.9160</td><td>-87.6689</td><td>member</td></tr>\n",
       "\t<tr><td>E45104F1ED756AF7</td><td>docked_bike</td><td>07-01-2020 17:06</td><td>07-01-2020 17:42</td><td><span style=white-space:pre-wrap>Franklin St &amp; Jackson Blvd    </span></td><td> 36</td><td><span style=white-space:pre-wrap>Lincoln Ave &amp; Diversey Pkwy        </span></td><td>152</td><td>41.8777</td><td>-87.6353</td><td>41.9322</td><td>-87.6586</td><td>member</td></tr>\n",
       "\t<tr><td>219541294624C4B7</td><td>docked_bike</td><td>07-01-2020 08:38</td><td>07-01-2020 09:11</td><td><span style=white-space:pre-wrap>Wilton Ave &amp; Diversey Pkwy    </span></td><td> 13</td><td><span style=white-space:pre-wrap>Franklin St &amp; Jackson Blvd         </span></td><td> 36</td><td>41.9324</td><td>-87.6527</td><td>41.8777</td><td>-87.6353</td><td>member</td></tr>\n",
       "\t<tr><td>013862D47804B9A4</td><td>docked_bike</td><td>06-01-2020 17:16</td><td>06-01-2020 17:48</td><td><span style=white-space:pre-wrap>Franklin St &amp; Jackson Blvd    </span></td><td> 36</td><td><span style=white-space:pre-wrap>Lincoln Ave &amp; Diversey Pkwy        </span></td><td>152</td><td>41.8777</td><td>-87.6353</td><td>41.9322</td><td>-87.6586</td><td>member</td></tr>\n",
       "\t<tr><td>00678BB4A8438651</td><td>docked_bike</td><td>06-01-2020 08:44</td><td>06-01-2020 09:21</td><td><span style=white-space:pre-wrap>Lincoln Ave &amp; Diversey Pkwy   </span></td><td>152</td><td><span style=white-space:pre-wrap>Franklin St &amp; Jackson Blvd         </span></td><td> 36</td><td>41.9322</td><td>-87.6586</td><td>41.8777</td><td>-87.6353</td><td>member</td></tr>\n",
       "\t<tr><td>A854F81611B5A5C0</td><td>docked_bike</td><td>19-01-2020 12:04</td><td>19-01-2020 12:10</td><td><span style=white-space:pre-wrap>Kingsbury St &amp; Kinzie St      </span></td><td>133</td><td><span style=white-space:pre-wrap>Clark St &amp; Chicago Ave             </span></td><td>337</td><td>41.8892</td><td>-87.6385</td><td>41.8968</td><td>-87.6309</td><td>member</td></tr>\n",
       "\t<tr><td>3479141FF24AD595</td><td>docked_bike</td><td>16-01-2020 17:10</td><td>16-01-2020 17:40</td><td><span style=white-space:pre-wrap>Lake Shore Dr &amp; Monroe St     </span></td><td> 76</td><td><span style=white-space:pre-wrap>Michigan Ave &amp; Washington St       </span></td><td> 43</td><td>41.8810</td><td>-87.6167</td><td>41.8840</td><td>-87.6247</td><td>casual</td></tr>\n",
       "\t<tr><td>81D44C3E2353F9BE</td><td>docked_bike</td><td>08-01-2020 15:47</td><td>08-01-2020 15:58</td><td><span style=white-space:pre-wrap>Canal St &amp; Adams St           </span></td><td>192</td><td><span style=white-space:pre-wrap>Michigan Ave &amp; Washington St       </span></td><td> 43</td><td>41.8793</td><td>-87.6399</td><td>41.8840</td><td>-87.6247</td><td>member</td></tr>\n",
       "\t<tr><td>1AA18F54DC4A8636</td><td>docked_bike</td><td>08-01-2020 06:29</td><td>08-01-2020 06:50</td><td><span style=white-space:pre-wrap>Indiana Ave &amp; Roosevelt Rd    </span></td><td>255</td><td><span style=white-space:pre-wrap>Canal St &amp; Adams St                </span></td><td>192</td><td>41.8679</td><td>-87.6230</td><td>41.8793</td><td>-87.6399</td><td>member</td></tr>\n",
       "\t<tr><td>F5FB29DCF841C9F3</td><td>docked_bike</td><td>08-01-2020 07:30</td><td>08-01-2020 07:33</td><td><span style=white-space:pre-wrap>Broadway &amp; Sheridan Rd        </span></td><td>256</td><td><span style=white-space:pre-wrap>Sheridan Rd &amp; Irving Park Rd       </span></td><td>240</td><td>41.9528</td><td>-87.6500</td><td>41.9542</td><td>-87.6544</td><td>member</td></tr>\n",
       "\t<tr><td>869F3755B34163BA</td><td>docked_bike</td><td>23-01-2020 15:23</td><td>23-01-2020 15:37</td><td><span style=white-space:pre-wrap>Desplaines St &amp; Jackson Blvd  </span></td><td>107</td><td><span style=white-space:pre-wrap>Michigan Ave &amp; Washington St       </span></td><td> 43</td><td>41.8783</td><td>-87.6439</td><td>41.8840</td><td>-87.6247</td><td>member</td></tr>\n",
       "\t<tr><td>00EDF290239E4843</td><td>docked_bike</td><td>23-01-2020 14:59</td><td>23-01-2020 15:02</td><td><span style=white-space:pre-wrap>Canal St &amp; Adams St           </span></td><td>192</td><td><span style=white-space:pre-wrap>Desplaines St &amp; Jackson Blvd       </span></td><td>107</td><td>41.8793</td><td>-87.6399</td><td>41.8783</td><td>-87.6439</td><td>member</td></tr>\n",
       "\t<tr><td>CA8E2F8EB7A7639C</td><td>docked_bike</td><td>11-01-2020 14:45</td><td>11-01-2020 14:58</td><td><span style=white-space:pre-wrap>Western Ave &amp; Division St     </span></td><td>305</td><td><span style=white-space:pre-wrap>Wood St &amp; Hubbard St               </span></td><td>285</td><td>41.9029</td><td>-87.6873</td><td>41.8899</td><td>-87.6715</td><td>member</td></tr>\n",
       "\t<tr><td>7996062626A55CEF</td><td>docked_bike</td><td>17-01-2020 13:44</td><td>17-01-2020 13:48</td><td><span style=white-space:pre-wrap>Franklin St &amp; Jackson Blvd    </span></td><td> 36</td><td><span style=white-space:pre-wrap>Wells St &amp; Polk St                 </span></td><td>175</td><td>41.8777</td><td>-87.6353</td><td>41.8726</td><td>-87.6335</td><td>member</td></tr>\n",
       "\t<tr><td>142E7C9831AE8D5D</td><td>docked_bike</td><td>08-01-2020 08:23</td><td>08-01-2020 08:36</td><td><span style=white-space:pre-wrap>Dearborn St &amp; Erie St         </span></td><td>110</td><td><span style=white-space:pre-wrap>Franklin St &amp; Adams St (Temp)      </span></td><td>286</td><td>41.8940</td><td>-87.6293</td><td>41.8794</td><td>-87.6355</td><td>member</td></tr>\n",
       "\t<tr><td>82061D73814586B2</td><td>docked_bike</td><td>08-01-2020 16:22</td><td>08-01-2020 16:30</td><td><span style=white-space:pre-wrap>Franklin St &amp; Jackson Blvd    </span></td><td> 36</td><td><span style=white-space:pre-wrap>Green St &amp; Madison St              </span></td><td>198</td><td>41.8777</td><td>-87.6353</td><td>41.8819</td><td>-87.6488</td><td>member</td></tr>\n",
       "\t<tr><td>⋮</td><td>⋮</td><td>⋮</td><td>⋮</td><td>⋮</td><td>⋮</td><td>⋮</td><td>⋮</td><td>⋮</td><td>⋮</td><td>⋮</td><td>⋮</td><td>⋮</td></tr>\n",
       "\t<tr><td>8A8A039BB7072249</td><td>docked_bike</td><td>02-03-2020 17:29</td><td>02-03-2020 17:50</td><td><span style=white-space:pre-wrap>Clark St &amp; Lincoln Ave         </span></td><td>141</td><td><span style=white-space:pre-wrap>Halsted St &amp; Wrightwood Ave    </span></td><td>349</td><td>41.9157</td><td>-87.6346</td><td>41.9291</td><td>-87.6491</td><td>casual</td></tr>\n",
       "\t<tr><td>6244F21F053BA361</td><td>docked_bike</td><td>13-03-2020 16:58</td><td>13-03-2020 17:31</td><td><span style=white-space:pre-wrap>Franklin St &amp; Jackson Blvd     </span></td><td> 36</td><td><span style=white-space:pre-wrap>Wabash Ave &amp; Wacker Pl         </span></td><td>194</td><td>41.8777</td><td>-87.6353</td><td>41.8869</td><td>-87.6260</td><td>casual</td></tr>\n",
       "\t<tr><td>058D62FDDBF3C606</td><td>docked_bike</td><td>12-03-2020 15:39</td><td>12-03-2020 15:43</td><td><span style=white-space:pre-wrap>Broadway &amp; Waveland Ave        </span></td><td>304</td><td>Pine Grove Ave &amp; Irving Park Rd</td><td>254</td><td>41.9491</td><td>-87.6486</td><td>41.9544</td><td>-87.6480</td><td>member</td></tr>\n",
       "\t<tr><td>A2FFBD0AA763B19D</td><td>docked_bike</td><td>11-03-2020 18:39</td><td>11-03-2020 18:55</td><td><span style=white-space:pre-wrap>Kingsbury St &amp; Kinzie St       </span></td><td>133</td><td><span style=white-space:pre-wrap>Clark St &amp; Armitage Ave        </span></td><td> 94</td><td>41.8892</td><td>-87.6385</td><td>41.9183</td><td>-87.6363</td><td>member</td></tr>\n",
       "\t<tr><td>21A760C7DC9FD318</td><td>docked_bike</td><td>11-03-2020 16:06</td><td>11-03-2020 16:17</td><td><span style=white-space:pre-wrap>Wood St &amp; Hubbard St           </span></td><td>285</td><td><span style=white-space:pre-wrap>Kingsbury St &amp; Kinzie St       </span></td><td>133</td><td>41.8899</td><td>-87.6715</td><td>41.8892</td><td>-87.6385</td><td>member</td></tr>\n",
       "\t<tr><td>36A20E87B11FF36D</td><td>docked_bike</td><td>01-03-2020 15:16</td><td>01-03-2020 16:36</td><td><span style=white-space:pre-wrap>Woodlawn Ave &amp; 55th St         </span></td><td>248</td><td><span style=white-space:pre-wrap>Woodlawn Ave &amp; 55th St         </span></td><td>248</td><td>41.7953</td><td>-87.5965</td><td>41.7953</td><td>-87.5965</td><td>casual</td></tr>\n",
       "\t<tr><td>FEB95D075E9435E4</td><td>docked_bike</td><td>04-03-2020 07:25</td><td>04-03-2020 07:28</td><td>Pine Grove Ave &amp; Irving Park Rd</td><td>254</td><td><span style=white-space:pre-wrap>Broadway &amp; Waveland Ave        </span></td><td>304</td><td>41.9544</td><td>-87.6480</td><td>41.9491</td><td>-87.6486</td><td>member</td></tr>\n",
       "\t<tr><td>FD4B140C786D9E1D</td><td>docked_bike</td><td>04-03-2020 17:54</td><td>04-03-2020 18:04</td><td><span style=white-space:pre-wrap>Kingsbury St &amp; Kinzie St       </span></td><td>133</td><td><span style=white-space:pre-wrap>Wood St &amp; Hubbard St           </span></td><td>285</td><td>41.8892</td><td>-87.6385</td><td>41.8899</td><td>-87.6715</td><td>member</td></tr>\n",
       "\t<tr><td>062828AF86F56FA8</td><td>docked_bike</td><td>10-03-2020 15:38</td><td>10-03-2020 15:48</td><td><span style=white-space:pre-wrap>Wood St &amp; Hubbard St           </span></td><td>285</td><td><span style=white-space:pre-wrap>Kingsbury St &amp; Kinzie St       </span></td><td>133</td><td>41.8899</td><td>-87.6715</td><td>41.8892</td><td>-87.6385</td><td>member</td></tr>\n",
       "\t<tr><td>FB323E655F08521D</td><td>docked_bike</td><td>10-03-2020 08:46</td><td>10-03-2020 08:54</td><td><span style=white-space:pre-wrap>McClurg Ct &amp; Illinois St       </span></td><td> 26</td><td><span style=white-space:pre-wrap>State St &amp; Kinzie St           </span></td><td> 47</td><td>41.8904</td><td>-87.6175</td><td>41.8892</td><td>-87.6278</td><td>member</td></tr>\n",
       "\t<tr><td>7CD5C610872581BB</td><td>docked_bike</td><td>02-03-2020 15:56</td><td>02-03-2020 16:04</td><td><span style=white-space:pre-wrap>State St &amp; Kinzie St           </span></td><td> 47</td><td><span style=white-space:pre-wrap>Clinton St &amp; Washington Blvd   </span></td><td> 91</td><td>41.8892</td><td>-87.6278</td><td>41.8834</td><td>-87.6412</td><td>member</td></tr>\n",
       "\t<tr><td>330C4C8905197AAD</td><td>docked_bike</td><td>08-03-2020 13:34</td><td>08-03-2020 13:55</td><td><span style=white-space:pre-wrap>Buckingham Fountain            </span></td><td><span style=white-space:pre-wrap>  2</span></td><td><span style=white-space:pre-wrap>Rush St &amp; Cedar St             </span></td><td>172</td><td>41.8765</td><td>-87.6205</td><td>41.9023</td><td>-87.6277</td><td>casual</td></tr>\n",
       "\t<tr><td>0B8742C644002BB1</td><td>docked_bike</td><td>10-03-2020 06:46</td><td>10-03-2020 06:54</td><td><span style=white-space:pre-wrap>Clinton St &amp; Washington Blvd   </span></td><td> 91</td><td><span style=white-space:pre-wrap>State St &amp; Kinzie St           </span></td><td> 47</td><td>41.8834</td><td>-87.6412</td><td>41.8892</td><td>-87.6278</td><td>member</td></tr>\n",
       "\t<tr><td>BA30D82E5928E7A7</td><td>docked_bike</td><td>09-03-2020 15:52</td><td>09-03-2020 15:59</td><td><span style=white-space:pre-wrap>State St &amp; Kinzie St           </span></td><td> 47</td><td><span style=white-space:pre-wrap>Clinton St &amp; Washington Blvd   </span></td><td> 91</td><td>41.8892</td><td>-87.6278</td><td>41.8834</td><td>-87.6412</td><td>member</td></tr>\n",
       "\t<tr><td>B46765A0DB572D4B</td><td>docked_bike</td><td>12-03-2020 15:57</td><td>12-03-2020 16:04</td><td><span style=white-space:pre-wrap>State St &amp; Kinzie St           </span></td><td> 47</td><td><span style=white-space:pre-wrap>Clinton St &amp; Washington Blvd   </span></td><td> 91</td><td>41.8892</td><td>-87.6278</td><td>41.8834</td><td>-87.6412</td><td>member</td></tr>\n",
       "\t<tr><td>1C755B56146D806B</td><td>docked_bike</td><td>06-03-2020 07:13</td><td>06-03-2020 07:21</td><td><span style=white-space:pre-wrap>Clinton St &amp; Washington Blvd   </span></td><td> 91</td><td><span style=white-space:pre-wrap>State St &amp; Kinzie St           </span></td><td> 47</td><td>41.8834</td><td>-87.6412</td><td>41.8892</td><td>-87.6278</td><td>member</td></tr>\n",
       "\t<tr><td>46230CF6653E2CDE</td><td>docked_bike</td><td>25-03-2020 17:59</td><td>25-03-2020 18:29</td><td>Lakefront Trail &amp; Bryn Mawr Ave</td><td>459</td><td><span style=white-space:pre-wrap>Lakeview Ave &amp; Fullerton Pkwy  </span></td><td>313</td><td>41.9840</td><td>-87.6523</td><td>41.9259</td><td>-87.6390</td><td>member</td></tr>\n",
       "\t<tr><td>62BD7FE2B823B34E</td><td>docked_bike</td><td>11-03-2020 15:56</td><td>11-03-2020 16:03</td><td><span style=white-space:pre-wrap>State St &amp; Kinzie St           </span></td><td> 47</td><td><span style=white-space:pre-wrap>Clinton St &amp; Washington Blvd   </span></td><td> 91</td><td>41.8892</td><td>-87.6278</td><td>41.8834</td><td>-87.6412</td><td>member</td></tr>\n",
       "\t<tr><td>0E1BBACD66CAF13D</td><td>docked_bike</td><td>02-03-2020 06:47</td><td>02-03-2020 06:55</td><td><span style=white-space:pre-wrap>Clinton St &amp; Washington Blvd   </span></td><td> 91</td><td><span style=white-space:pre-wrap>State St &amp; Kinzie St           </span></td><td> 47</td><td>41.8834</td><td>-87.6412</td><td>41.8892</td><td>-87.6278</td><td>member</td></tr>\n",
       "\t<tr><td>72C026003AC3ED3C</td><td>docked_bike</td><td>04-03-2020 07:13</td><td>04-03-2020 07:21</td><td><span style=white-space:pre-wrap>Wacker Dr &amp; Washington St      </span></td><td> 18</td><td><span style=white-space:pre-wrap>State St &amp; Kinzie St           </span></td><td> 47</td><td>41.8831</td><td>-87.6373</td><td>41.8892</td><td>-87.6278</td><td>member</td></tr>\n",
       "\t<tr><td>59CD7783230EBC26</td><td>docked_bike</td><td>06-03-2020 15:58</td><td>06-03-2020 16:05</td><td><span style=white-space:pre-wrap>State St &amp; Kinzie St           </span></td><td> 47</td><td><span style=white-space:pre-wrap>Clinton St &amp; Washington Blvd   </span></td><td> 91</td><td>41.8892</td><td>-87.6278</td><td>41.8834</td><td>-87.6412</td><td>member</td></tr>\n",
       "\t<tr><td>33EE865F3D9E5D00</td><td>docked_bike</td><td>08-03-2020 17:22</td><td>08-03-2020 17:28</td><td><span style=white-space:pre-wrap>Green St &amp; Randolph St         </span></td><td>112</td><td><span style=white-space:pre-wrap>Aberdeen St &amp; Jackson Blvd     </span></td><td> 21</td><td>41.8837</td><td>-87.6487</td><td>41.8777</td><td>-87.6548</td><td>member</td></tr>\n",
       "\t<tr><td>4361A2348584C3E4</td><td>docked_bike</td><td>25-03-2020 17:10</td><td>25-03-2020 17:47</td><td><span style=white-space:pre-wrap>Lakeview Ave &amp; Fullerton Pkwy  </span></td><td>313</td><td>Lakefront Trail &amp; Bryn Mawr Ave</td><td>459</td><td>41.9259</td><td>-87.6390</td><td>41.9840</td><td>-87.6523</td><td>member</td></tr>\n",
       "\t<tr><td>005D3BC2A3B33DDA</td><td>docked_bike</td><td>12-03-2020 07:32</td><td>12-03-2020 07:38</td><td><span style=white-space:pre-wrap>Clinton St &amp; Washington Blvd   </span></td><td> 91</td><td><span style=white-space:pre-wrap>State St &amp; Kinzie St           </span></td><td> 47</td><td>41.8834</td><td>-87.6412</td><td>41.8892</td><td>-87.6278</td><td>member</td></tr>\n",
       "\t<tr><td>6F4D221BDDFD943F</td><td>docked_bike</td><td>10-03-2020 10:40</td><td>10-03-2020 10:40</td><td>HQ QR                          </td><td>675</td><td>HQ QR                          </td><td>675</td><td>41.8899</td><td>-87.6803</td><td>41.8899</td><td>-87.6803</td><td>casual</td></tr>\n",
       "\t<tr><td>ADDAA33CEBCAE733</td><td>docked_bike</td><td>10-03-2020 10:40</td><td>10-03-2020 10:40</td><td>HQ QR                          </td><td>675</td><td>HQ QR                          </td><td>675</td><td>41.8899</td><td>-87.6803</td><td>41.8899</td><td>-87.6803</td><td>casual</td></tr>\n",
       "\t<tr><td>82B10FA3994BC66A</td><td>docked_bike</td><td>07-03-2020 15:25</td><td>07-03-2020 16:14</td><td><span style=white-space:pre-wrap>Rush St &amp; Superior St          </span></td><td>161</td><td><span style=white-space:pre-wrap>Sheridan Rd &amp; Irving Park Rd   </span></td><td>240</td><td>41.8958</td><td>-87.6259</td><td>41.9542</td><td>-87.6544</td><td>member</td></tr>\n",
       "\t<tr><td>AA0D5AAA0B59C8AA</td><td>docked_bike</td><td>01-03-2020 13:12</td><td>01-03-2020 13:38</td><td><span style=white-space:pre-wrap>Clark St &amp; Lincoln Ave         </span></td><td>141</td><td><span style=white-space:pre-wrap>Ashland Ave &amp; Division St      </span></td><td>210</td><td>41.9157</td><td>-87.6346</td><td>41.9035</td><td>-87.6677</td><td>casual</td></tr>\n",
       "\t<tr><td>3296360A7BC20FB8</td><td>docked_bike</td><td>07-03-2020 18:02</td><td>07-03-2020 18:13</td><td><span style=white-space:pre-wrap>Franklin St &amp; Illinois St      </span></td><td>672</td><td><span style=white-space:pre-wrap>Stetson Ave &amp; South Water St   </span></td><td>264</td><td>41.8910</td><td>-87.6355</td><td>41.8868</td><td>-87.6223</td><td>member</td></tr>\n",
       "\t<tr><td>064EC7698E4FF9B3</td><td>docked_bike</td><td>08-03-2020 13:03</td><td>08-03-2020 13:32</td><td><span style=white-space:pre-wrap>Dearborn St &amp; Erie St          </span></td><td>110</td><td><span style=white-space:pre-wrap>Michigan Ave &amp; Oak St          </span></td><td> 85</td><td>41.8940</td><td>-87.6293</td><td>41.9010</td><td>-87.6238</td><td>casual</td></tr>\n",
       "</tbody>\n",
       "</table>\n"
      ],
      "text/latex": [
       "A spec\\_tbl\\_df: 426887 × 13\n",
       "\\begin{tabular}{lllllllllllll}\n",
       " ride\\_id & rideable\\_type & started\\_at & ended\\_at & start\\_station\\_name & start\\_station\\_id & end\\_station\\_name & end\\_station\\_id & start\\_lat & start\\_lng & end\\_lat & end\\_lng & member\\_casual\\\\\n",
       " <chr> & <chr> & <chr> & <chr> & <chr> & <dbl> & <chr> & <dbl> & <dbl> & <dbl> & <dbl> & <dbl> & <chr>\\\\\n",
       "\\hline\n",
       "\t EACB19130B0CDA4A & docked\\_bike & 21-01-2020 20:06 & 21-01-2020 20:14 & Western Ave \\& Leland Ave       & 239 & Clark St \\& Leland Ave               & 326 & 41.9665 & -87.6884 & 41.9671 & -87.6674 & member\\\\\n",
       "\t 8FED874C809DC021 & docked\\_bike & 30-01-2020 14:22 & 30-01-2020 14:26 & Clark St \\& Montrose Ave        & 234 & Southport Ave \\& Irving Park Rd      & 318 & 41.9616 & -87.6660 & 41.9542 & -87.6644 & member\\\\\n",
       "\t 789F3C21E472CA96 & docked\\_bike & 09-01-2020 19:29 & 09-01-2020 19:32 & Broadway \\& Belmont Ave         & 296 & Wilton Ave \\& Belmont Ave            & 117 & 41.9401 & -87.6455 & 41.9402 & -87.6530 & member\\\\\n",
       "\t C9A388DAC6ABF313 & docked\\_bike & 06-01-2020 16:17 & 06-01-2020 16:25 & Clark St \\& Randolph St         &  51 & Fairbanks Ct \\& Grand Ave            &  24 & 41.8846 & -87.6319 & 41.8918 & -87.6206 & member\\\\\n",
       "\t 943BC3CBECCFD662 & docked\\_bike & 30-01-2020 08:37 & 30-01-2020 08:42 & Clinton St \\& Lake St           &  66 & Wells St \\& Hubbard St               & 212 & 41.8856 & -87.6418 & 41.8899 & -87.6343 & member\\\\\n",
       "\t 6D9C8A6938165C11 & docked\\_bike & 10-01-2020 12:33 & 10-01-2020 12:37 & Wells St \\& Hubbard St          & 212 & Desplaines St \\& Randolph St         &  96 & 41.8899 & -87.6343 & 41.8846 & -87.6446 & member\\\\\n",
       "\t 31EB9B8F406D4C82 & docked\\_bike & 10-01-2020 13:07 & 10-01-2020 13:12 & Desplaines St \\& Randolph St    &  96 & Wells St \\& Hubbard St               & 212 & 41.8846 & -87.6446 & 41.8899 & -87.6343 & member\\\\\n",
       "\t A2B24E3F9C9720E3 & docked\\_bike & 10-01-2020 07:24 & 10-01-2020 07:29 & Desplaines St \\& Randolph St    &  96 & Wells St \\& Hubbard St               & 212 & 41.8846 & -87.6446 & 41.8899 & -87.6343 & member\\\\\n",
       "\t 5E3F01E1441730B7 & docked\\_bike & 31-01-2020 16:37 & 31-01-2020 16:42 & Wells St \\& Hubbard St          & 212 & Desplaines St \\& Randolph St         &  96 & 41.8899 & -87.6343 & 41.8846 & -87.6446 & member\\\\\n",
       "\t 19DC57F7E3140131 & docked\\_bike & 31-01-2020 09:39 & 31-01-2020 09:42 & Clark St \\& Lake St             &  38 & Orleans St \\& Merchandise Mart Plaza & 100 & 41.8860 & -87.6309 & 41.8882 & -87.6364 & member\\\\\n",
       "\t 8639202DD9FD9A41 & docked\\_bike & 07-01-2020 22:46 & 07-01-2020 22:50 & Wilton Ave \\& Belmont Ave       & 117 & Clark St \\& Newport St               & 632 & 41.9402 & -87.6530 & 41.9445 & -87.6547 & member\\\\\n",
       "\t 9E74E3BB4FFAB93A & docked\\_bike & 08-01-2020 16:02 & 08-01-2020 16:09 & LaSalle St \\& Illinois St       & 181 & Clinton St \\& Washington Blvd        &  91 & 41.8908 & -87.6317 & 41.8834 & -87.6412 & member\\\\\n",
       "\t 3B8B2E2F29B63597 & docked\\_bike & 08-01-2020 09:33 & 08-01-2020 09:42 & Clinton St \\& Washington Blvd   &  91 & LaSalle St \\& Illinois St            & 181 & 41.8834 & -87.6412 & 41.8908 & -87.6317 & member\\\\\n",
       "\t 0F8517F8D21287D2 & docked\\_bike & 23-01-2020 09:38 & 23-01-2020 09:45 & Clinton St \\& Washington Blvd   &  91 & LaSalle St \\& Illinois St            & 181 & 41.8834 & -87.6412 & 41.8908 & -87.6317 & member\\\\\n",
       "\t 15A91638FAEC2641 & docked\\_bike & 28-01-2020 20:52 & 28-01-2020 21:09 & California Ave \\& Milwaukee Ave & 123 & Marshfield Ave \\& Cortland St        &  58 & 41.9227 & -87.6972 & 41.9160 & -87.6689 & member\\\\\n",
       "\t E45104F1ED756AF7 & docked\\_bike & 07-01-2020 17:06 & 07-01-2020 17:42 & Franklin St \\& Jackson Blvd     &  36 & Lincoln Ave \\& Diversey Pkwy         & 152 & 41.8777 & -87.6353 & 41.9322 & -87.6586 & member\\\\\n",
       "\t 219541294624C4B7 & docked\\_bike & 07-01-2020 08:38 & 07-01-2020 09:11 & Wilton Ave \\& Diversey Pkwy     &  13 & Franklin St \\& Jackson Blvd          &  36 & 41.9324 & -87.6527 & 41.8777 & -87.6353 & member\\\\\n",
       "\t 013862D47804B9A4 & docked\\_bike & 06-01-2020 17:16 & 06-01-2020 17:48 & Franklin St \\& Jackson Blvd     &  36 & Lincoln Ave \\& Diversey Pkwy         & 152 & 41.8777 & -87.6353 & 41.9322 & -87.6586 & member\\\\\n",
       "\t 00678BB4A8438651 & docked\\_bike & 06-01-2020 08:44 & 06-01-2020 09:21 & Lincoln Ave \\& Diversey Pkwy    & 152 & Franklin St \\& Jackson Blvd          &  36 & 41.9322 & -87.6586 & 41.8777 & -87.6353 & member\\\\\n",
       "\t A854F81611B5A5C0 & docked\\_bike & 19-01-2020 12:04 & 19-01-2020 12:10 & Kingsbury St \\& Kinzie St       & 133 & Clark St \\& Chicago Ave              & 337 & 41.8892 & -87.6385 & 41.8968 & -87.6309 & member\\\\\n",
       "\t 3479141FF24AD595 & docked\\_bike & 16-01-2020 17:10 & 16-01-2020 17:40 & Lake Shore Dr \\& Monroe St      &  76 & Michigan Ave \\& Washington St        &  43 & 41.8810 & -87.6167 & 41.8840 & -87.6247 & casual\\\\\n",
       "\t 81D44C3E2353F9BE & docked\\_bike & 08-01-2020 15:47 & 08-01-2020 15:58 & Canal St \\& Adams St            & 192 & Michigan Ave \\& Washington St        &  43 & 41.8793 & -87.6399 & 41.8840 & -87.6247 & member\\\\\n",
       "\t 1AA18F54DC4A8636 & docked\\_bike & 08-01-2020 06:29 & 08-01-2020 06:50 & Indiana Ave \\& Roosevelt Rd     & 255 & Canal St \\& Adams St                 & 192 & 41.8679 & -87.6230 & 41.8793 & -87.6399 & member\\\\\n",
       "\t F5FB29DCF841C9F3 & docked\\_bike & 08-01-2020 07:30 & 08-01-2020 07:33 & Broadway \\& Sheridan Rd         & 256 & Sheridan Rd \\& Irving Park Rd        & 240 & 41.9528 & -87.6500 & 41.9542 & -87.6544 & member\\\\\n",
       "\t 869F3755B34163BA & docked\\_bike & 23-01-2020 15:23 & 23-01-2020 15:37 & Desplaines St \\& Jackson Blvd   & 107 & Michigan Ave \\& Washington St        &  43 & 41.8783 & -87.6439 & 41.8840 & -87.6247 & member\\\\\n",
       "\t 00EDF290239E4843 & docked\\_bike & 23-01-2020 14:59 & 23-01-2020 15:02 & Canal St \\& Adams St            & 192 & Desplaines St \\& Jackson Blvd        & 107 & 41.8793 & -87.6399 & 41.8783 & -87.6439 & member\\\\\n",
       "\t CA8E2F8EB7A7639C & docked\\_bike & 11-01-2020 14:45 & 11-01-2020 14:58 & Western Ave \\& Division St      & 305 & Wood St \\& Hubbard St                & 285 & 41.9029 & -87.6873 & 41.8899 & -87.6715 & member\\\\\n",
       "\t 7996062626A55CEF & docked\\_bike & 17-01-2020 13:44 & 17-01-2020 13:48 & Franklin St \\& Jackson Blvd     &  36 & Wells St \\& Polk St                  & 175 & 41.8777 & -87.6353 & 41.8726 & -87.6335 & member\\\\\n",
       "\t 142E7C9831AE8D5D & docked\\_bike & 08-01-2020 08:23 & 08-01-2020 08:36 & Dearborn St \\& Erie St          & 110 & Franklin St \\& Adams St (Temp)       & 286 & 41.8940 & -87.6293 & 41.8794 & -87.6355 & member\\\\\n",
       "\t 82061D73814586B2 & docked\\_bike & 08-01-2020 16:22 & 08-01-2020 16:30 & Franklin St \\& Jackson Blvd     &  36 & Green St \\& Madison St               & 198 & 41.8777 & -87.6353 & 41.8819 & -87.6488 & member\\\\\n",
       "\t ⋮ & ⋮ & ⋮ & ⋮ & ⋮ & ⋮ & ⋮ & ⋮ & ⋮ & ⋮ & ⋮ & ⋮ & ⋮\\\\\n",
       "\t 8A8A039BB7072249 & docked\\_bike & 02-03-2020 17:29 & 02-03-2020 17:50 & Clark St \\& Lincoln Ave          & 141 & Halsted St \\& Wrightwood Ave     & 349 & 41.9157 & -87.6346 & 41.9291 & -87.6491 & casual\\\\\n",
       "\t 6244F21F053BA361 & docked\\_bike & 13-03-2020 16:58 & 13-03-2020 17:31 & Franklin St \\& Jackson Blvd      &  36 & Wabash Ave \\& Wacker Pl          & 194 & 41.8777 & -87.6353 & 41.8869 & -87.6260 & casual\\\\\n",
       "\t 058D62FDDBF3C606 & docked\\_bike & 12-03-2020 15:39 & 12-03-2020 15:43 & Broadway \\& Waveland Ave         & 304 & Pine Grove Ave \\& Irving Park Rd & 254 & 41.9491 & -87.6486 & 41.9544 & -87.6480 & member\\\\\n",
       "\t A2FFBD0AA763B19D & docked\\_bike & 11-03-2020 18:39 & 11-03-2020 18:55 & Kingsbury St \\& Kinzie St        & 133 & Clark St \\& Armitage Ave         &  94 & 41.8892 & -87.6385 & 41.9183 & -87.6363 & member\\\\\n",
       "\t 21A760C7DC9FD318 & docked\\_bike & 11-03-2020 16:06 & 11-03-2020 16:17 & Wood St \\& Hubbard St            & 285 & Kingsbury St \\& Kinzie St        & 133 & 41.8899 & -87.6715 & 41.8892 & -87.6385 & member\\\\\n",
       "\t 36A20E87B11FF36D & docked\\_bike & 01-03-2020 15:16 & 01-03-2020 16:36 & Woodlawn Ave \\& 55th St          & 248 & Woodlawn Ave \\& 55th St          & 248 & 41.7953 & -87.5965 & 41.7953 & -87.5965 & casual\\\\\n",
       "\t FEB95D075E9435E4 & docked\\_bike & 04-03-2020 07:25 & 04-03-2020 07:28 & Pine Grove Ave \\& Irving Park Rd & 254 & Broadway \\& Waveland Ave         & 304 & 41.9544 & -87.6480 & 41.9491 & -87.6486 & member\\\\\n",
       "\t FD4B140C786D9E1D & docked\\_bike & 04-03-2020 17:54 & 04-03-2020 18:04 & Kingsbury St \\& Kinzie St        & 133 & Wood St \\& Hubbard St            & 285 & 41.8892 & -87.6385 & 41.8899 & -87.6715 & member\\\\\n",
       "\t 062828AF86F56FA8 & docked\\_bike & 10-03-2020 15:38 & 10-03-2020 15:48 & Wood St \\& Hubbard St            & 285 & Kingsbury St \\& Kinzie St        & 133 & 41.8899 & -87.6715 & 41.8892 & -87.6385 & member\\\\\n",
       "\t FB323E655F08521D & docked\\_bike & 10-03-2020 08:46 & 10-03-2020 08:54 & McClurg Ct \\& Illinois St        &  26 & State St \\& Kinzie St            &  47 & 41.8904 & -87.6175 & 41.8892 & -87.6278 & member\\\\\n",
       "\t 7CD5C610872581BB & docked\\_bike & 02-03-2020 15:56 & 02-03-2020 16:04 & State St \\& Kinzie St            &  47 & Clinton St \\& Washington Blvd    &  91 & 41.8892 & -87.6278 & 41.8834 & -87.6412 & member\\\\\n",
       "\t 330C4C8905197AAD & docked\\_bike & 08-03-2020 13:34 & 08-03-2020 13:55 & Buckingham Fountain             &   2 & Rush St \\& Cedar St              & 172 & 41.8765 & -87.6205 & 41.9023 & -87.6277 & casual\\\\\n",
       "\t 0B8742C644002BB1 & docked\\_bike & 10-03-2020 06:46 & 10-03-2020 06:54 & Clinton St \\& Washington Blvd    &  91 & State St \\& Kinzie St            &  47 & 41.8834 & -87.6412 & 41.8892 & -87.6278 & member\\\\\n",
       "\t BA30D82E5928E7A7 & docked\\_bike & 09-03-2020 15:52 & 09-03-2020 15:59 & State St \\& Kinzie St            &  47 & Clinton St \\& Washington Blvd    &  91 & 41.8892 & -87.6278 & 41.8834 & -87.6412 & member\\\\\n",
       "\t B46765A0DB572D4B & docked\\_bike & 12-03-2020 15:57 & 12-03-2020 16:04 & State St \\& Kinzie St            &  47 & Clinton St \\& Washington Blvd    &  91 & 41.8892 & -87.6278 & 41.8834 & -87.6412 & member\\\\\n",
       "\t 1C755B56146D806B & docked\\_bike & 06-03-2020 07:13 & 06-03-2020 07:21 & Clinton St \\& Washington Blvd    &  91 & State St \\& Kinzie St            &  47 & 41.8834 & -87.6412 & 41.8892 & -87.6278 & member\\\\\n",
       "\t 46230CF6653E2CDE & docked\\_bike & 25-03-2020 17:59 & 25-03-2020 18:29 & Lakefront Trail \\& Bryn Mawr Ave & 459 & Lakeview Ave \\& Fullerton Pkwy   & 313 & 41.9840 & -87.6523 & 41.9259 & -87.6390 & member\\\\\n",
       "\t 62BD7FE2B823B34E & docked\\_bike & 11-03-2020 15:56 & 11-03-2020 16:03 & State St \\& Kinzie St            &  47 & Clinton St \\& Washington Blvd    &  91 & 41.8892 & -87.6278 & 41.8834 & -87.6412 & member\\\\\n",
       "\t 0E1BBACD66CAF13D & docked\\_bike & 02-03-2020 06:47 & 02-03-2020 06:55 & Clinton St \\& Washington Blvd    &  91 & State St \\& Kinzie St            &  47 & 41.8834 & -87.6412 & 41.8892 & -87.6278 & member\\\\\n",
       "\t 72C026003AC3ED3C & docked\\_bike & 04-03-2020 07:13 & 04-03-2020 07:21 & Wacker Dr \\& Washington St       &  18 & State St \\& Kinzie St            &  47 & 41.8831 & -87.6373 & 41.8892 & -87.6278 & member\\\\\n",
       "\t 59CD7783230EBC26 & docked\\_bike & 06-03-2020 15:58 & 06-03-2020 16:05 & State St \\& Kinzie St            &  47 & Clinton St \\& Washington Blvd    &  91 & 41.8892 & -87.6278 & 41.8834 & -87.6412 & member\\\\\n",
       "\t 33EE865F3D9E5D00 & docked\\_bike & 08-03-2020 17:22 & 08-03-2020 17:28 & Green St \\& Randolph St          & 112 & Aberdeen St \\& Jackson Blvd      &  21 & 41.8837 & -87.6487 & 41.8777 & -87.6548 & member\\\\\n",
       "\t 4361A2348584C3E4 & docked\\_bike & 25-03-2020 17:10 & 25-03-2020 17:47 & Lakeview Ave \\& Fullerton Pkwy   & 313 & Lakefront Trail \\& Bryn Mawr Ave & 459 & 41.9259 & -87.6390 & 41.9840 & -87.6523 & member\\\\\n",
       "\t 005D3BC2A3B33DDA & docked\\_bike & 12-03-2020 07:32 & 12-03-2020 07:38 & Clinton St \\& Washington Blvd    &  91 & State St \\& Kinzie St            &  47 & 41.8834 & -87.6412 & 41.8892 & -87.6278 & member\\\\\n",
       "\t 6F4D221BDDFD943F & docked\\_bike & 10-03-2020 10:40 & 10-03-2020 10:40 & HQ QR                           & 675 & HQ QR                           & 675 & 41.8899 & -87.6803 & 41.8899 & -87.6803 & casual\\\\\n",
       "\t ADDAA33CEBCAE733 & docked\\_bike & 10-03-2020 10:40 & 10-03-2020 10:40 & HQ QR                           & 675 & HQ QR                           & 675 & 41.8899 & -87.6803 & 41.8899 & -87.6803 & casual\\\\\n",
       "\t 82B10FA3994BC66A & docked\\_bike & 07-03-2020 15:25 & 07-03-2020 16:14 & Rush St \\& Superior St           & 161 & Sheridan Rd \\& Irving Park Rd    & 240 & 41.8958 & -87.6259 & 41.9542 & -87.6544 & member\\\\\n",
       "\t AA0D5AAA0B59C8AA & docked\\_bike & 01-03-2020 13:12 & 01-03-2020 13:38 & Clark St \\& Lincoln Ave          & 141 & Ashland Ave \\& Division St       & 210 & 41.9157 & -87.6346 & 41.9035 & -87.6677 & casual\\\\\n",
       "\t 3296360A7BC20FB8 & docked\\_bike & 07-03-2020 18:02 & 07-03-2020 18:13 & Franklin St \\& Illinois St       & 672 & Stetson Ave \\& South Water St    & 264 & 41.8910 & -87.6355 & 41.8868 & -87.6223 & member\\\\\n",
       "\t 064EC7698E4FF9B3 & docked\\_bike & 08-03-2020 13:03 & 08-03-2020 13:32 & Dearborn St \\& Erie St           & 110 & Michigan Ave \\& Oak St           &  85 & 41.8940 & -87.6293 & 41.9010 & -87.6238 & casual\\\\\n",
       "\\end{tabular}\n"
      ],
      "text/markdown": [
       "\n",
       "A spec_tbl_df: 426887 × 13\n",
       "\n",
       "| ride_id &lt;chr&gt; | rideable_type &lt;chr&gt; | started_at &lt;chr&gt; | ended_at &lt;chr&gt; | start_station_name &lt;chr&gt; | start_station_id &lt;dbl&gt; | end_station_name &lt;chr&gt; | end_station_id &lt;dbl&gt; | start_lat &lt;dbl&gt; | start_lng &lt;dbl&gt; | end_lat &lt;dbl&gt; | end_lng &lt;dbl&gt; | member_casual &lt;chr&gt; |\n",
       "|---|---|---|---|---|---|---|---|---|---|---|---|---|\n",
       "| EACB19130B0CDA4A | docked_bike | 21-01-2020 20:06 | 21-01-2020 20:14 | Western Ave &amp; Leland Ave       | 239 | Clark St &amp; Leland Ave               | 326 | 41.9665 | -87.6884 | 41.9671 | -87.6674 | member |\n",
       "| 8FED874C809DC021 | docked_bike | 30-01-2020 14:22 | 30-01-2020 14:26 | Clark St &amp; Montrose Ave        | 234 | Southport Ave &amp; Irving Park Rd      | 318 | 41.9616 | -87.6660 | 41.9542 | -87.6644 | member |\n",
       "| 789F3C21E472CA96 | docked_bike | 09-01-2020 19:29 | 09-01-2020 19:32 | Broadway &amp; Belmont Ave         | 296 | Wilton Ave &amp; Belmont Ave            | 117 | 41.9401 | -87.6455 | 41.9402 | -87.6530 | member |\n",
       "| C9A388DAC6ABF313 | docked_bike | 06-01-2020 16:17 | 06-01-2020 16:25 | Clark St &amp; Randolph St         |  51 | Fairbanks Ct &amp; Grand Ave            |  24 | 41.8846 | -87.6319 | 41.8918 | -87.6206 | member |\n",
       "| 943BC3CBECCFD662 | docked_bike | 30-01-2020 08:37 | 30-01-2020 08:42 | Clinton St &amp; Lake St           |  66 | Wells St &amp; Hubbard St               | 212 | 41.8856 | -87.6418 | 41.8899 | -87.6343 | member |\n",
       "| 6D9C8A6938165C11 | docked_bike | 10-01-2020 12:33 | 10-01-2020 12:37 | Wells St &amp; Hubbard St          | 212 | Desplaines St &amp; Randolph St         |  96 | 41.8899 | -87.6343 | 41.8846 | -87.6446 | member |\n",
       "| 31EB9B8F406D4C82 | docked_bike | 10-01-2020 13:07 | 10-01-2020 13:12 | Desplaines St &amp; Randolph St    |  96 | Wells St &amp; Hubbard St               | 212 | 41.8846 | -87.6446 | 41.8899 | -87.6343 | member |\n",
       "| A2B24E3F9C9720E3 | docked_bike | 10-01-2020 07:24 | 10-01-2020 07:29 | Desplaines St &amp; Randolph St    |  96 | Wells St &amp; Hubbard St               | 212 | 41.8846 | -87.6446 | 41.8899 | -87.6343 | member |\n",
       "| 5E3F01E1441730B7 | docked_bike | 31-01-2020 16:37 | 31-01-2020 16:42 | Wells St &amp; Hubbard St          | 212 | Desplaines St &amp; Randolph St         |  96 | 41.8899 | -87.6343 | 41.8846 | -87.6446 | member |\n",
       "| 19DC57F7E3140131 | docked_bike | 31-01-2020 09:39 | 31-01-2020 09:42 | Clark St &amp; Lake St             |  38 | Orleans St &amp; Merchandise Mart Plaza | 100 | 41.8860 | -87.6309 | 41.8882 | -87.6364 | member |\n",
       "| 8639202DD9FD9A41 | docked_bike | 07-01-2020 22:46 | 07-01-2020 22:50 | Wilton Ave &amp; Belmont Ave       | 117 | Clark St &amp; Newport St               | 632 | 41.9402 | -87.6530 | 41.9445 | -87.6547 | member |\n",
       "| 9E74E3BB4FFAB93A | docked_bike | 08-01-2020 16:02 | 08-01-2020 16:09 | LaSalle St &amp; Illinois St       | 181 | Clinton St &amp; Washington Blvd        |  91 | 41.8908 | -87.6317 | 41.8834 | -87.6412 | member |\n",
       "| 3B8B2E2F29B63597 | docked_bike | 08-01-2020 09:33 | 08-01-2020 09:42 | Clinton St &amp; Washington Blvd   |  91 | LaSalle St &amp; Illinois St            | 181 | 41.8834 | -87.6412 | 41.8908 | -87.6317 | member |\n",
       "| 0F8517F8D21287D2 | docked_bike | 23-01-2020 09:38 | 23-01-2020 09:45 | Clinton St &amp; Washington Blvd   |  91 | LaSalle St &amp; Illinois St            | 181 | 41.8834 | -87.6412 | 41.8908 | -87.6317 | member |\n",
       "| 15A91638FAEC2641 | docked_bike | 28-01-2020 20:52 | 28-01-2020 21:09 | California Ave &amp; Milwaukee Ave | 123 | Marshfield Ave &amp; Cortland St        |  58 | 41.9227 | -87.6972 | 41.9160 | -87.6689 | member |\n",
       "| E45104F1ED756AF7 | docked_bike | 07-01-2020 17:06 | 07-01-2020 17:42 | Franklin St &amp; Jackson Blvd     |  36 | Lincoln Ave &amp; Diversey Pkwy         | 152 | 41.8777 | -87.6353 | 41.9322 | -87.6586 | member |\n",
       "| 219541294624C4B7 | docked_bike | 07-01-2020 08:38 | 07-01-2020 09:11 | Wilton Ave &amp; Diversey Pkwy     |  13 | Franklin St &amp; Jackson Blvd          |  36 | 41.9324 | -87.6527 | 41.8777 | -87.6353 | member |\n",
       "| 013862D47804B9A4 | docked_bike | 06-01-2020 17:16 | 06-01-2020 17:48 | Franklin St &amp; Jackson Blvd     |  36 | Lincoln Ave &amp; Diversey Pkwy         | 152 | 41.8777 | -87.6353 | 41.9322 | -87.6586 | member |\n",
       "| 00678BB4A8438651 | docked_bike | 06-01-2020 08:44 | 06-01-2020 09:21 | Lincoln Ave &amp; Diversey Pkwy    | 152 | Franklin St &amp; Jackson Blvd          |  36 | 41.9322 | -87.6586 | 41.8777 | -87.6353 | member |\n",
       "| A854F81611B5A5C0 | docked_bike | 19-01-2020 12:04 | 19-01-2020 12:10 | Kingsbury St &amp; Kinzie St       | 133 | Clark St &amp; Chicago Ave              | 337 | 41.8892 | -87.6385 | 41.8968 | -87.6309 | member |\n",
       "| 3479141FF24AD595 | docked_bike | 16-01-2020 17:10 | 16-01-2020 17:40 | Lake Shore Dr &amp; Monroe St      |  76 | Michigan Ave &amp; Washington St        |  43 | 41.8810 | -87.6167 | 41.8840 | -87.6247 | casual |\n",
       "| 81D44C3E2353F9BE | docked_bike | 08-01-2020 15:47 | 08-01-2020 15:58 | Canal St &amp; Adams St            | 192 | Michigan Ave &amp; Washington St        |  43 | 41.8793 | -87.6399 | 41.8840 | -87.6247 | member |\n",
       "| 1AA18F54DC4A8636 | docked_bike | 08-01-2020 06:29 | 08-01-2020 06:50 | Indiana Ave &amp; Roosevelt Rd     | 255 | Canal St &amp; Adams St                 | 192 | 41.8679 | -87.6230 | 41.8793 | -87.6399 | member |\n",
       "| F5FB29DCF841C9F3 | docked_bike | 08-01-2020 07:30 | 08-01-2020 07:33 | Broadway &amp; Sheridan Rd         | 256 | Sheridan Rd &amp; Irving Park Rd        | 240 | 41.9528 | -87.6500 | 41.9542 | -87.6544 | member |\n",
       "| 869F3755B34163BA | docked_bike | 23-01-2020 15:23 | 23-01-2020 15:37 | Desplaines St &amp; Jackson Blvd   | 107 | Michigan Ave &amp; Washington St        |  43 | 41.8783 | -87.6439 | 41.8840 | -87.6247 | member |\n",
       "| 00EDF290239E4843 | docked_bike | 23-01-2020 14:59 | 23-01-2020 15:02 | Canal St &amp; Adams St            | 192 | Desplaines St &amp; Jackson Blvd        | 107 | 41.8793 | -87.6399 | 41.8783 | -87.6439 | member |\n",
       "| CA8E2F8EB7A7639C | docked_bike | 11-01-2020 14:45 | 11-01-2020 14:58 | Western Ave &amp; Division St      | 305 | Wood St &amp; Hubbard St                | 285 | 41.9029 | -87.6873 | 41.8899 | -87.6715 | member |\n",
       "| 7996062626A55CEF | docked_bike | 17-01-2020 13:44 | 17-01-2020 13:48 | Franklin St &amp; Jackson Blvd     |  36 | Wells St &amp; Polk St                  | 175 | 41.8777 | -87.6353 | 41.8726 | -87.6335 | member |\n",
       "| 142E7C9831AE8D5D | docked_bike | 08-01-2020 08:23 | 08-01-2020 08:36 | Dearborn St &amp; Erie St          | 110 | Franklin St &amp; Adams St (Temp)       | 286 | 41.8940 | -87.6293 | 41.8794 | -87.6355 | member |\n",
       "| 82061D73814586B2 | docked_bike | 08-01-2020 16:22 | 08-01-2020 16:30 | Franklin St &amp; Jackson Blvd     |  36 | Green St &amp; Madison St               | 198 | 41.8777 | -87.6353 | 41.8819 | -87.6488 | member |\n",
       "| ⋮ | ⋮ | ⋮ | ⋮ | ⋮ | ⋮ | ⋮ | ⋮ | ⋮ | ⋮ | ⋮ | ⋮ | ⋮ |\n",
       "| 8A8A039BB7072249 | docked_bike | 02-03-2020 17:29 | 02-03-2020 17:50 | Clark St &amp; Lincoln Ave          | 141 | Halsted St &amp; Wrightwood Ave     | 349 | 41.9157 | -87.6346 | 41.9291 | -87.6491 | casual |\n",
       "| 6244F21F053BA361 | docked_bike | 13-03-2020 16:58 | 13-03-2020 17:31 | Franklin St &amp; Jackson Blvd      |  36 | Wabash Ave &amp; Wacker Pl          | 194 | 41.8777 | -87.6353 | 41.8869 | -87.6260 | casual |\n",
       "| 058D62FDDBF3C606 | docked_bike | 12-03-2020 15:39 | 12-03-2020 15:43 | Broadway &amp; Waveland Ave         | 304 | Pine Grove Ave &amp; Irving Park Rd | 254 | 41.9491 | -87.6486 | 41.9544 | -87.6480 | member |\n",
       "| A2FFBD0AA763B19D | docked_bike | 11-03-2020 18:39 | 11-03-2020 18:55 | Kingsbury St &amp; Kinzie St        | 133 | Clark St &amp; Armitage Ave         |  94 | 41.8892 | -87.6385 | 41.9183 | -87.6363 | member |\n",
       "| 21A760C7DC9FD318 | docked_bike | 11-03-2020 16:06 | 11-03-2020 16:17 | Wood St &amp; Hubbard St            | 285 | Kingsbury St &amp; Kinzie St        | 133 | 41.8899 | -87.6715 | 41.8892 | -87.6385 | member |\n",
       "| 36A20E87B11FF36D | docked_bike | 01-03-2020 15:16 | 01-03-2020 16:36 | Woodlawn Ave &amp; 55th St          | 248 | Woodlawn Ave &amp; 55th St          | 248 | 41.7953 | -87.5965 | 41.7953 | -87.5965 | casual |\n",
       "| FEB95D075E9435E4 | docked_bike | 04-03-2020 07:25 | 04-03-2020 07:28 | Pine Grove Ave &amp; Irving Park Rd | 254 | Broadway &amp; Waveland Ave         | 304 | 41.9544 | -87.6480 | 41.9491 | -87.6486 | member |\n",
       "| FD4B140C786D9E1D | docked_bike | 04-03-2020 17:54 | 04-03-2020 18:04 | Kingsbury St &amp; Kinzie St        | 133 | Wood St &amp; Hubbard St            | 285 | 41.8892 | -87.6385 | 41.8899 | -87.6715 | member |\n",
       "| 062828AF86F56FA8 | docked_bike | 10-03-2020 15:38 | 10-03-2020 15:48 | Wood St &amp; Hubbard St            | 285 | Kingsbury St &amp; Kinzie St        | 133 | 41.8899 | -87.6715 | 41.8892 | -87.6385 | member |\n",
       "| FB323E655F08521D | docked_bike | 10-03-2020 08:46 | 10-03-2020 08:54 | McClurg Ct &amp; Illinois St        |  26 | State St &amp; Kinzie St            |  47 | 41.8904 | -87.6175 | 41.8892 | -87.6278 | member |\n",
       "| 7CD5C610872581BB | docked_bike | 02-03-2020 15:56 | 02-03-2020 16:04 | State St &amp; Kinzie St            |  47 | Clinton St &amp; Washington Blvd    |  91 | 41.8892 | -87.6278 | 41.8834 | -87.6412 | member |\n",
       "| 330C4C8905197AAD | docked_bike | 08-03-2020 13:34 | 08-03-2020 13:55 | Buckingham Fountain             |   2 | Rush St &amp; Cedar St              | 172 | 41.8765 | -87.6205 | 41.9023 | -87.6277 | casual |\n",
       "| 0B8742C644002BB1 | docked_bike | 10-03-2020 06:46 | 10-03-2020 06:54 | Clinton St &amp; Washington Blvd    |  91 | State St &amp; Kinzie St            |  47 | 41.8834 | -87.6412 | 41.8892 | -87.6278 | member |\n",
       "| BA30D82E5928E7A7 | docked_bike | 09-03-2020 15:52 | 09-03-2020 15:59 | State St &amp; Kinzie St            |  47 | Clinton St &amp; Washington Blvd    |  91 | 41.8892 | -87.6278 | 41.8834 | -87.6412 | member |\n",
       "| B46765A0DB572D4B | docked_bike | 12-03-2020 15:57 | 12-03-2020 16:04 | State St &amp; Kinzie St            |  47 | Clinton St &amp; Washington Blvd    |  91 | 41.8892 | -87.6278 | 41.8834 | -87.6412 | member |\n",
       "| 1C755B56146D806B | docked_bike | 06-03-2020 07:13 | 06-03-2020 07:21 | Clinton St &amp; Washington Blvd    |  91 | State St &amp; Kinzie St            |  47 | 41.8834 | -87.6412 | 41.8892 | -87.6278 | member |\n",
       "| 46230CF6653E2CDE | docked_bike | 25-03-2020 17:59 | 25-03-2020 18:29 | Lakefront Trail &amp; Bryn Mawr Ave | 459 | Lakeview Ave &amp; Fullerton Pkwy   | 313 | 41.9840 | -87.6523 | 41.9259 | -87.6390 | member |\n",
       "| 62BD7FE2B823B34E | docked_bike | 11-03-2020 15:56 | 11-03-2020 16:03 | State St &amp; Kinzie St            |  47 | Clinton St &amp; Washington Blvd    |  91 | 41.8892 | -87.6278 | 41.8834 | -87.6412 | member |\n",
       "| 0E1BBACD66CAF13D | docked_bike | 02-03-2020 06:47 | 02-03-2020 06:55 | Clinton St &amp; Washington Blvd    |  91 | State St &amp; Kinzie St            |  47 | 41.8834 | -87.6412 | 41.8892 | -87.6278 | member |\n",
       "| 72C026003AC3ED3C | docked_bike | 04-03-2020 07:13 | 04-03-2020 07:21 | Wacker Dr &amp; Washington St       |  18 | State St &amp; Kinzie St            |  47 | 41.8831 | -87.6373 | 41.8892 | -87.6278 | member |\n",
       "| 59CD7783230EBC26 | docked_bike | 06-03-2020 15:58 | 06-03-2020 16:05 | State St &amp; Kinzie St            |  47 | Clinton St &amp; Washington Blvd    |  91 | 41.8892 | -87.6278 | 41.8834 | -87.6412 | member |\n",
       "| 33EE865F3D9E5D00 | docked_bike | 08-03-2020 17:22 | 08-03-2020 17:28 | Green St &amp; Randolph St          | 112 | Aberdeen St &amp; Jackson Blvd      |  21 | 41.8837 | -87.6487 | 41.8777 | -87.6548 | member |\n",
       "| 4361A2348584C3E4 | docked_bike | 25-03-2020 17:10 | 25-03-2020 17:47 | Lakeview Ave &amp; Fullerton Pkwy   | 313 | Lakefront Trail &amp; Bryn Mawr Ave | 459 | 41.9259 | -87.6390 | 41.9840 | -87.6523 | member |\n",
       "| 005D3BC2A3B33DDA | docked_bike | 12-03-2020 07:32 | 12-03-2020 07:38 | Clinton St &amp; Washington Blvd    |  91 | State St &amp; Kinzie St            |  47 | 41.8834 | -87.6412 | 41.8892 | -87.6278 | member |\n",
       "| 6F4D221BDDFD943F | docked_bike | 10-03-2020 10:40 | 10-03-2020 10:40 | HQ QR                           | 675 | HQ QR                           | 675 | 41.8899 | -87.6803 | 41.8899 | -87.6803 | casual |\n",
       "| ADDAA33CEBCAE733 | docked_bike | 10-03-2020 10:40 | 10-03-2020 10:40 | HQ QR                           | 675 | HQ QR                           | 675 | 41.8899 | -87.6803 | 41.8899 | -87.6803 | casual |\n",
       "| 82B10FA3994BC66A | docked_bike | 07-03-2020 15:25 | 07-03-2020 16:14 | Rush St &amp; Superior St           | 161 | Sheridan Rd &amp; Irving Park Rd    | 240 | 41.8958 | -87.6259 | 41.9542 | -87.6544 | member |\n",
       "| AA0D5AAA0B59C8AA | docked_bike | 01-03-2020 13:12 | 01-03-2020 13:38 | Clark St &amp; Lincoln Ave          | 141 | Ashland Ave &amp; Division St       | 210 | 41.9157 | -87.6346 | 41.9035 | -87.6677 | casual |\n",
       "| 3296360A7BC20FB8 | docked_bike | 07-03-2020 18:02 | 07-03-2020 18:13 | Franklin St &amp; Illinois St       | 672 | Stetson Ave &amp; South Water St    | 264 | 41.8910 | -87.6355 | 41.8868 | -87.6223 | member |\n",
       "| 064EC7698E4FF9B3 | docked_bike | 08-03-2020 13:03 | 08-03-2020 13:32 | Dearborn St &amp; Erie St           | 110 | Michigan Ave &amp; Oak St           |  85 | 41.8940 | -87.6293 | 41.9010 | -87.6238 | casual |\n",
       "\n"
      ],
      "text/plain": [
       "       ride_id          rideable_type started_at       ended_at        \n",
       "1      EACB19130B0CDA4A docked_bike   21-01-2020 20:06 21-01-2020 20:14\n",
       "2      8FED874C809DC021 docked_bike   30-01-2020 14:22 30-01-2020 14:26\n",
       "3      789F3C21E472CA96 docked_bike   09-01-2020 19:29 09-01-2020 19:32\n",
       "4      C9A388DAC6ABF313 docked_bike   06-01-2020 16:17 06-01-2020 16:25\n",
       "5      943BC3CBECCFD662 docked_bike   30-01-2020 08:37 30-01-2020 08:42\n",
       "6      6D9C8A6938165C11 docked_bike   10-01-2020 12:33 10-01-2020 12:37\n",
       "7      31EB9B8F406D4C82 docked_bike   10-01-2020 13:07 10-01-2020 13:12\n",
       "8      A2B24E3F9C9720E3 docked_bike   10-01-2020 07:24 10-01-2020 07:29\n",
       "9      5E3F01E1441730B7 docked_bike   31-01-2020 16:37 31-01-2020 16:42\n",
       "10     19DC57F7E3140131 docked_bike   31-01-2020 09:39 31-01-2020 09:42\n",
       "11     8639202DD9FD9A41 docked_bike   07-01-2020 22:46 07-01-2020 22:50\n",
       "12     9E74E3BB4FFAB93A docked_bike   08-01-2020 16:02 08-01-2020 16:09\n",
       "13     3B8B2E2F29B63597 docked_bike   08-01-2020 09:33 08-01-2020 09:42\n",
       "14     0F8517F8D21287D2 docked_bike   23-01-2020 09:38 23-01-2020 09:45\n",
       "15     15A91638FAEC2641 docked_bike   28-01-2020 20:52 28-01-2020 21:09\n",
       "16     E45104F1ED756AF7 docked_bike   07-01-2020 17:06 07-01-2020 17:42\n",
       "17     219541294624C4B7 docked_bike   07-01-2020 08:38 07-01-2020 09:11\n",
       "18     013862D47804B9A4 docked_bike   06-01-2020 17:16 06-01-2020 17:48\n",
       "19     00678BB4A8438651 docked_bike   06-01-2020 08:44 06-01-2020 09:21\n",
       "20     A854F81611B5A5C0 docked_bike   19-01-2020 12:04 19-01-2020 12:10\n",
       "21     3479141FF24AD595 docked_bike   16-01-2020 17:10 16-01-2020 17:40\n",
       "22     81D44C3E2353F9BE docked_bike   08-01-2020 15:47 08-01-2020 15:58\n",
       "23     1AA18F54DC4A8636 docked_bike   08-01-2020 06:29 08-01-2020 06:50\n",
       "24     F5FB29DCF841C9F3 docked_bike   08-01-2020 07:30 08-01-2020 07:33\n",
       "25     869F3755B34163BA docked_bike   23-01-2020 15:23 23-01-2020 15:37\n",
       "26     00EDF290239E4843 docked_bike   23-01-2020 14:59 23-01-2020 15:02\n",
       "27     CA8E2F8EB7A7639C docked_bike   11-01-2020 14:45 11-01-2020 14:58\n",
       "28     7996062626A55CEF docked_bike   17-01-2020 13:44 17-01-2020 13:48\n",
       "29     142E7C9831AE8D5D docked_bike   08-01-2020 08:23 08-01-2020 08:36\n",
       "30     82061D73814586B2 docked_bike   08-01-2020 16:22 08-01-2020 16:30\n",
       "⋮      ⋮                ⋮             ⋮                ⋮               \n",
       "426858 8A8A039BB7072249 docked_bike   02-03-2020 17:29 02-03-2020 17:50\n",
       "426859 6244F21F053BA361 docked_bike   13-03-2020 16:58 13-03-2020 17:31\n",
       "426860 058D62FDDBF3C606 docked_bike   12-03-2020 15:39 12-03-2020 15:43\n",
       "426861 A2FFBD0AA763B19D docked_bike   11-03-2020 18:39 11-03-2020 18:55\n",
       "426862 21A760C7DC9FD318 docked_bike   11-03-2020 16:06 11-03-2020 16:17\n",
       "426863 36A20E87B11FF36D docked_bike   01-03-2020 15:16 01-03-2020 16:36\n",
       "426864 FEB95D075E9435E4 docked_bike   04-03-2020 07:25 04-03-2020 07:28\n",
       "426865 FD4B140C786D9E1D docked_bike   04-03-2020 17:54 04-03-2020 18:04\n",
       "426866 062828AF86F56FA8 docked_bike   10-03-2020 15:38 10-03-2020 15:48\n",
       "426867 FB323E655F08521D docked_bike   10-03-2020 08:46 10-03-2020 08:54\n",
       "426868 7CD5C610872581BB docked_bike   02-03-2020 15:56 02-03-2020 16:04\n",
       "426869 330C4C8905197AAD docked_bike   08-03-2020 13:34 08-03-2020 13:55\n",
       "426870 0B8742C644002BB1 docked_bike   10-03-2020 06:46 10-03-2020 06:54\n",
       "426871 BA30D82E5928E7A7 docked_bike   09-03-2020 15:52 09-03-2020 15:59\n",
       "426872 B46765A0DB572D4B docked_bike   12-03-2020 15:57 12-03-2020 16:04\n",
       "426873 1C755B56146D806B docked_bike   06-03-2020 07:13 06-03-2020 07:21\n",
       "426874 46230CF6653E2CDE docked_bike   25-03-2020 17:59 25-03-2020 18:29\n",
       "426875 62BD7FE2B823B34E docked_bike   11-03-2020 15:56 11-03-2020 16:03\n",
       "426876 0E1BBACD66CAF13D docked_bike   02-03-2020 06:47 02-03-2020 06:55\n",
       "426877 72C026003AC3ED3C docked_bike   04-03-2020 07:13 04-03-2020 07:21\n",
       "426878 59CD7783230EBC26 docked_bike   06-03-2020 15:58 06-03-2020 16:05\n",
       "426879 33EE865F3D9E5D00 docked_bike   08-03-2020 17:22 08-03-2020 17:28\n",
       "426880 4361A2348584C3E4 docked_bike   25-03-2020 17:10 25-03-2020 17:47\n",
       "426881 005D3BC2A3B33DDA docked_bike   12-03-2020 07:32 12-03-2020 07:38\n",
       "426882 6F4D221BDDFD943F docked_bike   10-03-2020 10:40 10-03-2020 10:40\n",
       "426883 ADDAA33CEBCAE733 docked_bike   10-03-2020 10:40 10-03-2020 10:40\n",
       "426884 82B10FA3994BC66A docked_bike   07-03-2020 15:25 07-03-2020 16:14\n",
       "426885 AA0D5AAA0B59C8AA docked_bike   01-03-2020 13:12 01-03-2020 13:38\n",
       "426886 3296360A7BC20FB8 docked_bike   07-03-2020 18:02 07-03-2020 18:13\n",
       "426887 064EC7698E4FF9B3 docked_bike   08-03-2020 13:03 08-03-2020 13:32\n",
       "       start_station_name              start_station_id\n",
       "1      Western Ave & Leland Ave        239             \n",
       "2      Clark St & Montrose Ave         234             \n",
       "3      Broadway & Belmont Ave          296             \n",
       "4      Clark St & Randolph St           51             \n",
       "5      Clinton St & Lake St             66             \n",
       "6      Wells St & Hubbard St           212             \n",
       "7      Desplaines St & Randolph St      96             \n",
       "8      Desplaines St & Randolph St      96             \n",
       "9      Wells St & Hubbard St           212             \n",
       "10     Clark St & Lake St               38             \n",
       "11     Wilton Ave & Belmont Ave        117             \n",
       "12     LaSalle St & Illinois St        181             \n",
       "13     Clinton St & Washington Blvd     91             \n",
       "14     Clinton St & Washington Blvd     91             \n",
       "15     California Ave & Milwaukee Ave  123             \n",
       "16     Franklin St & Jackson Blvd       36             \n",
       "17     Wilton Ave & Diversey Pkwy       13             \n",
       "18     Franklin St & Jackson Blvd       36             \n",
       "19     Lincoln Ave & Diversey Pkwy     152             \n",
       "20     Kingsbury St & Kinzie St        133             \n",
       "21     Lake Shore Dr & Monroe St        76             \n",
       "22     Canal St & Adams St             192             \n",
       "23     Indiana Ave & Roosevelt Rd      255             \n",
       "24     Broadway & Sheridan Rd          256             \n",
       "25     Desplaines St & Jackson Blvd    107             \n",
       "26     Canal St & Adams St             192             \n",
       "27     Western Ave & Division St       305             \n",
       "28     Franklin St & Jackson Blvd       36             \n",
       "29     Dearborn St & Erie St           110             \n",
       "30     Franklin St & Jackson Blvd       36             \n",
       "⋮      ⋮                               ⋮               \n",
       "426858 Clark St & Lincoln Ave          141             \n",
       "426859 Franklin St & Jackson Blvd       36             \n",
       "426860 Broadway & Waveland Ave         304             \n",
       "426861 Kingsbury St & Kinzie St        133             \n",
       "426862 Wood St & Hubbard St            285             \n",
       "426863 Woodlawn Ave & 55th St          248             \n",
       "426864 Pine Grove Ave & Irving Park Rd 254             \n",
       "426865 Kingsbury St & Kinzie St        133             \n",
       "426866 Wood St & Hubbard St            285             \n",
       "426867 McClurg Ct & Illinois St         26             \n",
       "426868 State St & Kinzie St             47             \n",
       "426869 Buckingham Fountain               2             \n",
       "426870 Clinton St & Washington Blvd     91             \n",
       "426871 State St & Kinzie St             47             \n",
       "426872 State St & Kinzie St             47             \n",
       "426873 Clinton St & Washington Blvd     91             \n",
       "426874 Lakefront Trail & Bryn Mawr Ave 459             \n",
       "426875 State St & Kinzie St             47             \n",
       "426876 Clinton St & Washington Blvd     91             \n",
       "426877 Wacker Dr & Washington St        18             \n",
       "426878 State St & Kinzie St             47             \n",
       "426879 Green St & Randolph St          112             \n",
       "426880 Lakeview Ave & Fullerton Pkwy   313             \n",
       "426881 Clinton St & Washington Blvd     91             \n",
       "426882 HQ QR                           675             \n",
       "426883 HQ QR                           675             \n",
       "426884 Rush St & Superior St           161             \n",
       "426885 Clark St & Lincoln Ave          141             \n",
       "426886 Franklin St & Illinois St       672             \n",
       "426887 Dearborn St & Erie St           110             \n",
       "       end_station_name                    end_station_id start_lat start_lng\n",
       "1      Clark St & Leland Ave               326            41.9665   -87.6884 \n",
       "2      Southport Ave & Irving Park Rd      318            41.9616   -87.6660 \n",
       "3      Wilton Ave & Belmont Ave            117            41.9401   -87.6455 \n",
       "4      Fairbanks Ct & Grand Ave             24            41.8846   -87.6319 \n",
       "5      Wells St & Hubbard St               212            41.8856   -87.6418 \n",
       "6      Desplaines St & Randolph St          96            41.8899   -87.6343 \n",
       "7      Wells St & Hubbard St               212            41.8846   -87.6446 \n",
       "8      Wells St & Hubbard St               212            41.8846   -87.6446 \n",
       "9      Desplaines St & Randolph St          96            41.8899   -87.6343 \n",
       "10     Orleans St & Merchandise Mart Plaza 100            41.8860   -87.6309 \n",
       "11     Clark St & Newport St               632            41.9402   -87.6530 \n",
       "12     Clinton St & Washington Blvd         91            41.8908   -87.6317 \n",
       "13     LaSalle St & Illinois St            181            41.8834   -87.6412 \n",
       "14     LaSalle St & Illinois St            181            41.8834   -87.6412 \n",
       "15     Marshfield Ave & Cortland St         58            41.9227   -87.6972 \n",
       "16     Lincoln Ave & Diversey Pkwy         152            41.8777   -87.6353 \n",
       "17     Franklin St & Jackson Blvd           36            41.9324   -87.6527 \n",
       "18     Lincoln Ave & Diversey Pkwy         152            41.8777   -87.6353 \n",
       "19     Franklin St & Jackson Blvd           36            41.9322   -87.6586 \n",
       "20     Clark St & Chicago Ave              337            41.8892   -87.6385 \n",
       "21     Michigan Ave & Washington St         43            41.8810   -87.6167 \n",
       "22     Michigan Ave & Washington St         43            41.8793   -87.6399 \n",
       "23     Canal St & Adams St                 192            41.8679   -87.6230 \n",
       "24     Sheridan Rd & Irving Park Rd        240            41.9528   -87.6500 \n",
       "25     Michigan Ave & Washington St         43            41.8783   -87.6439 \n",
       "26     Desplaines St & Jackson Blvd        107            41.8793   -87.6399 \n",
       "27     Wood St & Hubbard St                285            41.9029   -87.6873 \n",
       "28     Wells St & Polk St                  175            41.8777   -87.6353 \n",
       "29     Franklin St & Adams St (Temp)       286            41.8940   -87.6293 \n",
       "30     Green St & Madison St               198            41.8777   -87.6353 \n",
       "⋮      ⋮                                   ⋮              ⋮         ⋮        \n",
       "426858 Halsted St & Wrightwood Ave         349            41.9157   -87.6346 \n",
       "426859 Wabash Ave & Wacker Pl              194            41.8777   -87.6353 \n",
       "426860 Pine Grove Ave & Irving Park Rd     254            41.9491   -87.6486 \n",
       "426861 Clark St & Armitage Ave              94            41.8892   -87.6385 \n",
       "426862 Kingsbury St & Kinzie St            133            41.8899   -87.6715 \n",
       "426863 Woodlawn Ave & 55th St              248            41.7953   -87.5965 \n",
       "426864 Broadway & Waveland Ave             304            41.9544   -87.6480 \n",
       "426865 Wood St & Hubbard St                285            41.8892   -87.6385 \n",
       "426866 Kingsbury St & Kinzie St            133            41.8899   -87.6715 \n",
       "426867 State St & Kinzie St                 47            41.8904   -87.6175 \n",
       "426868 Clinton St & Washington Blvd         91            41.8892   -87.6278 \n",
       "426869 Rush St & Cedar St                  172            41.8765   -87.6205 \n",
       "426870 State St & Kinzie St                 47            41.8834   -87.6412 \n",
       "426871 Clinton St & Washington Blvd         91            41.8892   -87.6278 \n",
       "426872 Clinton St & Washington Blvd         91            41.8892   -87.6278 \n",
       "426873 State St & Kinzie St                 47            41.8834   -87.6412 \n",
       "426874 Lakeview Ave & Fullerton Pkwy       313            41.9840   -87.6523 \n",
       "426875 Clinton St & Washington Blvd         91            41.8892   -87.6278 \n",
       "426876 State St & Kinzie St                 47            41.8834   -87.6412 \n",
       "426877 State St & Kinzie St                 47            41.8831   -87.6373 \n",
       "426878 Clinton St & Washington Blvd         91            41.8892   -87.6278 \n",
       "426879 Aberdeen St & Jackson Blvd           21            41.8837   -87.6487 \n",
       "426880 Lakefront Trail & Bryn Mawr Ave     459            41.9259   -87.6390 \n",
       "426881 State St & Kinzie St                 47            41.8834   -87.6412 \n",
       "426882 HQ QR                               675            41.8899   -87.6803 \n",
       "426883 HQ QR                               675            41.8899   -87.6803 \n",
       "426884 Sheridan Rd & Irving Park Rd        240            41.8958   -87.6259 \n",
       "426885 Ashland Ave & Division St           210            41.9157   -87.6346 \n",
       "426886 Stetson Ave & South Water St        264            41.8910   -87.6355 \n",
       "426887 Michigan Ave & Oak St                85            41.8940   -87.6293 \n",
       "       end_lat end_lng  member_casual\n",
       "1      41.9671 -87.6674 member       \n",
       "2      41.9542 -87.6644 member       \n",
       "3      41.9402 -87.6530 member       \n",
       "4      41.8918 -87.6206 member       \n",
       "5      41.8899 -87.6343 member       \n",
       "6      41.8846 -87.6446 member       \n",
       "7      41.8899 -87.6343 member       \n",
       "8      41.8899 -87.6343 member       \n",
       "9      41.8846 -87.6446 member       \n",
       "10     41.8882 -87.6364 member       \n",
       "11     41.9445 -87.6547 member       \n",
       "12     41.8834 -87.6412 member       \n",
       "13     41.8908 -87.6317 member       \n",
       "14     41.8908 -87.6317 member       \n",
       "15     41.9160 -87.6689 member       \n",
       "16     41.9322 -87.6586 member       \n",
       "17     41.8777 -87.6353 member       \n",
       "18     41.9322 -87.6586 member       \n",
       "19     41.8777 -87.6353 member       \n",
       "20     41.8968 -87.6309 member       \n",
       "21     41.8840 -87.6247 casual       \n",
       "22     41.8840 -87.6247 member       \n",
       "23     41.8793 -87.6399 member       \n",
       "24     41.9542 -87.6544 member       \n",
       "25     41.8840 -87.6247 member       \n",
       "26     41.8783 -87.6439 member       \n",
       "27     41.8899 -87.6715 member       \n",
       "28     41.8726 -87.6335 member       \n",
       "29     41.8794 -87.6355 member       \n",
       "30     41.8819 -87.6488 member       \n",
       "⋮      ⋮       ⋮        ⋮            \n",
       "426858 41.9291 -87.6491 casual       \n",
       "426859 41.8869 -87.6260 casual       \n",
       "426860 41.9544 -87.6480 member       \n",
       "426861 41.9183 -87.6363 member       \n",
       "426862 41.8892 -87.6385 member       \n",
       "426863 41.7953 -87.5965 casual       \n",
       "426864 41.9491 -87.6486 member       \n",
       "426865 41.8899 -87.6715 member       \n",
       "426866 41.8892 -87.6385 member       \n",
       "426867 41.8892 -87.6278 member       \n",
       "426868 41.8834 -87.6412 member       \n",
       "426869 41.9023 -87.6277 casual       \n",
       "426870 41.8892 -87.6278 member       \n",
       "426871 41.8834 -87.6412 member       \n",
       "426872 41.8834 -87.6412 member       \n",
       "426873 41.8892 -87.6278 member       \n",
       "426874 41.9259 -87.6390 member       \n",
       "426875 41.8834 -87.6412 member       \n",
       "426876 41.8892 -87.6278 member       \n",
       "426877 41.8892 -87.6278 member       \n",
       "426878 41.8834 -87.6412 member       \n",
       "426879 41.8777 -87.6548 member       \n",
       "426880 41.9840 -87.6523 member       \n",
       "426881 41.8892 -87.6278 member       \n",
       "426882 41.8899 -87.6803 casual       \n",
       "426883 41.8899 -87.6803 casual       \n",
       "426884 41.9542 -87.6544 member       \n",
       "426885 41.9035 -87.6677 casual       \n",
       "426886 41.8868 -87.6223 member       \n",
       "426887 41.9010 -87.6238 casual       "
      ]
     },
     "metadata": {},
     "output_type": "display_data"
    }
   ],
   "source": [
    "View(dataset)"
   ]
  },
  {
   "cell_type": "markdown",
   "id": "ef5990d8",
   "metadata": {
    "papermill": {
     "duration": 0.035252,
     "end_time": "2021-07-07T10:17:26.097137",
     "exception": false,
     "start_time": "2021-07-07T10:17:26.061885",
     "status": "completed"
    },
    "tags": []
   },
   "source": [
    "Let us have a look at the column names to get an idea of the dataset."
   ]
  },
  {
   "cell_type": "code",
   "execution_count": 5,
   "id": "8569b36b",
   "metadata": {
    "execution": {
     "iopub.execute_input": "2021-07-07T10:17:26.172141Z",
     "iopub.status.busy": "2021-07-07T10:17:26.170842Z",
     "iopub.status.idle": "2021-07-07T10:17:26.185497Z",
     "shell.execute_reply": "2021-07-07T10:17:26.184397Z"
    },
    "papermill": {
     "duration": 0.053635,
     "end_time": "2021-07-07T10:17:26.185649",
     "exception": false,
     "start_time": "2021-07-07T10:17:26.132014",
     "status": "completed"
    },
    "tags": []
   },
   "outputs": [
    {
     "data": {
      "text/html": [
       "<style>\n",
       ".list-inline {list-style: none; margin:0; padding: 0}\n",
       ".list-inline>li {display: inline-block}\n",
       ".list-inline>li:not(:last-child)::after {content: \"\\00b7\"; padding: 0 .5ex}\n",
       "</style>\n",
       "<ol class=list-inline><li>'ride_id'</li><li>'rideable_type'</li><li>'started_at'</li><li>'ended_at'</li><li>'start_station_name'</li><li>'start_station_id'</li><li>'end_station_name'</li><li>'end_station_id'</li><li>'start_lat'</li><li>'start_lng'</li><li>'end_lat'</li><li>'end_lng'</li><li>'member_casual'</li></ol>\n"
      ],
      "text/latex": [
       "\\begin{enumerate*}\n",
       "\\item 'ride\\_id'\n",
       "\\item 'rideable\\_type'\n",
       "\\item 'started\\_at'\n",
       "\\item 'ended\\_at'\n",
       "\\item 'start\\_station\\_name'\n",
       "\\item 'start\\_station\\_id'\n",
       "\\item 'end\\_station\\_name'\n",
       "\\item 'end\\_station\\_id'\n",
       "\\item 'start\\_lat'\n",
       "\\item 'start\\_lng'\n",
       "\\item 'end\\_lat'\n",
       "\\item 'end\\_lng'\n",
       "\\item 'member\\_casual'\n",
       "\\end{enumerate*}\n"
      ],
      "text/markdown": [
       "1. 'ride_id'\n",
       "2. 'rideable_type'\n",
       "3. 'started_at'\n",
       "4. 'ended_at'\n",
       "5. 'start_station_name'\n",
       "6. 'start_station_id'\n",
       "7. 'end_station_name'\n",
       "8. 'end_station_id'\n",
       "9. 'start_lat'\n",
       "10. 'start_lng'\n",
       "11. 'end_lat'\n",
       "12. 'end_lng'\n",
       "13. 'member_casual'\n",
       "\n",
       "\n"
      ],
      "text/plain": [
       " [1] \"ride_id\"            \"rideable_type\"      \"started_at\"        \n",
       " [4] \"ended_at\"           \"start_station_name\" \"start_station_id\"  \n",
       " [7] \"end_station_name\"   \"end_station_id\"     \"start_lat\"         \n",
       "[10] \"start_lng\"          \"end_lat\"            \"end_lng\"           \n",
       "[13] \"member_casual\"     "
      ]
     },
     "metadata": {},
     "output_type": "display_data"
    }
   ],
   "source": [
    "colnames(dataset)"
   ]
  },
  {
   "cell_type": "markdown",
   "id": "74cce285",
   "metadata": {
    "papermill": {
     "duration": 0.035998,
     "end_time": "2021-07-07T10:17:26.256976",
     "exception": false,
     "start_time": "2021-07-07T10:17:26.220978",
     "status": "completed"
    },
    "tags": []
   },
   "source": [
    "# Cleaning up the data to prepare for analysis\n",
    "\n",
    "Converting data types of started_at and ended_at columns from string to date format."
   ]
  },
  {
   "cell_type": "code",
   "execution_count": 6,
   "id": "1591d583",
   "metadata": {
    "execution": {
     "iopub.execute_input": "2021-07-07T10:17:26.334271Z",
     "iopub.status.busy": "2021-07-07T10:17:26.332754Z",
     "iopub.status.idle": "2021-07-07T10:17:26.358953Z",
     "shell.execute_reply": "2021-07-07T10:17:26.357735Z"
    },
    "papermill": {
     "duration": 0.06628,
     "end_time": "2021-07-07T10:17:26.359072",
     "exception": false,
     "start_time": "2021-07-07T10:17:26.292792",
     "status": "completed"
    },
    "tags": []
   },
   "outputs": [
    {
     "name": "stderr",
     "output_type": "stream",
     "text": [
      "\n",
      "Attaching package: ‘lubridate’\n",
      "\n",
      "\n",
      "The following objects are masked from ‘package:base’:\n",
      "\n",
      "    date, intersect, setdiff, union\n",
      "\n",
      "\n"
     ]
    }
   ],
   "source": [
    "library(lubridate)"
   ]
  },
  {
   "cell_type": "code",
   "execution_count": 7,
   "id": "49b397f5",
   "metadata": {
    "execution": {
     "iopub.execute_input": "2021-07-07T10:17:26.437273Z",
     "iopub.status.busy": "2021-07-07T10:17:26.435839Z",
     "iopub.status.idle": "2021-07-07T10:17:27.068536Z",
     "shell.execute_reply": "2021-07-07T10:17:27.067222Z"
    },
    "papermill": {
     "duration": 0.673241,
     "end_time": "2021-07-07T10:17:27.068735",
     "exception": false,
     "start_time": "2021-07-07T10:17:26.395494",
     "status": "completed"
    },
    "tags": []
   },
   "outputs": [],
   "source": [
    "datasetv1 <- dataset %>%\n",
    "    mutate(started_at = dmy_hm(dataset$started_at), ended_at = dmy_hm(dataset$ended_at))"
   ]
  },
  {
   "cell_type": "code",
   "execution_count": 8,
   "id": "b301fb41",
   "metadata": {
    "execution": {
     "iopub.execute_input": "2021-07-07T10:17:27.146779Z",
     "iopub.status.busy": "2021-07-07T10:17:27.145375Z",
     "iopub.status.idle": "2021-07-07T10:17:27.183975Z",
     "shell.execute_reply": "2021-07-07T10:17:27.182548Z"
    },
    "papermill": {
     "duration": 0.078278,
     "end_time": "2021-07-07T10:17:27.184111",
     "exception": false,
     "start_time": "2021-07-07T10:17:27.105833",
     "status": "completed"
    },
    "tags": []
   },
   "outputs": [
    {
     "name": "stdout",
     "output_type": "stream",
     "text": [
      "spec_tbl_df [426,887 × 13] (S3: spec_tbl_df/tbl_df/tbl/data.frame)\n",
      " $ ride_id           : chr [1:426887] \"EACB19130B0CDA4A\" \"8FED874C809DC021\" \"789F3C21E472CA96\" \"C9A388DAC6ABF313\" ...\n",
      " $ rideable_type     : chr [1:426887] \"docked_bike\" \"docked_bike\" \"docked_bike\" \"docked_bike\" ...\n",
      " $ started_at        : POSIXct[1:426887], format: \"2020-01-21 20:06:00\" \"2020-01-30 14:22:00\" ...\n",
      " $ ended_at          : POSIXct[1:426887], format: \"2020-01-21 20:14:00\" \"2020-01-30 14:26:00\" ...\n",
      " $ start_station_name: chr [1:426887] \"Western Ave & Leland Ave\" \"Clark St & Montrose Ave\" \"Broadway & Belmont Ave\" \"Clark St & Randolph St\" ...\n",
      " $ start_station_id  : num [1:426887] 239 234 296 51 66 212 96 96 212 38 ...\n",
      " $ end_station_name  : chr [1:426887] \"Clark St & Leland Ave\" \"Southport Ave & Irving Park Rd\" \"Wilton Ave & Belmont Ave\" \"Fairbanks Ct & Grand Ave\" ...\n",
      " $ end_station_id    : num [1:426887] 326 318 117 24 212 96 212 212 96 100 ...\n",
      " $ start_lat         : num [1:426887] 42 42 41.9 41.9 41.9 ...\n",
      " $ start_lng         : num [1:426887] -87.7 -87.7 -87.6 -87.6 -87.6 ...\n",
      " $ end_lat           : num [1:426887] 42 42 41.9 41.9 41.9 ...\n",
      " $ end_lng           : num [1:426887] -87.7 -87.7 -87.7 -87.6 -87.6 ...\n",
      " $ member_casual     : chr [1:426887] \"member\" \"member\" \"member\" \"member\" ...\n",
      " - attr(*, \"spec\")=\n",
      "  .. cols(\n",
      "  ..   ride_id = \u001b[31mcol_character()\u001b[39m,\n",
      "  ..   rideable_type = \u001b[31mcol_character()\u001b[39m,\n",
      "  ..   started_at = \u001b[31mcol_character()\u001b[39m,\n",
      "  ..   ended_at = \u001b[31mcol_character()\u001b[39m,\n",
      "  ..   start_station_name = \u001b[31mcol_character()\u001b[39m,\n",
      "  ..   start_station_id = \u001b[32mcol_double()\u001b[39m,\n",
      "  ..   end_station_name = \u001b[31mcol_character()\u001b[39m,\n",
      "  ..   end_station_id = \u001b[32mcol_double()\u001b[39m,\n",
      "  ..   start_lat = \u001b[32mcol_double()\u001b[39m,\n",
      "  ..   start_lng = \u001b[32mcol_double()\u001b[39m,\n",
      "  ..   end_lat = \u001b[32mcol_double()\u001b[39m,\n",
      "  ..   end_lng = \u001b[32mcol_double()\u001b[39m,\n",
      "  ..   member_casual = \u001b[31mcol_character()\u001b[39m\n",
      "  .. )\n"
     ]
    }
   ],
   "source": [
    "str(datasetv1)"
   ]
  },
  {
   "cell_type": "code",
   "execution_count": 9,
   "id": "fefcb91c",
   "metadata": {
    "execution": {
     "iopub.execute_input": "2021-07-07T10:17:27.264266Z",
     "iopub.status.busy": "2021-07-07T10:17:27.262595Z",
     "iopub.status.idle": "2021-07-07T10:17:27.284304Z",
     "shell.execute_reply": "2021-07-07T10:17:27.282443Z"
    },
    "papermill": {
     "duration": 0.06336,
     "end_time": "2021-07-07T10:17:27.284430",
     "exception": false,
     "start_time": "2021-07-07T10:17:27.221070",
     "status": "completed"
    },
    "tags": []
   },
   "outputs": [],
   "source": [
    "datasetv2 <- datasetv1 %>%\n",
    "    mutate(ride_length = difftime(ended_at, started_at, units = 'secs'))"
   ]
  },
  {
   "cell_type": "code",
   "execution_count": 10,
   "id": "73dda8ce",
   "metadata": {
    "execution": {
     "iopub.execute_input": "2021-07-07T10:17:27.366339Z",
     "iopub.status.busy": "2021-07-07T10:17:27.364907Z",
     "iopub.status.idle": "2021-07-07T10:17:27.391828Z",
     "shell.execute_reply": "2021-07-07T10:17:27.390423Z"
    },
    "papermill": {
     "duration": 0.069341,
     "end_time": "2021-07-07T10:17:27.391952",
     "exception": false,
     "start_time": "2021-07-07T10:17:27.322611",
     "status": "completed"
    },
    "tags": []
   },
   "outputs": [
    {
     "data": {
      "text/html": [
       "<table class=\"dataframe\">\n",
       "<caption>A tibble: 6 × 14</caption>\n",
       "<thead>\n",
       "\t<tr><th scope=col>ride_id</th><th scope=col>rideable_type</th><th scope=col>started_at</th><th scope=col>ended_at</th><th scope=col>start_station_name</th><th scope=col>start_station_id</th><th scope=col>end_station_name</th><th scope=col>end_station_id</th><th scope=col>start_lat</th><th scope=col>start_lng</th><th scope=col>end_lat</th><th scope=col>end_lng</th><th scope=col>member_casual</th><th scope=col>ride_length</th></tr>\n",
       "\t<tr><th scope=col>&lt;chr&gt;</th><th scope=col>&lt;chr&gt;</th><th scope=col>&lt;dttm&gt;</th><th scope=col>&lt;dttm&gt;</th><th scope=col>&lt;chr&gt;</th><th scope=col>&lt;dbl&gt;</th><th scope=col>&lt;chr&gt;</th><th scope=col>&lt;dbl&gt;</th><th scope=col>&lt;dbl&gt;</th><th scope=col>&lt;dbl&gt;</th><th scope=col>&lt;dbl&gt;</th><th scope=col>&lt;dbl&gt;</th><th scope=col>&lt;chr&gt;</th><th scope=col>&lt;drtn&gt;</th></tr>\n",
       "</thead>\n",
       "<tbody>\n",
       "\t<tr><td>EACB19130B0CDA4A</td><td>docked_bike</td><td>2020-01-21 20:06:00</td><td>2020-01-21 20:14:00</td><td>Western Ave &amp; Leland Ave</td><td>239</td><td><span style=white-space:pre-wrap>Clark St &amp; Leland Ave         </span></td><td>326</td><td>41.9665</td><td>-87.6884</td><td>41.9671</td><td>-87.6674</td><td>member</td><td>480 secs</td></tr>\n",
       "\t<tr><td>8FED874C809DC021</td><td>docked_bike</td><td>2020-01-30 14:22:00</td><td>2020-01-30 14:26:00</td><td>Clark St &amp; Montrose Ave </td><td>234</td><td>Southport Ave &amp; Irving Park Rd</td><td>318</td><td>41.9616</td><td>-87.6660</td><td>41.9542</td><td>-87.6644</td><td>member</td><td>240 secs</td></tr>\n",
       "\t<tr><td>789F3C21E472CA96</td><td>docked_bike</td><td>2020-01-09 19:29:00</td><td>2020-01-09 19:32:00</td><td><span style=white-space:pre-wrap>Broadway &amp; Belmont Ave  </span></td><td>296</td><td><span style=white-space:pre-wrap>Wilton Ave &amp; Belmont Ave      </span></td><td>117</td><td>41.9401</td><td>-87.6455</td><td>41.9402</td><td>-87.6530</td><td>member</td><td>180 secs</td></tr>\n",
       "\t<tr><td>C9A388DAC6ABF313</td><td>docked_bike</td><td>2020-01-06 16:17:00</td><td>2020-01-06 16:25:00</td><td><span style=white-space:pre-wrap>Clark St &amp; Randolph St  </span></td><td> 51</td><td><span style=white-space:pre-wrap>Fairbanks Ct &amp; Grand Ave      </span></td><td> 24</td><td>41.8846</td><td>-87.6319</td><td>41.8918</td><td>-87.6206</td><td>member</td><td>480 secs</td></tr>\n",
       "\t<tr><td>943BC3CBECCFD662</td><td>docked_bike</td><td>2020-01-30 08:37:00</td><td>2020-01-30 08:42:00</td><td><span style=white-space:pre-wrap>Clinton St &amp; Lake St    </span></td><td> 66</td><td><span style=white-space:pre-wrap>Wells St &amp; Hubbard St         </span></td><td>212</td><td>41.8856</td><td>-87.6418</td><td>41.8899</td><td>-87.6343</td><td>member</td><td>300 secs</td></tr>\n",
       "\t<tr><td>6D9C8A6938165C11</td><td>docked_bike</td><td>2020-01-10 12:33:00</td><td>2020-01-10 12:37:00</td><td><span style=white-space:pre-wrap>Wells St &amp; Hubbard St   </span></td><td>212</td><td><span style=white-space:pre-wrap>Desplaines St &amp; Randolph St   </span></td><td> 96</td><td>41.8899</td><td>-87.6343</td><td>41.8846</td><td>-87.6446</td><td>member</td><td>240 secs</td></tr>\n",
       "</tbody>\n",
       "</table>\n"
      ],
      "text/latex": [
       "A tibble: 6 × 14\n",
       "\\begin{tabular}{llllllllllllll}\n",
       " ride\\_id & rideable\\_type & started\\_at & ended\\_at & start\\_station\\_name & start\\_station\\_id & end\\_station\\_name & end\\_station\\_id & start\\_lat & start\\_lng & end\\_lat & end\\_lng & member\\_casual & ride\\_length\\\\\n",
       " <chr> & <chr> & <dttm> & <dttm> & <chr> & <dbl> & <chr> & <dbl> & <dbl> & <dbl> & <dbl> & <dbl> & <chr> & <drtn>\\\\\n",
       "\\hline\n",
       "\t EACB19130B0CDA4A & docked\\_bike & 2020-01-21 20:06:00 & 2020-01-21 20:14:00 & Western Ave \\& Leland Ave & 239 & Clark St \\& Leland Ave          & 326 & 41.9665 & -87.6884 & 41.9671 & -87.6674 & member & 480 secs\\\\\n",
       "\t 8FED874C809DC021 & docked\\_bike & 2020-01-30 14:22:00 & 2020-01-30 14:26:00 & Clark St \\& Montrose Ave  & 234 & Southport Ave \\& Irving Park Rd & 318 & 41.9616 & -87.6660 & 41.9542 & -87.6644 & member & 240 secs\\\\\n",
       "\t 789F3C21E472CA96 & docked\\_bike & 2020-01-09 19:29:00 & 2020-01-09 19:32:00 & Broadway \\& Belmont Ave   & 296 & Wilton Ave \\& Belmont Ave       & 117 & 41.9401 & -87.6455 & 41.9402 & -87.6530 & member & 180 secs\\\\\n",
       "\t C9A388DAC6ABF313 & docked\\_bike & 2020-01-06 16:17:00 & 2020-01-06 16:25:00 & Clark St \\& Randolph St   &  51 & Fairbanks Ct \\& Grand Ave       &  24 & 41.8846 & -87.6319 & 41.8918 & -87.6206 & member & 480 secs\\\\\n",
       "\t 943BC3CBECCFD662 & docked\\_bike & 2020-01-30 08:37:00 & 2020-01-30 08:42:00 & Clinton St \\& Lake St     &  66 & Wells St \\& Hubbard St          & 212 & 41.8856 & -87.6418 & 41.8899 & -87.6343 & member & 300 secs\\\\\n",
       "\t 6D9C8A6938165C11 & docked\\_bike & 2020-01-10 12:33:00 & 2020-01-10 12:37:00 & Wells St \\& Hubbard St    & 212 & Desplaines St \\& Randolph St    &  96 & 41.8899 & -87.6343 & 41.8846 & -87.6446 & member & 240 secs\\\\\n",
       "\\end{tabular}\n"
      ],
      "text/markdown": [
       "\n",
       "A tibble: 6 × 14\n",
       "\n",
       "| ride_id &lt;chr&gt; | rideable_type &lt;chr&gt; | started_at &lt;dttm&gt; | ended_at &lt;dttm&gt; | start_station_name &lt;chr&gt; | start_station_id &lt;dbl&gt; | end_station_name &lt;chr&gt; | end_station_id &lt;dbl&gt; | start_lat &lt;dbl&gt; | start_lng &lt;dbl&gt; | end_lat &lt;dbl&gt; | end_lng &lt;dbl&gt; | member_casual &lt;chr&gt; | ride_length &lt;drtn&gt; |\n",
       "|---|---|---|---|---|---|---|---|---|---|---|---|---|---|\n",
       "| EACB19130B0CDA4A | docked_bike | 2020-01-21 20:06:00 | 2020-01-21 20:14:00 | Western Ave &amp; Leland Ave | 239 | Clark St &amp; Leland Ave          | 326 | 41.9665 | -87.6884 | 41.9671 | -87.6674 | member | 480 secs |\n",
       "| 8FED874C809DC021 | docked_bike | 2020-01-30 14:22:00 | 2020-01-30 14:26:00 | Clark St &amp; Montrose Ave  | 234 | Southport Ave &amp; Irving Park Rd | 318 | 41.9616 | -87.6660 | 41.9542 | -87.6644 | member | 240 secs |\n",
       "| 789F3C21E472CA96 | docked_bike | 2020-01-09 19:29:00 | 2020-01-09 19:32:00 | Broadway &amp; Belmont Ave   | 296 | Wilton Ave &amp; Belmont Ave       | 117 | 41.9401 | -87.6455 | 41.9402 | -87.6530 | member | 180 secs |\n",
       "| C9A388DAC6ABF313 | docked_bike | 2020-01-06 16:17:00 | 2020-01-06 16:25:00 | Clark St &amp; Randolph St   |  51 | Fairbanks Ct &amp; Grand Ave       |  24 | 41.8846 | -87.6319 | 41.8918 | -87.6206 | member | 480 secs |\n",
       "| 943BC3CBECCFD662 | docked_bike | 2020-01-30 08:37:00 | 2020-01-30 08:42:00 | Clinton St &amp; Lake St     |  66 | Wells St &amp; Hubbard St          | 212 | 41.8856 | -87.6418 | 41.8899 | -87.6343 | member | 300 secs |\n",
       "| 6D9C8A6938165C11 | docked_bike | 2020-01-10 12:33:00 | 2020-01-10 12:37:00 | Wells St &amp; Hubbard St    | 212 | Desplaines St &amp; Randolph St    |  96 | 41.8899 | -87.6343 | 41.8846 | -87.6446 | member | 240 secs |\n",
       "\n"
      ],
      "text/plain": [
       "  ride_id          rideable_type started_at          ended_at           \n",
       "1 EACB19130B0CDA4A docked_bike   2020-01-21 20:06:00 2020-01-21 20:14:00\n",
       "2 8FED874C809DC021 docked_bike   2020-01-30 14:22:00 2020-01-30 14:26:00\n",
       "3 789F3C21E472CA96 docked_bike   2020-01-09 19:29:00 2020-01-09 19:32:00\n",
       "4 C9A388DAC6ABF313 docked_bike   2020-01-06 16:17:00 2020-01-06 16:25:00\n",
       "5 943BC3CBECCFD662 docked_bike   2020-01-30 08:37:00 2020-01-30 08:42:00\n",
       "6 6D9C8A6938165C11 docked_bike   2020-01-10 12:33:00 2020-01-10 12:37:00\n",
       "  start_station_name       start_station_id end_station_name              \n",
       "1 Western Ave & Leland Ave 239              Clark St & Leland Ave         \n",
       "2 Clark St & Montrose Ave  234              Southport Ave & Irving Park Rd\n",
       "3 Broadway & Belmont Ave   296              Wilton Ave & Belmont Ave      \n",
       "4 Clark St & Randolph St    51              Fairbanks Ct & Grand Ave      \n",
       "5 Clinton St & Lake St      66              Wells St & Hubbard St         \n",
       "6 Wells St & Hubbard St    212              Desplaines St & Randolph St   \n",
       "  end_station_id start_lat start_lng end_lat end_lng  member_casual ride_length\n",
       "1 326            41.9665   -87.6884  41.9671 -87.6674 member        480 secs   \n",
       "2 318            41.9616   -87.6660  41.9542 -87.6644 member        240 secs   \n",
       "3 117            41.9401   -87.6455  41.9402 -87.6530 member        180 secs   \n",
       "4  24            41.8846   -87.6319  41.8918 -87.6206 member        480 secs   \n",
       "5 212            41.8856   -87.6418  41.8899 -87.6343 member        300 secs   \n",
       "6  96            41.8899   -87.6343  41.8846 -87.6446 member        240 secs   "
      ]
     },
     "metadata": {},
     "output_type": "display_data"
    }
   ],
   "source": [
    "head(datasetv2)"
   ]
  },
  {
   "cell_type": "markdown",
   "id": "8aeb1144",
   "metadata": {
    "papermill": {
     "duration": 0.039147,
     "end_time": "2021-07-07T10:17:27.469918",
     "exception": false,
     "start_time": "2021-07-07T10:17:27.430771",
     "status": "completed"
    },
    "tags": []
   },
   "source": [
    "Adding a column showing the day of the week for each row in the table using the weekdays function."
   ]
  },
  {
   "cell_type": "code",
   "execution_count": 11,
   "id": "35103fbf",
   "metadata": {
    "execution": {
     "iopub.execute_input": "2021-07-07T10:17:27.552706Z",
     "iopub.status.busy": "2021-07-07T10:17:27.551228Z",
     "iopub.status.idle": "2021-07-07T10:17:27.907749Z",
     "shell.execute_reply": "2021-07-07T10:17:27.906747Z"
    },
    "papermill": {
     "duration": 0.399067,
     "end_time": "2021-07-07T10:17:27.907884",
     "exception": false,
     "start_time": "2021-07-07T10:17:27.508817",
     "status": "completed"
    },
    "tags": []
   },
   "outputs": [],
   "source": [
    "datasetv2 <- datasetv2 %>%\n",
    "    mutate(day_of_week = weekdays(started_at))"
   ]
  },
  {
   "cell_type": "code",
   "execution_count": 12,
   "id": "3e2852df",
   "metadata": {
    "execution": {
     "iopub.execute_input": "2021-07-07T10:17:27.991083Z",
     "iopub.status.busy": "2021-07-07T10:17:27.989007Z",
     "iopub.status.idle": "2021-07-07T10:17:28.019583Z",
     "shell.execute_reply": "2021-07-07T10:17:28.017607Z"
    },
    "papermill": {
     "duration": 0.073481,
     "end_time": "2021-07-07T10:17:28.019764",
     "exception": false,
     "start_time": "2021-07-07T10:17:27.946283",
     "status": "completed"
    },
    "tags": []
   },
   "outputs": [
    {
     "data": {
      "text/html": [
       "<table class=\"dataframe\">\n",
       "<caption>A tibble: 6 × 15</caption>\n",
       "<thead>\n",
       "\t<tr><th scope=col>ride_id</th><th scope=col>rideable_type</th><th scope=col>started_at</th><th scope=col>ended_at</th><th scope=col>start_station_name</th><th scope=col>start_station_id</th><th scope=col>end_station_name</th><th scope=col>end_station_id</th><th scope=col>start_lat</th><th scope=col>start_lng</th><th scope=col>end_lat</th><th scope=col>end_lng</th><th scope=col>member_casual</th><th scope=col>ride_length</th><th scope=col>day_of_week</th></tr>\n",
       "\t<tr><th scope=col>&lt;chr&gt;</th><th scope=col>&lt;chr&gt;</th><th scope=col>&lt;dttm&gt;</th><th scope=col>&lt;dttm&gt;</th><th scope=col>&lt;chr&gt;</th><th scope=col>&lt;dbl&gt;</th><th scope=col>&lt;chr&gt;</th><th scope=col>&lt;dbl&gt;</th><th scope=col>&lt;dbl&gt;</th><th scope=col>&lt;dbl&gt;</th><th scope=col>&lt;dbl&gt;</th><th scope=col>&lt;dbl&gt;</th><th scope=col>&lt;chr&gt;</th><th scope=col>&lt;drtn&gt;</th><th scope=col>&lt;chr&gt;</th></tr>\n",
       "</thead>\n",
       "<tbody>\n",
       "\t<tr><td>EACB19130B0CDA4A</td><td>docked_bike</td><td>2020-01-21 20:06:00</td><td>2020-01-21 20:14:00</td><td>Western Ave &amp; Leland Ave</td><td>239</td><td><span style=white-space:pre-wrap>Clark St &amp; Leland Ave         </span></td><td>326</td><td>41.9665</td><td>-87.6884</td><td>41.9671</td><td>-87.6674</td><td>member</td><td>480 secs</td><td>Tuesday </td></tr>\n",
       "\t<tr><td>8FED874C809DC021</td><td>docked_bike</td><td>2020-01-30 14:22:00</td><td>2020-01-30 14:26:00</td><td>Clark St &amp; Montrose Ave </td><td>234</td><td>Southport Ave &amp; Irving Park Rd</td><td>318</td><td>41.9616</td><td>-87.6660</td><td>41.9542</td><td>-87.6644</td><td>member</td><td>240 secs</td><td>Thursday</td></tr>\n",
       "\t<tr><td>789F3C21E472CA96</td><td>docked_bike</td><td>2020-01-09 19:29:00</td><td>2020-01-09 19:32:00</td><td><span style=white-space:pre-wrap>Broadway &amp; Belmont Ave  </span></td><td>296</td><td><span style=white-space:pre-wrap>Wilton Ave &amp; Belmont Ave      </span></td><td>117</td><td>41.9401</td><td>-87.6455</td><td>41.9402</td><td>-87.6530</td><td>member</td><td>180 secs</td><td>Thursday</td></tr>\n",
       "\t<tr><td>C9A388DAC6ABF313</td><td>docked_bike</td><td>2020-01-06 16:17:00</td><td>2020-01-06 16:25:00</td><td><span style=white-space:pre-wrap>Clark St &amp; Randolph St  </span></td><td> 51</td><td><span style=white-space:pre-wrap>Fairbanks Ct &amp; Grand Ave      </span></td><td> 24</td><td>41.8846</td><td>-87.6319</td><td>41.8918</td><td>-87.6206</td><td>member</td><td>480 secs</td><td><span style=white-space:pre-wrap>Monday  </span></td></tr>\n",
       "\t<tr><td>943BC3CBECCFD662</td><td>docked_bike</td><td>2020-01-30 08:37:00</td><td>2020-01-30 08:42:00</td><td><span style=white-space:pre-wrap>Clinton St &amp; Lake St    </span></td><td> 66</td><td><span style=white-space:pre-wrap>Wells St &amp; Hubbard St         </span></td><td>212</td><td>41.8856</td><td>-87.6418</td><td>41.8899</td><td>-87.6343</td><td>member</td><td>300 secs</td><td>Thursday</td></tr>\n",
       "\t<tr><td>6D9C8A6938165C11</td><td>docked_bike</td><td>2020-01-10 12:33:00</td><td>2020-01-10 12:37:00</td><td><span style=white-space:pre-wrap>Wells St &amp; Hubbard St   </span></td><td>212</td><td><span style=white-space:pre-wrap>Desplaines St &amp; Randolph St   </span></td><td> 96</td><td>41.8899</td><td>-87.6343</td><td>41.8846</td><td>-87.6446</td><td>member</td><td>240 secs</td><td><span style=white-space:pre-wrap>Friday  </span></td></tr>\n",
       "</tbody>\n",
       "</table>\n"
      ],
      "text/latex": [
       "A tibble: 6 × 15\n",
       "\\begin{tabular}{lllllllllllllll}\n",
       " ride\\_id & rideable\\_type & started\\_at & ended\\_at & start\\_station\\_name & start\\_station\\_id & end\\_station\\_name & end\\_station\\_id & start\\_lat & start\\_lng & end\\_lat & end\\_lng & member\\_casual & ride\\_length & day\\_of\\_week\\\\\n",
       " <chr> & <chr> & <dttm> & <dttm> & <chr> & <dbl> & <chr> & <dbl> & <dbl> & <dbl> & <dbl> & <dbl> & <chr> & <drtn> & <chr>\\\\\n",
       "\\hline\n",
       "\t EACB19130B0CDA4A & docked\\_bike & 2020-01-21 20:06:00 & 2020-01-21 20:14:00 & Western Ave \\& Leland Ave & 239 & Clark St \\& Leland Ave          & 326 & 41.9665 & -87.6884 & 41.9671 & -87.6674 & member & 480 secs & Tuesday \\\\\n",
       "\t 8FED874C809DC021 & docked\\_bike & 2020-01-30 14:22:00 & 2020-01-30 14:26:00 & Clark St \\& Montrose Ave  & 234 & Southport Ave \\& Irving Park Rd & 318 & 41.9616 & -87.6660 & 41.9542 & -87.6644 & member & 240 secs & Thursday\\\\\n",
       "\t 789F3C21E472CA96 & docked\\_bike & 2020-01-09 19:29:00 & 2020-01-09 19:32:00 & Broadway \\& Belmont Ave   & 296 & Wilton Ave \\& Belmont Ave       & 117 & 41.9401 & -87.6455 & 41.9402 & -87.6530 & member & 180 secs & Thursday\\\\\n",
       "\t C9A388DAC6ABF313 & docked\\_bike & 2020-01-06 16:17:00 & 2020-01-06 16:25:00 & Clark St \\& Randolph St   &  51 & Fairbanks Ct \\& Grand Ave       &  24 & 41.8846 & -87.6319 & 41.8918 & -87.6206 & member & 480 secs & Monday  \\\\\n",
       "\t 943BC3CBECCFD662 & docked\\_bike & 2020-01-30 08:37:00 & 2020-01-30 08:42:00 & Clinton St \\& Lake St     &  66 & Wells St \\& Hubbard St          & 212 & 41.8856 & -87.6418 & 41.8899 & -87.6343 & member & 300 secs & Thursday\\\\\n",
       "\t 6D9C8A6938165C11 & docked\\_bike & 2020-01-10 12:33:00 & 2020-01-10 12:37:00 & Wells St \\& Hubbard St    & 212 & Desplaines St \\& Randolph St    &  96 & 41.8899 & -87.6343 & 41.8846 & -87.6446 & member & 240 secs & Friday  \\\\\n",
       "\\end{tabular}\n"
      ],
      "text/markdown": [
       "\n",
       "A tibble: 6 × 15\n",
       "\n",
       "| ride_id &lt;chr&gt; | rideable_type &lt;chr&gt; | started_at &lt;dttm&gt; | ended_at &lt;dttm&gt; | start_station_name &lt;chr&gt; | start_station_id &lt;dbl&gt; | end_station_name &lt;chr&gt; | end_station_id &lt;dbl&gt; | start_lat &lt;dbl&gt; | start_lng &lt;dbl&gt; | end_lat &lt;dbl&gt; | end_lng &lt;dbl&gt; | member_casual &lt;chr&gt; | ride_length &lt;drtn&gt; | day_of_week &lt;chr&gt; |\n",
       "|---|---|---|---|---|---|---|---|---|---|---|---|---|---|---|\n",
       "| EACB19130B0CDA4A | docked_bike | 2020-01-21 20:06:00 | 2020-01-21 20:14:00 | Western Ave &amp; Leland Ave | 239 | Clark St &amp; Leland Ave          | 326 | 41.9665 | -87.6884 | 41.9671 | -87.6674 | member | 480 secs | Tuesday  |\n",
       "| 8FED874C809DC021 | docked_bike | 2020-01-30 14:22:00 | 2020-01-30 14:26:00 | Clark St &amp; Montrose Ave  | 234 | Southport Ave &amp; Irving Park Rd | 318 | 41.9616 | -87.6660 | 41.9542 | -87.6644 | member | 240 secs | Thursday |\n",
       "| 789F3C21E472CA96 | docked_bike | 2020-01-09 19:29:00 | 2020-01-09 19:32:00 | Broadway &amp; Belmont Ave   | 296 | Wilton Ave &amp; Belmont Ave       | 117 | 41.9401 | -87.6455 | 41.9402 | -87.6530 | member | 180 secs | Thursday |\n",
       "| C9A388DAC6ABF313 | docked_bike | 2020-01-06 16:17:00 | 2020-01-06 16:25:00 | Clark St &amp; Randolph St   |  51 | Fairbanks Ct &amp; Grand Ave       |  24 | 41.8846 | -87.6319 | 41.8918 | -87.6206 | member | 480 secs | Monday   |\n",
       "| 943BC3CBECCFD662 | docked_bike | 2020-01-30 08:37:00 | 2020-01-30 08:42:00 | Clinton St &amp; Lake St     |  66 | Wells St &amp; Hubbard St          | 212 | 41.8856 | -87.6418 | 41.8899 | -87.6343 | member | 300 secs | Thursday |\n",
       "| 6D9C8A6938165C11 | docked_bike | 2020-01-10 12:33:00 | 2020-01-10 12:37:00 | Wells St &amp; Hubbard St    | 212 | Desplaines St &amp; Randolph St    |  96 | 41.8899 | -87.6343 | 41.8846 | -87.6446 | member | 240 secs | Friday   |\n",
       "\n"
      ],
      "text/plain": [
       "  ride_id          rideable_type started_at          ended_at           \n",
       "1 EACB19130B0CDA4A docked_bike   2020-01-21 20:06:00 2020-01-21 20:14:00\n",
       "2 8FED874C809DC021 docked_bike   2020-01-30 14:22:00 2020-01-30 14:26:00\n",
       "3 789F3C21E472CA96 docked_bike   2020-01-09 19:29:00 2020-01-09 19:32:00\n",
       "4 C9A388DAC6ABF313 docked_bike   2020-01-06 16:17:00 2020-01-06 16:25:00\n",
       "5 943BC3CBECCFD662 docked_bike   2020-01-30 08:37:00 2020-01-30 08:42:00\n",
       "6 6D9C8A6938165C11 docked_bike   2020-01-10 12:33:00 2020-01-10 12:37:00\n",
       "  start_station_name       start_station_id end_station_name              \n",
       "1 Western Ave & Leland Ave 239              Clark St & Leland Ave         \n",
       "2 Clark St & Montrose Ave  234              Southport Ave & Irving Park Rd\n",
       "3 Broadway & Belmont Ave   296              Wilton Ave & Belmont Ave      \n",
       "4 Clark St & Randolph St    51              Fairbanks Ct & Grand Ave      \n",
       "5 Clinton St & Lake St      66              Wells St & Hubbard St         \n",
       "6 Wells St & Hubbard St    212              Desplaines St & Randolph St   \n",
       "  end_station_id start_lat start_lng end_lat end_lng  member_casual ride_length\n",
       "1 326            41.9665   -87.6884  41.9671 -87.6674 member        480 secs   \n",
       "2 318            41.9616   -87.6660  41.9542 -87.6644 member        240 secs   \n",
       "3 117            41.9401   -87.6455  41.9402 -87.6530 member        180 secs   \n",
       "4  24            41.8846   -87.6319  41.8918 -87.6206 member        480 secs   \n",
       "5 212            41.8856   -87.6418  41.8899 -87.6343 member        300 secs   \n",
       "6  96            41.8899   -87.6343  41.8846 -87.6446 member        240 secs   \n",
       "  day_of_week\n",
       "1 Tuesday    \n",
       "2 Thursday   \n",
       "3 Thursday   \n",
       "4 Monday     \n",
       "5 Thursday   \n",
       "6 Friday     "
      ]
     },
     "metadata": {},
     "output_type": "display_data"
    }
   ],
   "source": [
    "head(datasetv2)"
   ]
  },
  {
   "cell_type": "markdown",
   "id": "da174d51",
   "metadata": {
    "papermill": {
     "duration": 0.044495,
     "end_time": "2021-07-07T10:17:28.109312",
     "exception": false,
     "start_time": "2021-07-07T10:17:28.064817",
     "status": "completed"
    },
    "tags": []
   },
   "source": [
    "Removing lat and long fields as we are not going to use these fields for analysis."
   ]
  },
  {
   "cell_type": "code",
   "execution_count": 13,
   "id": "64a12629",
   "metadata": {
    "execution": {
     "iopub.execute_input": "2021-07-07T10:17:28.192170Z",
     "iopub.status.busy": "2021-07-07T10:17:28.190405Z",
     "iopub.status.idle": "2021-07-07T10:17:28.211623Z",
     "shell.execute_reply": "2021-07-07T10:17:28.210006Z"
    },
    "papermill": {
     "duration": 0.063061,
     "end_time": "2021-07-07T10:17:28.211743",
     "exception": false,
     "start_time": "2021-07-07T10:17:28.148682",
     "status": "completed"
    },
    "tags": []
   },
   "outputs": [],
   "source": [
    "dataset_v3 <- datasetv2 %>%\n",
    "    select(-c(start_lat, start_lng, end_lat, end_lng))"
   ]
  },
  {
   "cell_type": "markdown",
   "id": "e02132cf",
   "metadata": {
    "papermill": {
     "duration": 0.054542,
     "end_time": "2021-07-07T10:17:28.303914",
     "exception": false,
     "start_time": "2021-07-07T10:17:28.249372",
     "status": "completed"
    },
    "tags": []
   },
   "source": [
    "\n",
    "Inspecting the new table that has been created."
   ]
  },
  {
   "cell_type": "code",
   "execution_count": 14,
   "id": "6aa88ab4",
   "metadata": {
    "execution": {
     "iopub.execute_input": "2021-07-07T10:17:28.393610Z",
     "iopub.status.busy": "2021-07-07T10:17:28.391998Z",
     "iopub.status.idle": "2021-07-07T10:17:28.408088Z",
     "shell.execute_reply": "2021-07-07T10:17:28.406802Z"
    },
    "papermill": {
     "duration": 0.060612,
     "end_time": "2021-07-07T10:17:28.408221",
     "exception": false,
     "start_time": "2021-07-07T10:17:28.347609",
     "status": "completed"
    },
    "tags": []
   },
   "outputs": [
    {
     "data": {
      "text/html": [
       "<style>\n",
       ".list-inline {list-style: none; margin:0; padding: 0}\n",
       ".list-inline>li {display: inline-block}\n",
       ".list-inline>li:not(:last-child)::after {content: \"\\00b7\"; padding: 0 .5ex}\n",
       "</style>\n",
       "<ol class=list-inline><li>'ride_id'</li><li>'rideable_type'</li><li>'started_at'</li><li>'ended_at'</li><li>'start_station_name'</li><li>'start_station_id'</li><li>'end_station_name'</li><li>'end_station_id'</li><li>'member_casual'</li><li>'ride_length'</li><li>'day_of_week'</li></ol>\n"
      ],
      "text/latex": [
       "\\begin{enumerate*}\n",
       "\\item 'ride\\_id'\n",
       "\\item 'rideable\\_type'\n",
       "\\item 'started\\_at'\n",
       "\\item 'ended\\_at'\n",
       "\\item 'start\\_station\\_name'\n",
       "\\item 'start\\_station\\_id'\n",
       "\\item 'end\\_station\\_name'\n",
       "\\item 'end\\_station\\_id'\n",
       "\\item 'member\\_casual'\n",
       "\\item 'ride\\_length'\n",
       "\\item 'day\\_of\\_week'\n",
       "\\end{enumerate*}\n"
      ],
      "text/markdown": [
       "1. 'ride_id'\n",
       "2. 'rideable_type'\n",
       "3. 'started_at'\n",
       "4. 'ended_at'\n",
       "5. 'start_station_name'\n",
       "6. 'start_station_id'\n",
       "7. 'end_station_name'\n",
       "8. 'end_station_id'\n",
       "9. 'member_casual'\n",
       "10. 'ride_length'\n",
       "11. 'day_of_week'\n",
       "\n",
       "\n"
      ],
      "text/plain": [
       " [1] \"ride_id\"            \"rideable_type\"      \"started_at\"        \n",
       " [4] \"ended_at\"           \"start_station_name\" \"start_station_id\"  \n",
       " [7] \"end_station_name\"   \"end_station_id\"     \"member_casual\"     \n",
       "[10] \"ride_length\"        \"day_of_week\"       "
      ]
     },
     "metadata": {},
     "output_type": "display_data"
    }
   ],
   "source": [
    "colnames(dataset_v3)  #List of column names\n"
   ]
  },
  {
   "cell_type": "code",
   "execution_count": 15,
   "id": "3d781611",
   "metadata": {
    "execution": {
     "iopub.execute_input": "2021-07-07T10:17:28.496877Z",
     "iopub.status.busy": "2021-07-07T10:17:28.495142Z",
     "iopub.status.idle": "2021-07-07T10:17:28.511392Z",
     "shell.execute_reply": "2021-07-07T10:17:28.509870Z"
    },
    "papermill": {
     "duration": 0.061631,
     "end_time": "2021-07-07T10:17:28.511538",
     "exception": false,
     "start_time": "2021-07-07T10:17:28.449907",
     "status": "completed"
    },
    "tags": []
   },
   "outputs": [
    {
     "data": {
      "text/html": [
       "426887"
      ],
      "text/latex": [
       "426887"
      ],
      "text/markdown": [
       "426887"
      ],
      "text/plain": [
       "[1] 426887"
      ]
     },
     "metadata": {},
     "output_type": "display_data"
    }
   ],
   "source": [
    "nrow(dataset_v3)  #How many rows are in data frame?\n"
   ]
  },
  {
   "cell_type": "code",
   "execution_count": 16,
   "id": "180d826f",
   "metadata": {
    "execution": {
     "iopub.execute_input": "2021-07-07T10:17:28.606967Z",
     "iopub.status.busy": "2021-07-07T10:17:28.605480Z",
     "iopub.status.idle": "2021-07-07T10:17:28.621170Z",
     "shell.execute_reply": "2021-07-07T10:17:28.619718Z"
    },
    "papermill": {
     "duration": 0.067449,
     "end_time": "2021-07-07T10:17:28.621311",
     "exception": false,
     "start_time": "2021-07-07T10:17:28.553862",
     "status": "completed"
    },
    "tags": []
   },
   "outputs": [
    {
     "data": {
      "text/html": [
       "<style>\n",
       ".list-inline {list-style: none; margin:0; padding: 0}\n",
       ".list-inline>li {display: inline-block}\n",
       ".list-inline>li:not(:last-child)::after {content: \"\\00b7\"; padding: 0 .5ex}\n",
       "</style>\n",
       "<ol class=list-inline><li>426887</li><li>11</li></ol>\n"
      ],
      "text/latex": [
       "\\begin{enumerate*}\n",
       "\\item 426887\n",
       "\\item 11\n",
       "\\end{enumerate*}\n"
      ],
      "text/markdown": [
       "1. 426887\n",
       "2. 11\n",
       "\n",
       "\n"
      ],
      "text/plain": [
       "[1] 426887     11"
      ]
     },
     "metadata": {},
     "output_type": "display_data"
    }
   ],
   "source": [
    "dim(dataset_v3)  #Dimensions of the data frame?\n"
   ]
  },
  {
   "cell_type": "code",
   "execution_count": 17,
   "id": "1f3cb0c4",
   "metadata": {
    "execution": {
     "iopub.execute_input": "2021-07-07T10:17:28.709291Z",
     "iopub.status.busy": "2021-07-07T10:17:28.707427Z",
     "iopub.status.idle": "2021-07-07T10:17:28.737775Z",
     "shell.execute_reply": "2021-07-07T10:17:28.736268Z"
    },
    "papermill": {
     "duration": 0.075127,
     "end_time": "2021-07-07T10:17:28.737896",
     "exception": false,
     "start_time": "2021-07-07T10:17:28.662769",
     "status": "completed"
    },
    "tags": []
   },
   "outputs": [
    {
     "data": {
      "text/html": [
       "<table class=\"dataframe\">\n",
       "<caption>A tibble: 6 × 11</caption>\n",
       "<thead>\n",
       "\t<tr><th scope=col>ride_id</th><th scope=col>rideable_type</th><th scope=col>started_at</th><th scope=col>ended_at</th><th scope=col>start_station_name</th><th scope=col>start_station_id</th><th scope=col>end_station_name</th><th scope=col>end_station_id</th><th scope=col>member_casual</th><th scope=col>ride_length</th><th scope=col>day_of_week</th></tr>\n",
       "\t<tr><th scope=col>&lt;chr&gt;</th><th scope=col>&lt;chr&gt;</th><th scope=col>&lt;dttm&gt;</th><th scope=col>&lt;dttm&gt;</th><th scope=col>&lt;chr&gt;</th><th scope=col>&lt;dbl&gt;</th><th scope=col>&lt;chr&gt;</th><th scope=col>&lt;dbl&gt;</th><th scope=col>&lt;chr&gt;</th><th scope=col>&lt;drtn&gt;</th><th scope=col>&lt;chr&gt;</th></tr>\n",
       "</thead>\n",
       "<tbody>\n",
       "\t<tr><td>EACB19130B0CDA4A</td><td>docked_bike</td><td>2020-01-21 20:06:00</td><td>2020-01-21 20:14:00</td><td>Western Ave &amp; Leland Ave</td><td>239</td><td><span style=white-space:pre-wrap>Clark St &amp; Leland Ave         </span></td><td>326</td><td>member</td><td>480 secs</td><td>Tuesday </td></tr>\n",
       "\t<tr><td>8FED874C809DC021</td><td>docked_bike</td><td>2020-01-30 14:22:00</td><td>2020-01-30 14:26:00</td><td>Clark St &amp; Montrose Ave </td><td>234</td><td>Southport Ave &amp; Irving Park Rd</td><td>318</td><td>member</td><td>240 secs</td><td>Thursday</td></tr>\n",
       "\t<tr><td>789F3C21E472CA96</td><td>docked_bike</td><td>2020-01-09 19:29:00</td><td>2020-01-09 19:32:00</td><td><span style=white-space:pre-wrap>Broadway &amp; Belmont Ave  </span></td><td>296</td><td><span style=white-space:pre-wrap>Wilton Ave &amp; Belmont Ave      </span></td><td>117</td><td>member</td><td>180 secs</td><td>Thursday</td></tr>\n",
       "\t<tr><td>C9A388DAC6ABF313</td><td>docked_bike</td><td>2020-01-06 16:17:00</td><td>2020-01-06 16:25:00</td><td><span style=white-space:pre-wrap>Clark St &amp; Randolph St  </span></td><td> 51</td><td><span style=white-space:pre-wrap>Fairbanks Ct &amp; Grand Ave      </span></td><td> 24</td><td>member</td><td>480 secs</td><td><span style=white-space:pre-wrap>Monday  </span></td></tr>\n",
       "\t<tr><td>943BC3CBECCFD662</td><td>docked_bike</td><td>2020-01-30 08:37:00</td><td>2020-01-30 08:42:00</td><td><span style=white-space:pre-wrap>Clinton St &amp; Lake St    </span></td><td> 66</td><td><span style=white-space:pre-wrap>Wells St &amp; Hubbard St         </span></td><td>212</td><td>member</td><td>300 secs</td><td>Thursday</td></tr>\n",
       "\t<tr><td>6D9C8A6938165C11</td><td>docked_bike</td><td>2020-01-10 12:33:00</td><td>2020-01-10 12:37:00</td><td><span style=white-space:pre-wrap>Wells St &amp; Hubbard St   </span></td><td>212</td><td><span style=white-space:pre-wrap>Desplaines St &amp; Randolph St   </span></td><td> 96</td><td>member</td><td>240 secs</td><td><span style=white-space:pre-wrap>Friday  </span></td></tr>\n",
       "</tbody>\n",
       "</table>\n"
      ],
      "text/latex": [
       "A tibble: 6 × 11\n",
       "\\begin{tabular}{lllllllllll}\n",
       " ride\\_id & rideable\\_type & started\\_at & ended\\_at & start\\_station\\_name & start\\_station\\_id & end\\_station\\_name & end\\_station\\_id & member\\_casual & ride\\_length & day\\_of\\_week\\\\\n",
       " <chr> & <chr> & <dttm> & <dttm> & <chr> & <dbl> & <chr> & <dbl> & <chr> & <drtn> & <chr>\\\\\n",
       "\\hline\n",
       "\t EACB19130B0CDA4A & docked\\_bike & 2020-01-21 20:06:00 & 2020-01-21 20:14:00 & Western Ave \\& Leland Ave & 239 & Clark St \\& Leland Ave          & 326 & member & 480 secs & Tuesday \\\\\n",
       "\t 8FED874C809DC021 & docked\\_bike & 2020-01-30 14:22:00 & 2020-01-30 14:26:00 & Clark St \\& Montrose Ave  & 234 & Southport Ave \\& Irving Park Rd & 318 & member & 240 secs & Thursday\\\\\n",
       "\t 789F3C21E472CA96 & docked\\_bike & 2020-01-09 19:29:00 & 2020-01-09 19:32:00 & Broadway \\& Belmont Ave   & 296 & Wilton Ave \\& Belmont Ave       & 117 & member & 180 secs & Thursday\\\\\n",
       "\t C9A388DAC6ABF313 & docked\\_bike & 2020-01-06 16:17:00 & 2020-01-06 16:25:00 & Clark St \\& Randolph St   &  51 & Fairbanks Ct \\& Grand Ave       &  24 & member & 480 secs & Monday  \\\\\n",
       "\t 943BC3CBECCFD662 & docked\\_bike & 2020-01-30 08:37:00 & 2020-01-30 08:42:00 & Clinton St \\& Lake St     &  66 & Wells St \\& Hubbard St          & 212 & member & 300 secs & Thursday\\\\\n",
       "\t 6D9C8A6938165C11 & docked\\_bike & 2020-01-10 12:33:00 & 2020-01-10 12:37:00 & Wells St \\& Hubbard St    & 212 & Desplaines St \\& Randolph St    &  96 & member & 240 secs & Friday  \\\\\n",
       "\\end{tabular}\n"
      ],
      "text/markdown": [
       "\n",
       "A tibble: 6 × 11\n",
       "\n",
       "| ride_id &lt;chr&gt; | rideable_type &lt;chr&gt; | started_at &lt;dttm&gt; | ended_at &lt;dttm&gt; | start_station_name &lt;chr&gt; | start_station_id &lt;dbl&gt; | end_station_name &lt;chr&gt; | end_station_id &lt;dbl&gt; | member_casual &lt;chr&gt; | ride_length &lt;drtn&gt; | day_of_week &lt;chr&gt; |\n",
       "|---|---|---|---|---|---|---|---|---|---|---|\n",
       "| EACB19130B0CDA4A | docked_bike | 2020-01-21 20:06:00 | 2020-01-21 20:14:00 | Western Ave &amp; Leland Ave | 239 | Clark St &amp; Leland Ave          | 326 | member | 480 secs | Tuesday  |\n",
       "| 8FED874C809DC021 | docked_bike | 2020-01-30 14:22:00 | 2020-01-30 14:26:00 | Clark St &amp; Montrose Ave  | 234 | Southport Ave &amp; Irving Park Rd | 318 | member | 240 secs | Thursday |\n",
       "| 789F3C21E472CA96 | docked_bike | 2020-01-09 19:29:00 | 2020-01-09 19:32:00 | Broadway &amp; Belmont Ave   | 296 | Wilton Ave &amp; Belmont Ave       | 117 | member | 180 secs | Thursday |\n",
       "| C9A388DAC6ABF313 | docked_bike | 2020-01-06 16:17:00 | 2020-01-06 16:25:00 | Clark St &amp; Randolph St   |  51 | Fairbanks Ct &amp; Grand Ave       |  24 | member | 480 secs | Monday   |\n",
       "| 943BC3CBECCFD662 | docked_bike | 2020-01-30 08:37:00 | 2020-01-30 08:42:00 | Clinton St &amp; Lake St     |  66 | Wells St &amp; Hubbard St          | 212 | member | 300 secs | Thursday |\n",
       "| 6D9C8A6938165C11 | docked_bike | 2020-01-10 12:33:00 | 2020-01-10 12:37:00 | Wells St &amp; Hubbard St    | 212 | Desplaines St &amp; Randolph St    |  96 | member | 240 secs | Friday   |\n",
       "\n"
      ],
      "text/plain": [
       "  ride_id          rideable_type started_at          ended_at           \n",
       "1 EACB19130B0CDA4A docked_bike   2020-01-21 20:06:00 2020-01-21 20:14:00\n",
       "2 8FED874C809DC021 docked_bike   2020-01-30 14:22:00 2020-01-30 14:26:00\n",
       "3 789F3C21E472CA96 docked_bike   2020-01-09 19:29:00 2020-01-09 19:32:00\n",
       "4 C9A388DAC6ABF313 docked_bike   2020-01-06 16:17:00 2020-01-06 16:25:00\n",
       "5 943BC3CBECCFD662 docked_bike   2020-01-30 08:37:00 2020-01-30 08:42:00\n",
       "6 6D9C8A6938165C11 docked_bike   2020-01-10 12:33:00 2020-01-10 12:37:00\n",
       "  start_station_name       start_station_id end_station_name              \n",
       "1 Western Ave & Leland Ave 239              Clark St & Leland Ave         \n",
       "2 Clark St & Montrose Ave  234              Southport Ave & Irving Park Rd\n",
       "3 Broadway & Belmont Ave   296              Wilton Ave & Belmont Ave      \n",
       "4 Clark St & Randolph St    51              Fairbanks Ct & Grand Ave      \n",
       "5 Clinton St & Lake St      66              Wells St & Hubbard St         \n",
       "6 Wells St & Hubbard St    212              Desplaines St & Randolph St   \n",
       "  end_station_id member_casual ride_length day_of_week\n",
       "1 326            member        480 secs    Tuesday    \n",
       "2 318            member        240 secs    Thursday   \n",
       "3 117            member        180 secs    Thursday   \n",
       "4  24            member        480 secs    Monday     \n",
       "5 212            member        300 secs    Thursday   \n",
       "6  96            member        240 secs    Friday     "
      ]
     },
     "metadata": {},
     "output_type": "display_data"
    }
   ],
   "source": [
    "head(dataset_v3)  #See the first 6 rows of data frame.  Also tail(qs_raw)\n"
   ]
  },
  {
   "cell_type": "code",
   "execution_count": 18,
   "id": "d19b0ddd",
   "metadata": {
    "execution": {
     "iopub.execute_input": "2021-07-07T10:17:28.828245Z",
     "iopub.status.busy": "2021-07-07T10:17:28.826165Z",
     "iopub.status.idle": "2021-07-07T10:17:28.866857Z",
     "shell.execute_reply": "2021-07-07T10:17:28.864864Z"
    },
    "papermill": {
     "duration": 0.087042,
     "end_time": "2021-07-07T10:17:28.867055",
     "exception": false,
     "start_time": "2021-07-07T10:17:28.780013",
     "status": "completed"
    },
    "tags": []
   },
   "outputs": [
    {
     "name": "stdout",
     "output_type": "stream",
     "text": [
      "tibble [426,887 × 11] (S3: tbl_df/tbl/data.frame)\n",
      " $ ride_id           : chr [1:426887] \"EACB19130B0CDA4A\" \"8FED874C809DC021\" \"789F3C21E472CA96\" \"C9A388DAC6ABF313\" ...\n",
      " $ rideable_type     : chr [1:426887] \"docked_bike\" \"docked_bike\" \"docked_bike\" \"docked_bike\" ...\n",
      " $ started_at        : POSIXct[1:426887], format: \"2020-01-21 20:06:00\" \"2020-01-30 14:22:00\" ...\n",
      " $ ended_at          : POSIXct[1:426887], format: \"2020-01-21 20:14:00\" \"2020-01-30 14:26:00\" ...\n",
      " $ start_station_name: chr [1:426887] \"Western Ave & Leland Ave\" \"Clark St & Montrose Ave\" \"Broadway & Belmont Ave\" \"Clark St & Randolph St\" ...\n",
      " $ start_station_id  : num [1:426887] 239 234 296 51 66 212 96 96 212 38 ...\n",
      " $ end_station_name  : chr [1:426887] \"Clark St & Leland Ave\" \"Southport Ave & Irving Park Rd\" \"Wilton Ave & Belmont Ave\" \"Fairbanks Ct & Grand Ave\" ...\n",
      " $ end_station_id    : num [1:426887] 326 318 117 24 212 96 212 212 96 100 ...\n",
      " $ member_casual     : chr [1:426887] \"member\" \"member\" \"member\" \"member\" ...\n",
      " $ ride_length       : 'difftime' num [1:426887] 480 240 180 480 ...\n",
      "  ..- attr(*, \"units\")= chr \"secs\"\n",
      " $ day_of_week       : chr [1:426887] \"Tuesday\" \"Thursday\" \"Thursday\" \"Monday\" ...\n"
     ]
    }
   ],
   "source": [
    "str(dataset_v3)  #See list of columns and data types (numeric, character, etc)\n"
   ]
  },
  {
   "cell_type": "code",
   "execution_count": 19,
   "id": "67daa2ff",
   "metadata": {
    "execution": {
     "iopub.execute_input": "2021-07-07T10:17:28.960056Z",
     "iopub.status.busy": "2021-07-07T10:17:28.958330Z",
     "iopub.status.idle": "2021-07-07T10:17:29.125563Z",
     "shell.execute_reply": "2021-07-07T10:17:29.124066Z"
    },
    "papermill": {
     "duration": 0.214737,
     "end_time": "2021-07-07T10:17:29.125711",
     "exception": false,
     "start_time": "2021-07-07T10:17:28.910974",
     "status": "completed"
    },
    "tags": []
   },
   "outputs": [
    {
     "data": {
      "text/plain": [
       "   ride_id          rideable_type        started_at                 \n",
       " Length:426887      Length:426887      Min.   :2020-01-01 00:04:00  \n",
       " Class :character   Class :character   1st Qu.:2020-01-24 14:03:00  \n",
       " Mode  :character   Mode  :character   Median :2020-02-17 05:01:00  \n",
       "                                       Mean   :2020-02-14 01:22:49  \n",
       "                                       3rd Qu.:2020-03-05 15:08:00  \n",
       "                                       Max.   :2020-03-31 23:51:00  \n",
       "                                                                    \n",
       "    ended_at                   start_station_name start_station_id\n",
       " Min.   :2020-01-01 00:10:00   Length:426887      Min.   :  2.0   \n",
       " 1st Qu.:2020-01-24 14:21:00   Class :character   1st Qu.: 77.0   \n",
       " Median :2020-02-17 05:48:00   Mode  :character   Median :176.0   \n",
       " Mean   :2020-02-14 01:44:55                      Mean   :209.8   \n",
       " 3rd Qu.:2020-03-05 15:27:00                      3rd Qu.:298.0   \n",
       " Max.   :2020-05-19 20:10:00                      Max.   :675.0   \n",
       "                                                                  \n",
       " end_station_name   end_station_id  member_casual      ride_length      \n",
       " Length:426887      Min.   :  2.0   Length:426887      Length:426887    \n",
       " Class :character   1st Qu.: 77.0   Class :character   Class :difftime  \n",
       " Mode  :character   Median :175.0   Mode  :character   Mode  :numeric   \n",
       "                    Mean   :209.3                                       \n",
       "                    3rd Qu.:297.0                                       \n",
       "                    Max.   :675.0                                       \n",
       "                    NA's   :1                                           \n",
       " day_of_week       \n",
       " Length:426887     \n",
       " Class :character  \n",
       " Mode  :character  \n",
       "                   \n",
       "                   \n",
       "                   \n",
       "                   "
      ]
     },
     "metadata": {},
     "output_type": "display_data"
    }
   ],
   "source": [
    "summary(dataset_v3)  #Statistical summary of data. Mainly for numerics"
   ]
  },
  {
   "cell_type": "markdown",
   "id": "3bebc02c",
   "metadata": {
    "papermill": {
     "duration": 0.044311,
     "end_time": "2021-07-07T10:17:29.213863",
     "exception": false,
     "start_time": "2021-07-07T10:17:29.169552",
     "status": "completed"
    },
    "tags": []
   },
   "source": [
    "Converting ride_length column from factor to numerics so that we can perform calculation on the data."
   ]
  },
  {
   "cell_type": "code",
   "execution_count": 20,
   "id": "8de48378",
   "metadata": {
    "execution": {
     "iopub.execute_input": "2021-07-07T10:17:29.306808Z",
     "iopub.status.busy": "2021-07-07T10:17:29.305230Z",
     "iopub.status.idle": "2021-07-07T10:17:29.846504Z",
     "shell.execute_reply": "2021-07-07T10:17:29.845148Z"
    },
    "papermill": {
     "duration": 0.588866,
     "end_time": "2021-07-07T10:17:29.846657",
     "exception": false,
     "start_time": "2021-07-07T10:17:29.257791",
     "status": "completed"
    },
    "tags": []
   },
   "outputs": [
    {
     "data": {
      "text/html": [
       "FALSE"
      ],
      "text/latex": [
       "FALSE"
      ],
      "text/markdown": [
       "FALSE"
      ],
      "text/plain": [
       "[1] FALSE"
      ]
     },
     "metadata": {},
     "output_type": "display_data"
    },
    {
     "data": {
      "text/html": [
       "TRUE"
      ],
      "text/latex": [
       "TRUE"
      ],
      "text/markdown": [
       "TRUE"
      ],
      "text/plain": [
       "[1] TRUE"
      ]
     },
     "metadata": {},
     "output_type": "display_data"
    }
   ],
   "source": [
    "is.factor(dataset_v3$ride_length)\n",
    "dataset_v3$ride_length <- as.numeric(as.character(dataset_v3$ride_length))\n",
    "is.numeric(dataset_v3$ride_length)\n"
   ]
  },
  {
   "cell_type": "markdown",
   "id": "3ef904c7",
   "metadata": {
    "papermill": {
     "duration": 0.045002,
     "end_time": "2021-07-07T10:17:29.936186",
     "exception": false,
     "start_time": "2021-07-07T10:17:29.891184",
     "status": "completed"
    },
    "tags": []
   },
   "source": [
    "Removing the rows that contain ride_length that have negative values and creating a new version of the dataframe."
   ]
  },
  {
   "cell_type": "code",
   "execution_count": 21,
   "id": "89229ef9",
   "metadata": {
    "execution": {
     "iopub.execute_input": "2021-07-07T10:17:30.036405Z",
     "iopub.status.busy": "2021-07-07T10:17:30.034803Z",
     "iopub.status.idle": "2021-07-07T10:17:30.130898Z",
     "shell.execute_reply": "2021-07-07T10:17:30.129340Z"
    },
    "papermill": {
     "duration": 0.15003,
     "end_time": "2021-07-07T10:17:30.131036",
     "exception": false,
     "start_time": "2021-07-07T10:17:29.981006",
     "status": "completed"
    },
    "tags": []
   },
   "outputs": [],
   "source": [
    "dataset_v4 <- dataset_v3[!(dataset_v3$start_station_name == \"HQ QR\" | dataset_v3$ride_length<0),]"
   ]
  },
  {
   "cell_type": "markdown",
   "id": "e0b1098d",
   "metadata": {
    "papermill": {
     "duration": 0.045652,
     "end_time": "2021-07-07T10:17:30.223355",
     "exception": false,
     "start_time": "2021-07-07T10:17:30.177703",
     "status": "completed"
    },
    "tags": []
   },
   "source": [
    "# Conducting descriptive analysis\n",
    "\n",
    "Descriptive analysis on ride_length (all figures in seconds)"
   ]
  },
  {
   "cell_type": "code",
   "execution_count": 22,
   "id": "7aae3437",
   "metadata": {
    "execution": {
     "iopub.execute_input": "2021-07-07T10:17:30.319618Z",
     "iopub.status.busy": "2021-07-07T10:17:30.317662Z",
     "iopub.status.idle": "2021-07-07T10:17:30.370695Z",
     "shell.execute_reply": "2021-07-07T10:17:30.369305Z"
    },
    "papermill": {
     "duration": 0.10305,
     "end_time": "2021-07-07T10:17:30.370825",
     "exception": false,
     "start_time": "2021-07-07T10:17:30.267775",
     "status": "completed"
    },
    "tags": []
   },
   "outputs": [
    {
     "data": {
      "text/html": [
       "1338.60252410664"
      ],
      "text/latex": [
       "1338.60252410664"
      ],
      "text/markdown": [
       "1338.60252410664"
      ],
      "text/plain": [
       "[1] 1338.603"
      ]
     },
     "metadata": {},
     "output_type": "display_data"
    },
    {
     "data": {
      "text/html": [
       "540"
      ],
      "text/latex": [
       "540"
      ],
      "text/markdown": [
       "540"
      ],
      "text/plain": [
       "[1] 540"
      ]
     },
     "metadata": {},
     "output_type": "display_data"
    },
    {
     "data": {
      "text/html": [
       "9387000"
      ],
      "text/latex": [
       "9387000"
      ],
      "text/markdown": [
       "9387000"
      ],
      "text/plain": [
       "[1] 9387000"
      ]
     },
     "metadata": {},
     "output_type": "display_data"
    },
    {
     "data": {
      "text/html": [
       "0"
      ],
      "text/latex": [
       "0"
      ],
      "text/markdown": [
       "0"
      ],
      "text/plain": [
       "[1] 0"
      ]
     },
     "metadata": {},
     "output_type": "display_data"
    },
    {
     "data": {
      "text/html": [
       "37307.2202954861"
      ],
      "text/latex": [
       "37307.2202954861"
      ],
      "text/markdown": [
       "37307.2202954861"
      ],
      "text/plain": [
       "[1] 37307.22"
      ]
     },
     "metadata": {},
     "output_type": "display_data"
    }
   ],
   "source": [
    "mean(dataset_v4$ride_length)                                 #straight average (total ride length / rides)\n",
    "median(dataset_v4$ride_length)                               #midpoint number in the ascending array of ride lengths\n",
    "max(dataset_v4$ride_length)                                  #longest ride\n",
    "min(dataset_v4$ride_length)                                  #shortest ride\n",
    "sd(dataset_v4$ride_length)                                   #standard deviation"
   ]
  },
  {
   "cell_type": "markdown",
   "id": "93f0d22c",
   "metadata": {
    "papermill": {
     "duration": 0.047019,
     "end_time": "2021-07-07T10:17:30.465026",
     "exception": false,
     "start_time": "2021-07-07T10:17:30.418007",
     "status": "completed"
    },
    "tags": []
   },
   "source": [
    "condensing the four lines above to one line using summary() on the specific attribute"
   ]
  },
  {
   "cell_type": "code",
   "execution_count": 23,
   "id": "15d5f63f",
   "metadata": {
    "execution": {
     "iopub.execute_input": "2021-07-07T10:17:30.565061Z",
     "iopub.status.busy": "2021-07-07T10:17:30.563826Z",
     "iopub.status.idle": "2021-07-07T10:17:30.685090Z",
     "shell.execute_reply": "2021-07-07T10:17:30.683855Z"
    },
    "papermill": {
     "duration": 0.172487,
     "end_time": "2021-07-07T10:17:30.685216",
     "exception": false,
     "start_time": "2021-07-07T10:17:30.512729",
     "status": "completed"
    },
    "tags": []
   },
   "outputs": [
    {
     "data": {
      "text/plain": [
       "   Min. 1st Qu.  Median    Mean 3rd Qu.    Max. \n",
       "      0     360     540    1339     960 9387000 "
      ]
     },
     "metadata": {},
     "output_type": "display_data"
    }
   ],
   "source": [
    "summary(dataset_v4$ride_length)"
   ]
  },
  {
   "cell_type": "markdown",
   "id": "29f1c73c",
   "metadata": {
    "papermill": {
     "duration": 0.047804,
     "end_time": "2021-07-07T10:17:30.779731",
     "exception": false,
     "start_time": "2021-07-07T10:17:30.731927",
     "status": "completed"
    },
    "tags": []
   },
   "source": [
    "Comparing members and casual users"
   ]
  },
  {
   "cell_type": "code",
   "execution_count": 24,
   "id": "e9c5550c",
   "metadata": {
    "execution": {
     "iopub.execute_input": "2021-07-07T10:17:30.879795Z",
     "iopub.status.busy": "2021-07-07T10:17:30.878518Z",
     "iopub.status.idle": "2021-07-07T10:17:32.447725Z",
     "shell.execute_reply": "2021-07-07T10:17:32.446258Z"
    },
    "papermill": {
     "duration": 1.620784,
     "end_time": "2021-07-07T10:17:32.447914",
     "exception": false,
     "start_time": "2021-07-07T10:17:30.827130",
     "status": "completed"
    },
    "tags": []
   },
   "outputs": [
    {
     "data": {
      "text/html": [
       "<table class=\"dataframe\">\n",
       "<caption>A data.frame: 2 × 2</caption>\n",
       "<thead>\n",
       "\t<tr><th scope=col>dataset_v4$member_casual</th><th scope=col>dataset_v4$ride_length</th></tr>\n",
       "\t<tr><th scope=col>&lt;chr&gt;</th><th scope=col>&lt;dbl&gt;</th></tr>\n",
       "</thead>\n",
       "<tbody>\n",
       "\t<tr><td>casual</td><td>6230.7116</td></tr>\n",
       "\t<tr><td>member</td><td> 760.5309</td></tr>\n",
       "</tbody>\n",
       "</table>\n"
      ],
      "text/latex": [
       "A data.frame: 2 × 2\n",
       "\\begin{tabular}{ll}\n",
       " dataset\\_v4\\$member\\_casual & dataset\\_v4\\$ride\\_length\\\\\n",
       " <chr> & <dbl>\\\\\n",
       "\\hline\n",
       "\t casual & 6230.7116\\\\\n",
       "\t member &  760.5309\\\\\n",
       "\\end{tabular}\n"
      ],
      "text/markdown": [
       "\n",
       "A data.frame: 2 × 2\n",
       "\n",
       "| dataset_v4$member_casual &lt;chr&gt; | dataset_v4$ride_length &lt;dbl&gt; |\n",
       "|---|---|\n",
       "| casual | 6230.7116 |\n",
       "| member |  760.5309 |\n",
       "\n"
      ],
      "text/plain": [
       "  dataset_v4$member_casual dataset_v4$ride_length\n",
       "1 casual                   6230.7116             \n",
       "2 member                    760.5309             "
      ]
     },
     "metadata": {},
     "output_type": "display_data"
    },
    {
     "data": {
      "text/html": [
       "<table class=\"dataframe\">\n",
       "<caption>A data.frame: 2 × 2</caption>\n",
       "<thead>\n",
       "\t<tr><th scope=col>dataset_v4$member_casual</th><th scope=col>dataset_v4$ride_length</th></tr>\n",
       "\t<tr><th scope=col>&lt;chr&gt;</th><th scope=col>&lt;dbl&gt;</th></tr>\n",
       "</thead>\n",
       "<tbody>\n",
       "\t<tr><td>casual</td><td>1380</td></tr>\n",
       "\t<tr><td>member</td><td> 540</td></tr>\n",
       "</tbody>\n",
       "</table>\n"
      ],
      "text/latex": [
       "A data.frame: 2 × 2\n",
       "\\begin{tabular}{ll}\n",
       " dataset\\_v4\\$member\\_casual & dataset\\_v4\\$ride\\_length\\\\\n",
       " <chr> & <dbl>\\\\\n",
       "\\hline\n",
       "\t casual & 1380\\\\\n",
       "\t member &  540\\\\\n",
       "\\end{tabular}\n"
      ],
      "text/markdown": [
       "\n",
       "A data.frame: 2 × 2\n",
       "\n",
       "| dataset_v4$member_casual &lt;chr&gt; | dataset_v4$ride_length &lt;dbl&gt; |\n",
       "|---|---|\n",
       "| casual | 1380 |\n",
       "| member |  540 |\n",
       "\n"
      ],
      "text/plain": [
       "  dataset_v4$member_casual dataset_v4$ride_length\n",
       "1 casual                   1380                  \n",
       "2 member                    540                  "
      ]
     },
     "metadata": {},
     "output_type": "display_data"
    },
    {
     "data": {
      "text/html": [
       "<table class=\"dataframe\">\n",
       "<caption>A data.frame: 2 × 2</caption>\n",
       "<thead>\n",
       "\t<tr><th scope=col>dataset_v4$member_casual</th><th scope=col>dataset_v4$ride_length</th></tr>\n",
       "\t<tr><th scope=col>&lt;chr&gt;</th><th scope=col>&lt;dbl&gt;</th></tr>\n",
       "</thead>\n",
       "<tbody>\n",
       "\t<tr><td>casual</td><td>9387000</td></tr>\n",
       "\t<tr><td>member</td><td>5627640</td></tr>\n",
       "</tbody>\n",
       "</table>\n"
      ],
      "text/latex": [
       "A data.frame: 2 × 2\n",
       "\\begin{tabular}{ll}\n",
       " dataset\\_v4\\$member\\_casual & dataset\\_v4\\$ride\\_length\\\\\n",
       " <chr> & <dbl>\\\\\n",
       "\\hline\n",
       "\t casual & 9387000\\\\\n",
       "\t member & 5627640\\\\\n",
       "\\end{tabular}\n"
      ],
      "text/markdown": [
       "\n",
       "A data.frame: 2 × 2\n",
       "\n",
       "| dataset_v4$member_casual &lt;chr&gt; | dataset_v4$ride_length &lt;dbl&gt; |\n",
       "|---|---|\n",
       "| casual | 9387000 |\n",
       "| member | 5627640 |\n",
       "\n"
      ],
      "text/plain": [
       "  dataset_v4$member_casual dataset_v4$ride_length\n",
       "1 casual                   9387000               \n",
       "2 member                   5627640               "
      ]
     },
     "metadata": {},
     "output_type": "display_data"
    },
    {
     "data": {
      "text/html": [
       "<table class=\"dataframe\">\n",
       "<caption>A data.frame: 2 × 2</caption>\n",
       "<thead>\n",
       "\t<tr><th scope=col>dataset_v4$member_casual</th><th scope=col>dataset_v4$ride_length</th></tr>\n",
       "\t<tr><th scope=col>&lt;chr&gt;</th><th scope=col>&lt;dbl&gt;</th></tr>\n",
       "</thead>\n",
       "<tbody>\n",
       "\t<tr><td>casual</td><td>0</td></tr>\n",
       "\t<tr><td>member</td><td>0</td></tr>\n",
       "</tbody>\n",
       "</table>\n"
      ],
      "text/latex": [
       "A data.frame: 2 × 2\n",
       "\\begin{tabular}{ll}\n",
       " dataset\\_v4\\$member\\_casual & dataset\\_v4\\$ride\\_length\\\\\n",
       " <chr> & <dbl>\\\\\n",
       "\\hline\n",
       "\t casual & 0\\\\\n",
       "\t member & 0\\\\\n",
       "\\end{tabular}\n"
      ],
      "text/markdown": [
       "\n",
       "A data.frame: 2 × 2\n",
       "\n",
       "| dataset_v4$member_casual &lt;chr&gt; | dataset_v4$ride_length &lt;dbl&gt; |\n",
       "|---|---|\n",
       "| casual | 0 |\n",
       "| member | 0 |\n",
       "\n"
      ],
      "text/plain": [
       "  dataset_v4$member_casual dataset_v4$ride_length\n",
       "1 casual                   0                     \n",
       "2 member                   0                     "
      ]
     },
     "metadata": {},
     "output_type": "display_data"
    },
    {
     "data": {
      "text/html": [
       "<table class=\"dataframe\">\n",
       "<caption>A data.frame: 2 × 2</caption>\n",
       "<thead>\n",
       "\t<tr><th scope=col>dataset_v4$member_casual</th><th scope=col>dataset_v4$ride_length</th></tr>\n",
       "\t<tr><th scope=col>&lt;chr&gt;</th><th scope=col>&lt;dbl&gt;</th></tr>\n",
       "</thead>\n",
       "<tbody>\n",
       "\t<tr><td>casual</td><td>107435.20</td></tr>\n",
       "\t<tr><td>member</td><td> 13757.55</td></tr>\n",
       "</tbody>\n",
       "</table>\n"
      ],
      "text/latex": [
       "A data.frame: 2 × 2\n",
       "\\begin{tabular}{ll}\n",
       " dataset\\_v4\\$member\\_casual & dataset\\_v4\\$ride\\_length\\\\\n",
       " <chr> & <dbl>\\\\\n",
       "\\hline\n",
       "\t casual & 107435.20\\\\\n",
       "\t member &  13757.55\\\\\n",
       "\\end{tabular}\n"
      ],
      "text/markdown": [
       "\n",
       "A data.frame: 2 × 2\n",
       "\n",
       "| dataset_v4$member_casual &lt;chr&gt; | dataset_v4$ride_length &lt;dbl&gt; |\n",
       "|---|---|\n",
       "| casual | 107435.20 |\n",
       "| member |  13757.55 |\n",
       "\n"
      ],
      "text/plain": [
       "  dataset_v4$member_casual dataset_v4$ride_length\n",
       "1 casual                   107435.20             \n",
       "2 member                    13757.55             "
      ]
     },
     "metadata": {},
     "output_type": "display_data"
    }
   ],
   "source": [
    "aggregate(dataset_v4$ride_length ~ dataset_v4$member_casual, FUN = mean)\n",
    "aggregate(dataset_v4$ride_length ~ dataset_v4$member_casual, FUN = median)\n",
    "aggregate(dataset_v4$ride_length ~ dataset_v4$member_casual, FUN = max)\n",
    "aggregate(dataset_v4$ride_length ~ dataset_v4$member_casual, FUN = min)\n",
    "aggregate(dataset_v4$ride_length ~ dataset_v4$member_casual, FUN = sd)"
   ]
  },
  {
   "cell_type": "markdown",
   "id": "1d023bb0",
   "metadata": {
    "papermill": {
     "duration": 0.052349,
     "end_time": "2021-07-07T10:17:32.552836",
     "exception": false,
     "start_time": "2021-07-07T10:17:32.500487",
     "status": "completed"
    },
    "tags": []
   },
   "source": [
    "Aggregating the average ride time by each day for members vs casual users"
   ]
  },
  {
   "cell_type": "code",
   "execution_count": 25,
   "id": "f8f6f6f4",
   "metadata": {
    "execution": {
     "iopub.execute_input": "2021-07-07T10:17:32.660999Z",
     "iopub.status.busy": "2021-07-07T10:17:32.659408Z",
     "iopub.status.idle": "2021-07-07T10:17:33.152147Z",
     "shell.execute_reply": "2021-07-07T10:17:33.150777Z"
    },
    "papermill": {
     "duration": 0.548478,
     "end_time": "2021-07-07T10:17:33.152296",
     "exception": false,
     "start_time": "2021-07-07T10:17:32.603818",
     "status": "completed"
    },
    "tags": []
   },
   "outputs": [
    {
     "data": {
      "text/html": [
       "<table class=\"dataframe\">\n",
       "<caption>A data.frame: 14 × 3</caption>\n",
       "<thead>\n",
       "\t<tr><th scope=col>dataset_v4$member_casual</th><th scope=col>dataset_v4$day_of_week</th><th scope=col>dataset_v4$ride_length</th></tr>\n",
       "\t<tr><th scope=col>&lt;chr&gt;</th><th scope=col>&lt;chr&gt;</th><th scope=col>&lt;dbl&gt;</th></tr>\n",
       "</thead>\n",
       "<tbody>\n",
       "\t<tr><td>casual</td><td>Friday   </td><td>7907.7232</td></tr>\n",
       "\t<tr><td>member</td><td>Friday   </td><td> 757.1129</td></tr>\n",
       "\t<tr><td>casual</td><td>Monday   </td><td>5818.3779</td></tr>\n",
       "\t<tr><td>member</td><td>Monday   </td><td> 778.4642</td></tr>\n",
       "\t<tr><td>casual</td><td>Saturday </td><td>6017.1257</td></tr>\n",
       "\t<tr><td>member</td><td>Saturday </td><td> 930.0040</td></tr>\n",
       "\t<tr><td>casual</td><td>Sunday   </td><td>5710.5764</td></tr>\n",
       "\t<tr><td>member</td><td>Sunday   </td><td> 949.1458</td></tr>\n",
       "\t<tr><td>casual</td><td>Thursday </td><td>8744.6842</td></tr>\n",
       "\t<tr><td>member</td><td>Thursday </td><td> 693.1972</td></tr>\n",
       "\t<tr><td>casual</td><td>Tuesday  </td><td>5832.1362</td></tr>\n",
       "\t<tr><td>member</td><td>Tuesday  </td><td> 691.9994</td></tr>\n",
       "\t<tr><td>casual</td><td>Wednesday</td><td>5132.4053</td></tr>\n",
       "\t<tr><td>member</td><td>Wednesday</td><td> 699.4829</td></tr>\n",
       "</tbody>\n",
       "</table>\n"
      ],
      "text/latex": [
       "A data.frame: 14 × 3\n",
       "\\begin{tabular}{lll}\n",
       " dataset\\_v4\\$member\\_casual & dataset\\_v4\\$day\\_of\\_week & dataset\\_v4\\$ride\\_length\\\\\n",
       " <chr> & <chr> & <dbl>\\\\\n",
       "\\hline\n",
       "\t casual & Friday    & 7907.7232\\\\\n",
       "\t member & Friday    &  757.1129\\\\\n",
       "\t casual & Monday    & 5818.3779\\\\\n",
       "\t member & Monday    &  778.4642\\\\\n",
       "\t casual & Saturday  & 6017.1257\\\\\n",
       "\t member & Saturday  &  930.0040\\\\\n",
       "\t casual & Sunday    & 5710.5764\\\\\n",
       "\t member & Sunday    &  949.1458\\\\\n",
       "\t casual & Thursday  & 8744.6842\\\\\n",
       "\t member & Thursday  &  693.1972\\\\\n",
       "\t casual & Tuesday   & 5832.1362\\\\\n",
       "\t member & Tuesday   &  691.9994\\\\\n",
       "\t casual & Wednesday & 5132.4053\\\\\n",
       "\t member & Wednesday &  699.4829\\\\\n",
       "\\end{tabular}\n"
      ],
      "text/markdown": [
       "\n",
       "A data.frame: 14 × 3\n",
       "\n",
       "| dataset_v4$member_casual &lt;chr&gt; | dataset_v4$day_of_week &lt;chr&gt; | dataset_v4$ride_length &lt;dbl&gt; |\n",
       "|---|---|---|\n",
       "| casual | Friday    | 7907.7232 |\n",
       "| member | Friday    |  757.1129 |\n",
       "| casual | Monday    | 5818.3779 |\n",
       "| member | Monday    |  778.4642 |\n",
       "| casual | Saturday  | 6017.1257 |\n",
       "| member | Saturday  |  930.0040 |\n",
       "| casual | Sunday    | 5710.5764 |\n",
       "| member | Sunday    |  949.1458 |\n",
       "| casual | Thursday  | 8744.6842 |\n",
       "| member | Thursday  |  693.1972 |\n",
       "| casual | Tuesday   | 5832.1362 |\n",
       "| member | Tuesday   |  691.9994 |\n",
       "| casual | Wednesday | 5132.4053 |\n",
       "| member | Wednesday |  699.4829 |\n",
       "\n"
      ],
      "text/plain": [
       "   dataset_v4$member_casual dataset_v4$day_of_week dataset_v4$ride_length\n",
       "1  casual                   Friday                 7907.7232             \n",
       "2  member                   Friday                  757.1129             \n",
       "3  casual                   Monday                 5818.3779             \n",
       "4  member                   Monday                  778.4642             \n",
       "5  casual                   Saturday               6017.1257             \n",
       "6  member                   Saturday                930.0040             \n",
       "7  casual                   Sunday                 5710.5764             \n",
       "8  member                   Sunday                  949.1458             \n",
       "9  casual                   Thursday               8744.6842             \n",
       "10 member                   Thursday                693.1972             \n",
       "11 casual                   Tuesday                5832.1362             \n",
       "12 member                   Tuesday                 691.9994             \n",
       "13 casual                   Wednesday              5132.4053             \n",
       "14 member                   Wednesday               699.4829             "
      ]
     },
     "metadata": {},
     "output_type": "display_data"
    }
   ],
   "source": [
    "aggregate(dataset_v4$ride_length ~ dataset_v4$member_casual + dataset_v4$day_of_week, FUN = mean)"
   ]
  },
  {
   "cell_type": "markdown",
   "id": "e9ad634a",
   "metadata": {
    "papermill": {
     "duration": 0.053558,
     "end_time": "2021-07-07T10:17:33.259766",
     "exception": false,
     "start_time": "2021-07-07T10:17:33.206208",
     "status": "completed"
    },
    "tags": []
   },
   "source": [
    "From the above table, it can be seen that the days of the week are out of order. \n",
    "Let's fix that."
   ]
  },
  {
   "cell_type": "code",
   "execution_count": 26,
   "id": "261945c2",
   "metadata": {
    "execution": {
     "iopub.execute_input": "2021-07-07T10:17:33.370993Z",
     "iopub.status.busy": "2021-07-07T10:17:33.369697Z",
     "iopub.status.idle": "2021-07-07T10:17:33.390583Z",
     "shell.execute_reply": "2021-07-07T10:17:33.389306Z"
    },
    "papermill": {
     "duration": 0.077017,
     "end_time": "2021-07-07T10:17:33.390748",
     "exception": false,
     "start_time": "2021-07-07T10:17:33.313731",
     "status": "completed"
    },
    "tags": []
   },
   "outputs": [],
   "source": [
    "dataset_v4$day_of_week <- ordered(dataset_v4$day_of_week, levels=c(\"Sunday\", \"Monday\", \"Tuesday\", \"Wednesday\", \"Thursday\", \"Friday\", \"Saturday\"))"
   ]
  },
  {
   "cell_type": "markdown",
   "id": "03b1b85f",
   "metadata": {
    "papermill": {
     "duration": 0.051828,
     "end_time": "2021-07-07T10:17:33.494555",
     "exception": false,
     "start_time": "2021-07-07T10:17:33.442727",
     "status": "completed"
    },
    "tags": []
   },
   "source": [
    "Now, let's run the average ride time by each day for members vs casual users"
   ]
  },
  {
   "cell_type": "code",
   "execution_count": 27,
   "id": "37e600d8",
   "metadata": {
    "execution": {
     "iopub.execute_input": "2021-07-07T10:17:33.604554Z",
     "iopub.status.busy": "2021-07-07T10:17:33.602948Z",
     "iopub.status.idle": "2021-07-07T10:17:33.929231Z",
     "shell.execute_reply": "2021-07-07T10:17:33.927760Z"
    },
    "papermill": {
     "duration": 0.381428,
     "end_time": "2021-07-07T10:17:33.929363",
     "exception": false,
     "start_time": "2021-07-07T10:17:33.547935",
     "status": "completed"
    },
    "tags": []
   },
   "outputs": [
    {
     "data": {
      "text/html": [
       "<table class=\"dataframe\">\n",
       "<caption>A data.frame: 14 × 3</caption>\n",
       "<thead>\n",
       "\t<tr><th scope=col>dataset_v4$member_casual</th><th scope=col>dataset_v4$day_of_week</th><th scope=col>dataset_v4$ride_length</th></tr>\n",
       "\t<tr><th scope=col>&lt;chr&gt;</th><th scope=col>&lt;ord&gt;</th><th scope=col>&lt;dbl&gt;</th></tr>\n",
       "</thead>\n",
       "<tbody>\n",
       "\t<tr><td>casual</td><td>Sunday   </td><td>5710.5764</td></tr>\n",
       "\t<tr><td>member</td><td>Sunday   </td><td> 949.1458</td></tr>\n",
       "\t<tr><td>casual</td><td>Monday   </td><td>5818.3779</td></tr>\n",
       "\t<tr><td>member</td><td>Monday   </td><td> 778.4642</td></tr>\n",
       "\t<tr><td>casual</td><td>Tuesday  </td><td>5832.1362</td></tr>\n",
       "\t<tr><td>member</td><td>Tuesday  </td><td> 691.9994</td></tr>\n",
       "\t<tr><td>casual</td><td>Wednesday</td><td>5132.4053</td></tr>\n",
       "\t<tr><td>member</td><td>Wednesday</td><td> 699.4829</td></tr>\n",
       "\t<tr><td>casual</td><td>Thursday </td><td>8744.6842</td></tr>\n",
       "\t<tr><td>member</td><td>Thursday </td><td> 693.1972</td></tr>\n",
       "\t<tr><td>casual</td><td>Friday   </td><td>7907.7232</td></tr>\n",
       "\t<tr><td>member</td><td>Friday   </td><td> 757.1129</td></tr>\n",
       "\t<tr><td>casual</td><td>Saturday </td><td>6017.1257</td></tr>\n",
       "\t<tr><td>member</td><td>Saturday </td><td> 930.0040</td></tr>\n",
       "</tbody>\n",
       "</table>\n"
      ],
      "text/latex": [
       "A data.frame: 14 × 3\n",
       "\\begin{tabular}{lll}\n",
       " dataset\\_v4\\$member\\_casual & dataset\\_v4\\$day\\_of\\_week & dataset\\_v4\\$ride\\_length\\\\\n",
       " <chr> & <ord> & <dbl>\\\\\n",
       "\\hline\n",
       "\t casual & Sunday    & 5710.5764\\\\\n",
       "\t member & Sunday    &  949.1458\\\\\n",
       "\t casual & Monday    & 5818.3779\\\\\n",
       "\t member & Monday    &  778.4642\\\\\n",
       "\t casual & Tuesday   & 5832.1362\\\\\n",
       "\t member & Tuesday   &  691.9994\\\\\n",
       "\t casual & Wednesday & 5132.4053\\\\\n",
       "\t member & Wednesday &  699.4829\\\\\n",
       "\t casual & Thursday  & 8744.6842\\\\\n",
       "\t member & Thursday  &  693.1972\\\\\n",
       "\t casual & Friday    & 7907.7232\\\\\n",
       "\t member & Friday    &  757.1129\\\\\n",
       "\t casual & Saturday  & 6017.1257\\\\\n",
       "\t member & Saturday  &  930.0040\\\\\n",
       "\\end{tabular}\n"
      ],
      "text/markdown": [
       "\n",
       "A data.frame: 14 × 3\n",
       "\n",
       "| dataset_v4$member_casual &lt;chr&gt; | dataset_v4$day_of_week &lt;ord&gt; | dataset_v4$ride_length &lt;dbl&gt; |\n",
       "|---|---|---|\n",
       "| casual | Sunday    | 5710.5764 |\n",
       "| member | Sunday    |  949.1458 |\n",
       "| casual | Monday    | 5818.3779 |\n",
       "| member | Monday    |  778.4642 |\n",
       "| casual | Tuesday   | 5832.1362 |\n",
       "| member | Tuesday   |  691.9994 |\n",
       "| casual | Wednesday | 5132.4053 |\n",
       "| member | Wednesday |  699.4829 |\n",
       "| casual | Thursday  | 8744.6842 |\n",
       "| member | Thursday  |  693.1972 |\n",
       "| casual | Friday    | 7907.7232 |\n",
       "| member | Friday    |  757.1129 |\n",
       "| casual | Saturday  | 6017.1257 |\n",
       "| member | Saturday  |  930.0040 |\n",
       "\n"
      ],
      "text/plain": [
       "   dataset_v4$member_casual dataset_v4$day_of_week dataset_v4$ride_length\n",
       "1  casual                   Sunday                 5710.5764             \n",
       "2  member                   Sunday                  949.1458             \n",
       "3  casual                   Monday                 5818.3779             \n",
       "4  member                   Monday                  778.4642             \n",
       "5  casual                   Tuesday                5832.1362             \n",
       "6  member                   Tuesday                 691.9994             \n",
       "7  casual                   Wednesday              5132.4053             \n",
       "8  member                   Wednesday               699.4829             \n",
       "9  casual                   Thursday               8744.6842             \n",
       "10 member                   Thursday                693.1972             \n",
       "11 casual                   Friday                 7907.7232             \n",
       "12 member                   Friday                  757.1129             \n",
       "13 casual                   Saturday               6017.1257             \n",
       "14 member                   Saturday                930.0040             "
      ]
     },
     "metadata": {},
     "output_type": "display_data"
    }
   ],
   "source": [
    "aggregate(dataset_v4$ride_length ~ dataset_v4$member_casual + dataset_v4$day_of_week, FUN = mean)"
   ]
  },
  {
   "cell_type": "markdown",
   "id": "e859bbf6",
   "metadata": {
    "papermill": {
     "duration": 0.052732,
     "end_time": "2021-07-07T10:17:34.035598",
     "exception": false,
     "start_time": "2021-07-07T10:17:33.982866",
     "status": "completed"
    },
    "tags": []
   },
   "source": [
    "Analyzing the ridership data by type and weekday"
   ]
  },
  {
   "cell_type": "code",
   "execution_count": 28,
   "id": "6203489d",
   "metadata": {
    "execution": {
     "iopub.execute_input": "2021-07-07T10:17:34.147839Z",
     "iopub.status.busy": "2021-07-07T10:17:34.146346Z",
     "iopub.status.idle": "2021-07-07T10:17:34.622722Z",
     "shell.execute_reply": "2021-07-07T10:17:34.621337Z"
    },
    "papermill": {
     "duration": 0.533467,
     "end_time": "2021-07-07T10:17:34.622850",
     "exception": false,
     "start_time": "2021-07-07T10:17:34.089383",
     "status": "completed"
    },
    "tags": []
   },
   "outputs": [
    {
     "name": "stderr",
     "output_type": "stream",
     "text": [
      "`summarise()` has grouped output by 'member_casual'. You can override using the `.groups` argument.\n",
      "\n"
     ]
    },
    {
     "data": {
      "text/html": [
       "<table class=\"dataframe\">\n",
       "<caption>A grouped_df: 14 × 4</caption>\n",
       "<thead>\n",
       "\t<tr><th scope=col>member_casual</th><th scope=col>weekday</th><th scope=col>number_of_rides</th><th scope=col>average_duration</th></tr>\n",
       "\t<tr><th scope=col>&lt;chr&gt;</th><th scope=col>&lt;ord&gt;</th><th scope=col>&lt;int&gt;</th><th scope=col>&lt;dbl&gt;</th></tr>\n",
       "</thead>\n",
       "<tbody>\n",
       "\t<tr><td>casual</td><td>Sun</td><td>14886</td><td>5710.5764</td></tr>\n",
       "\t<tr><td>casual</td><td>Mon</td><td> 3699</td><td>5818.3779</td></tr>\n",
       "\t<tr><td>casual</td><td>Tue</td><td> 4583</td><td>5832.1362</td></tr>\n",
       "\t<tr><td>casual</td><td>Wed</td><td> 5201</td><td>5132.4053</td></tr>\n",
       "\t<tr><td>casual</td><td>Thu</td><td> 4227</td><td>8744.6842</td></tr>\n",
       "\t<tr><td>casual</td><td>Fri</td><td> 4638</td><td>7907.7232</td></tr>\n",
       "\t<tr><td>casual</td><td>Sat</td><td> 7480</td><td>6017.1257</td></tr>\n",
       "\t<tr><td>member</td><td>Sun</td><td>35964</td><td> 949.1458</td></tr>\n",
       "\t<tr><td>member</td><td>Mon</td><td>61923</td><td> 778.4642</td></tr>\n",
       "\t<tr><td>member</td><td>Tue</td><td>69697</td><td> 691.9994</td></tr>\n",
       "\t<tr><td>member</td><td>Wed</td><td>63977</td><td> 699.4829</td></tr>\n",
       "\t<tr><td>member</td><td>Thu</td><td>61245</td><td> 693.1972</td></tr>\n",
       "\t<tr><td>member</td><td>Fri</td><td>55496</td><td> 757.1129</td></tr>\n",
       "\t<tr><td>member</td><td>Sat</td><td>30104</td><td> 930.0040</td></tr>\n",
       "</tbody>\n",
       "</table>\n"
      ],
      "text/latex": [
       "A grouped\\_df: 14 × 4\n",
       "\\begin{tabular}{llll}\n",
       " member\\_casual & weekday & number\\_of\\_rides & average\\_duration\\\\\n",
       " <chr> & <ord> & <int> & <dbl>\\\\\n",
       "\\hline\n",
       "\t casual & Sun & 14886 & 5710.5764\\\\\n",
       "\t casual & Mon &  3699 & 5818.3779\\\\\n",
       "\t casual & Tue &  4583 & 5832.1362\\\\\n",
       "\t casual & Wed &  5201 & 5132.4053\\\\\n",
       "\t casual & Thu &  4227 & 8744.6842\\\\\n",
       "\t casual & Fri &  4638 & 7907.7232\\\\\n",
       "\t casual & Sat &  7480 & 6017.1257\\\\\n",
       "\t member & Sun & 35964 &  949.1458\\\\\n",
       "\t member & Mon & 61923 &  778.4642\\\\\n",
       "\t member & Tue & 69697 &  691.9994\\\\\n",
       "\t member & Wed & 63977 &  699.4829\\\\\n",
       "\t member & Thu & 61245 &  693.1972\\\\\n",
       "\t member & Fri & 55496 &  757.1129\\\\\n",
       "\t member & Sat & 30104 &  930.0040\\\\\n",
       "\\end{tabular}\n"
      ],
      "text/markdown": [
       "\n",
       "A grouped_df: 14 × 4\n",
       "\n",
       "| member_casual &lt;chr&gt; | weekday &lt;ord&gt; | number_of_rides &lt;int&gt; | average_duration &lt;dbl&gt; |\n",
       "|---|---|---|---|\n",
       "| casual | Sun | 14886 | 5710.5764 |\n",
       "| casual | Mon |  3699 | 5818.3779 |\n",
       "| casual | Tue |  4583 | 5832.1362 |\n",
       "| casual | Wed |  5201 | 5132.4053 |\n",
       "| casual | Thu |  4227 | 8744.6842 |\n",
       "| casual | Fri |  4638 | 7907.7232 |\n",
       "| casual | Sat |  7480 | 6017.1257 |\n",
       "| member | Sun | 35964 |  949.1458 |\n",
       "| member | Mon | 61923 |  778.4642 |\n",
       "| member | Tue | 69697 |  691.9994 |\n",
       "| member | Wed | 63977 |  699.4829 |\n",
       "| member | Thu | 61245 |  693.1972 |\n",
       "| member | Fri | 55496 |  757.1129 |\n",
       "| member | Sat | 30104 |  930.0040 |\n",
       "\n"
      ],
      "text/plain": [
       "   member_casual weekday number_of_rides average_duration\n",
       "1  casual        Sun     14886           5710.5764       \n",
       "2  casual        Mon      3699           5818.3779       \n",
       "3  casual        Tue      4583           5832.1362       \n",
       "4  casual        Wed      5201           5132.4053       \n",
       "5  casual        Thu      4227           8744.6842       \n",
       "6  casual        Fri      4638           7907.7232       \n",
       "7  casual        Sat      7480           6017.1257       \n",
       "8  member        Sun     35964            949.1458       \n",
       "9  member        Mon     61923            778.4642       \n",
       "10 member        Tue     69697            691.9994       \n",
       "11 member        Wed     63977            699.4829       \n",
       "12 member        Thu     61245            693.1972       \n",
       "13 member        Fri     55496            757.1129       \n",
       "14 member        Sat     30104            930.0040       "
      ]
     },
     "metadata": {},
     "output_type": "display_data"
    }
   ],
   "source": [
    "dataset_v4 %>% \n",
    "  mutate(weekday = wday(started_at, label = TRUE)) %>%              #creates  a new column weekday using wday() function\n",
    "  group_by(member_casual, weekday) %>%                              #groups the dataframe basaed on usertype and weekday\n",
    "  summarise(number_of_rides = n()                                   #calculates the number of rides and average duration \n",
    "            ,average_duration = mean(ride_length)) %>%              #calculates the average duration\n",
    "  arrange(member_casual, weekday)                                   #sorts the dataframe based on member_casual and weekday columns"
   ]
  },
  {
   "cell_type": "markdown",
   "id": "0330745b",
   "metadata": {
    "papermill": {
     "duration": 0.053585,
     "end_time": "2021-07-07T10:17:34.730262",
     "exception": false,
     "start_time": "2021-07-07T10:17:34.676677",
     "status": "completed"
    },
    "tags": []
   },
   "source": [
    "# Visualization\n",
    "Let's visualize the number of rides by rider type"
   ]
  },
  {
   "cell_type": "code",
   "execution_count": 29,
   "id": "33be10ba",
   "metadata": {
    "execution": {
     "iopub.execute_input": "2021-07-07T10:17:34.843628Z",
     "iopub.status.busy": "2021-07-07T10:17:34.841603Z",
     "iopub.status.idle": "2021-07-07T10:17:34.855031Z",
     "shell.execute_reply": "2021-07-07T10:17:34.853434Z"
    },
    "papermill": {
     "duration": 0.071595,
     "end_time": "2021-07-07T10:17:34.855158",
     "exception": false,
     "start_time": "2021-07-07T10:17:34.783563",
     "status": "completed"
    },
    "tags": []
   },
   "outputs": [],
   "source": [
    "options(repr.plot.width = 14, repr.plot.height = 8)           # for adjusting the plot size"
   ]
  },
  {
   "cell_type": "code",
   "execution_count": 30,
   "id": "8847294f",
   "metadata": {
    "execution": {
     "iopub.execute_input": "2021-07-07T10:17:34.988375Z",
     "iopub.status.busy": "2021-07-07T10:17:34.986443Z",
     "iopub.status.idle": "2021-07-07T10:17:36.045385Z",
     "shell.execute_reply": "2021-07-07T10:17:36.044342Z"
    },
    "papermill": {
     "duration": 1.133683,
     "end_time": "2021-07-07T10:17:36.045551",
     "exception": false,
     "start_time": "2021-07-07T10:17:34.911868",
     "status": "completed"
    },
    "tags": []
   },
   "outputs": [
    {
     "name": "stderr",
     "output_type": "stream",
     "text": [
      "`summarise()` has grouped output by 'member_casual'. You can override using the `.groups` argument.\n",
      "\n"
     ]
    },
    {
     "data": {
      "image/png": "[encoded data removed]"
     },
     "metadata": {
      "image/png": {
       "height": 480,
       "width": 840
      }
     },
     "output_type": "display_data"
    }
   ],
   "source": [
    "dataset_v4 %>% \n",
    "  mutate(weekday = wday(started_at, label = TRUE)) %>% \n",
    "  group_by(member_casual, weekday) %>% \n",
    "  summarise(number_of_rides = n()\n",
    "            ,average_duration = mean(ride_length)) %>% \n",
    "  arrange(member_casual, weekday)  %>% \n",
    "  ggplot(aes(x = weekday, y = number_of_rides, fill = member_casual)) +\n",
    "  geom_col(position = \"dodge\") +\n",
    "  labs(title = \"Bar graph between weekday and number_of_rides for casual and member\") +\n",
    "  theme(text = element_text(size = 20))\n",
    "  "
   ]
  },
  {
   "cell_type": "markdown",
   "id": "74dc5cd4",
   "metadata": {
    "papermill": {
     "duration": 0.05448,
     "end_time": "2021-07-07T10:17:36.156291",
     "exception": false,
     "start_time": "2021-07-07T10:17:36.101811",
     "status": "completed"
    },
    "tags": []
   },
   "source": [
    "From the above graph it can be deduced that, casual riders are mostly active during weekdays i.e. Monday to Friday.\n",
    "Whereas on weekends (saturday and sunday), they are comparatively less active. A priliminary hypothesis can be made that, casual members mostly consists of working class people whose prime objective is to ride between work places and they find the cyclistic bikes convenient.\n",
    "\n",
    "As for the members, the graph shows an almost constant behavior during weekdays but some rise during weekends. This could be because the members have more non working class people like- children, old people etc."
   ]
  },
  {
   "cell_type": "markdown",
   "id": "09f746d1",
   "metadata": {
    "papermill": {
     "duration": 0.054263,
     "end_time": "2021-07-07T10:17:36.265552",
     "exception": false,
     "start_time": "2021-07-07T10:17:36.211289",
     "status": "completed"
    },
    "tags": []
   },
   "source": [
    "Let's create a visualization for average duration"
   ]
  },
  {
   "cell_type": "code",
   "execution_count": 31,
   "id": "54030e4e",
   "metadata": {
    "execution": {
     "iopub.execute_input": "2021-07-07T10:17:36.382168Z",
     "iopub.status.busy": "2021-07-07T10:17:36.380151Z",
     "iopub.status.idle": "2021-07-07T10:17:36.393428Z",
     "shell.execute_reply": "2021-07-07T10:17:36.392038Z"
    },
    "papermill": {
     "duration": 0.072632,
     "end_time": "2021-07-07T10:17:36.393587",
     "exception": false,
     "start_time": "2021-07-07T10:17:36.320955",
     "status": "completed"
    },
    "tags": []
   },
   "outputs": [],
   "source": [
    "options(repr.plot.width = 14, repr.plot.height = 8)"
   ]
  },
  {
   "cell_type": "code",
   "execution_count": 32,
   "id": "f6691fe5",
   "metadata": {
    "execution": {
     "iopub.execute_input": "2021-07-07T10:17:36.509827Z",
     "iopub.status.busy": "2021-07-07T10:17:36.507874Z",
     "iopub.status.idle": "2021-07-07T10:17:37.324805Z",
     "shell.execute_reply": "2021-07-07T10:17:37.323993Z"
    },
    "papermill": {
     "duration": 0.875484,
     "end_time": "2021-07-07T10:17:37.324949",
     "exception": false,
     "start_time": "2021-07-07T10:17:36.449465",
     "status": "completed"
    },
    "tags": []
   },
   "outputs": [
    {
     "name": "stderr",
     "output_type": "stream",
     "text": [
      "`summarise()` has grouped output by 'member_casual'. You can override using the `.groups` argument.\n",
      "\n"
     ]
    },
    {
     "data": {
      "image/png": "[encoded data removed]"
     },
     "metadata": {
      "image/png": {
       "height": 480,
       "width": 840
      }
     },
     "output_type": "display_data"
    }
   ],
   "source": [
    "dataset_v4 %>% \n",
    "  mutate(weekday = wday(started_at, label = TRUE)) %>% \n",
    "  group_by(member_casual, weekday) %>% \n",
    "  summarise(number_of_rides = n()\n",
    "            ,average_duration = mean(ride_length)) %>% \n",
    "  arrange(member_casual, weekday)  %>% \n",
    "  ggplot(aes(x = weekday, y = average_duration, fill = member_casual)) +\n",
    "  geom_col(position = \"dodge\") +\n",
    "  labs(title = \"Bar graph between weekday and average_duration for casual and member\") +\n",
    "  theme(text = element_text(size = 20))"
   ]
  },
  {
   "cell_type": "markdown",
   "id": "4be9d499",
   "metadata": {
    "papermill": {
     "duration": 0.056143,
     "end_time": "2021-07-07T10:17:37.438226",
     "exception": false,
     "start_time": "2021-07-07T10:17:37.382083",
     "status": "completed"
    },
    "tags": []
   },
   "source": [
    "## Key Findings:\n",
    "\n",
    "How do annual members and casual riders use Cyclistic bikes differently?\n",
    "\n",
    "* Annual members are less active during weekdays but more active during weekends.\n",
    "* Casual members are more active during weekdays but less active during weekends.\n",
    "\n"
   ]
  }
 ],
 "metadata": {
  "kernelspec": {
   "display_name": "R",
   "language": "R",
   "name": "ir"
  },
  "language_info": {
   "codemirror_mode": "r",
   "file_extension": ".r",
   "mimetype": "text/x-r-source",
   "name": "R",
   "pygments_lexer": "r",
   "version": "4.0.5"
  },
  "papermill": {
   "default_parameters": {},
   "duration": 20.264797,
   "end_time": "2021-07-07T10:17:37.602704",
   "environment_variables": {},
   "exception": null,
   "input_path": "__notebook__.ipynb",
   "output_path": "__notebook__.ipynb",
   "parameters": {},
   "start_time": "2021-07-07T10:17:17.337907",
   "version": "2.3.3"
  }
 },
 "nbformat": 4,
 "nbformat_minor": 5
}
